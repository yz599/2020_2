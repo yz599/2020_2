{
 "cells": [
  {
   "cell_type": "markdown",
   "metadata": {},
   "source": [
    "## Pandas\n",
    "https://study.163.com/course/courseLearn.htm?courseId=1209966922#/learn/video?lessonId=1280724283&courseId=1209966922"
   ]
  },
  {
   "cell_type": "markdown",
   "metadata": {
    "pycharm": {
     "name": "#%% md\n"
    }
   },
   "source": [
    "### Datatype\n",
    "##### pd.Series\n",
    "- a column of dataFrame\n",
    "- argument\n",
    " - data,(list,dict,scalar,np.array)\n",
    " - index,\n",
    " - dtype"
   ]
  },
  {
   "cell_type": "code",
   "execution_count": 1,
   "metadata": {},
   "outputs": [],
   "source": [
    "import pandas as pd\n"
   ]
  },
  {
   "cell_type": "code",
   "execution_count": 2,
   "metadata": {},
   "outputs": [
    {
     "data": {
      "text/plain": [
       "0    1\n",
       "1    2\n",
       "2    3\n",
       "dtype: int64"
      ]
     },
     "execution_count": 2,
     "metadata": {},
     "output_type": "execute_result"
    }
   ],
   "source": [
    "s=pd.Series([1,2,3])\n",
    "\n",
    "s"
   ]
  },
  {
   "cell_type": "code",
   "execution_count": 3,
   "metadata": {},
   "outputs": [
    {
     "data": {
      "text/plain": [
       "a    1\n",
       "b    2\n",
       "c    3\n",
       "Name: num, dtype: int64"
      ]
     },
     "execution_count": 3,
     "metadata": {},
     "output_type": "execute_result"
    }
   ],
   "source": [
    "s=pd.Series([1,2,3]\n",
    "            ,index=list('abc')\n",
    "            ,dtype='int64'\n",
    "            ,name='num')\n",
    "s"
   ]
  },
  {
   "cell_type": "code",
   "execution_count": 4,
   "metadata": {
    "pycharm": {
     "name": "#%%\n"
    }
   },
   "outputs": [
    {
     "data": {
      "text/plain": [
       "a    3.0\n",
       "b    3.0\n",
       "c    3.0\n",
       "dtype: float64"
      ]
     },
     "execution_count": 4,
     "metadata": {},
     "output_type": "execute_result"
    }
   ],
   "source": [
    "s=pd.Series(3.0,index=list('abc'))\n",
    "s"
   ]
  },
  {
   "cell_type": "markdown",
   "metadata": {
    "pycharm": {
     "name": "#%% md\n"
    }
   },
   "source": [
    "#### pd.DataFrame\n",
    "- data\n",
    "- index\n",
    "- column"
   ]
  },
  {
   "cell_type": "code",
   "execution_count": 12,
   "metadata": {
    "pycharm": {
     "name": "#%%\n"
    }
   },
   "outputs": [],
   "source": [
    "list_2d=[[1,2],\n",
    "         [3,4]]\n"
   ]
  },
  {
   "cell_type": "code",
   "execution_count": 13,
   "metadata": {
    "pycharm": {
     "name": "#%%\n"
    }
   },
   "outputs": [
    {
     "data": {
      "text/html": [
       "<div>\n",
       "<style scoped>\n",
       "    .dataframe tbody tr th:only-of-type {\n",
       "        vertical-align: middle;\n",
       "    }\n",
       "\n",
       "    .dataframe tbody tr th {\n",
       "        vertical-align: top;\n",
       "    }\n",
       "\n",
       "    .dataframe thead th {\n",
       "        text-align: right;\n",
       "    }\n",
       "</style>\n",
       "<table border=\"1\" class=\"dataframe\">\n",
       "  <thead>\n",
       "    <tr style=\"text-align: right;\">\n",
       "      <th></th>\n",
       "      <th>0</th>\n",
       "      <th>1</th>\n",
       "    </tr>\n",
       "  </thead>\n",
       "  <tbody>\n",
       "    <tr>\n",
       "      <th>0</th>\n",
       "      <td>1</td>\n",
       "      <td>2</td>\n",
       "    </tr>\n",
       "    <tr>\n",
       "      <th>1</th>\n",
       "      <td>3</td>\n",
       "      <td>4</td>\n",
       "    </tr>\n",
       "  </tbody>\n",
       "</table>\n",
       "</div>"
      ],
      "text/plain": [
       "   0  1\n",
       "0  1  2\n",
       "1  3  4"
      ]
     },
     "execution_count": 13,
     "metadata": {},
     "output_type": "execute_result"
    }
   ],
   "source": [
    "df=pd.DataFrame(list_2d)\n",
    "df\n"
   ]
  },
  {
   "cell_type": "code",
   "execution_count": 15,
   "metadata": {
    "pycharm": {
     "name": "#%%\n"
    }
   },
   "outputs": [
    {
     "data": {
      "text/html": [
       "<div>\n",
       "<style scoped>\n",
       "    .dataframe tbody tr th:only-of-type {\n",
       "        vertical-align: middle;\n",
       "    }\n",
       "\n",
       "    .dataframe tbody tr th {\n",
       "        vertical-align: top;\n",
       "    }\n",
       "\n",
       "    .dataframe thead th {\n",
       "        text-align: right;\n",
       "    }\n",
       "</style>\n",
       "<table border=\"1\" class=\"dataframe\">\n",
       "  <thead>\n",
       "    <tr style=\"text-align: right;\">\n",
       "      <th></th>\n",
       "      <th>a</th>\n",
       "      <th>b</th>\n",
       "    </tr>\n",
       "  </thead>\n",
       "  <tbody>\n",
       "    <tr>\n",
       "      <th>x</th>\n",
       "      <td>1</td>\n",
       "      <td>2</td>\n",
       "    </tr>\n",
       "    <tr>\n",
       "      <th>y</th>\n",
       "      <td>3</td>\n",
       "      <td>4</td>\n",
       "    </tr>\n",
       "  </tbody>\n",
       "</table>\n",
       "</div>"
      ],
      "text/plain": [
       "   a  b\n",
       "x  1  2\n",
       "y  3  4"
      ]
     },
     "execution_count": 15,
     "metadata": {},
     "output_type": "execute_result"
    }
   ],
   "source": [
    "df=pd.DataFrame(list_2d,\n",
    "                index=['x','y'],\n",
    "                columns=['a','b'])\n",
    "df"
   ]
  },
  {
   "cell_type": "code",
   "execution_count": 16,
   "metadata": {
    "pycharm": {
     "name": "#%%\n"
    }
   },
   "outputs": [
    {
     "data": {
      "text/html": [
       "<div>\n",
       "<style scoped>\n",
       "    .dataframe tbody tr th:only-of-type {\n",
       "        vertical-align: middle;\n",
       "    }\n",
       "\n",
       "    .dataframe tbody tr th {\n",
       "        vertical-align: top;\n",
       "    }\n",
       "\n",
       "    .dataframe thead th {\n",
       "        text-align: right;\n",
       "    }\n",
       "</style>\n",
       "<table border=\"1\" class=\"dataframe\">\n",
       "  <thead>\n",
       "    <tr style=\"text-align: right;\">\n",
       "      <th></th>\n",
       "      <th>a</th>\n",
       "      <th>b</th>\n",
       "    </tr>\n",
       "  </thead>\n",
       "  <tbody>\n",
       "    <tr>\n",
       "      <th>x</th>\n",
       "      <td>1</td>\n",
       "      <td>2</td>\n",
       "    </tr>\n",
       "    <tr>\n",
       "      <th>y</th>\n",
       "      <td>3</td>\n",
       "      <td>4</td>\n",
       "    </tr>\n",
       "  </tbody>\n",
       "</table>\n",
       "</div>"
      ],
      "text/plain": [
       "   a  b\n",
       "x  1  2\n",
       "y  3  4"
      ]
     },
     "execution_count": 16,
     "metadata": {},
     "output_type": "execute_result"
    }
   ],
   "source": [
    "d={\"a\":[1,3],\"b\":[2,4]}\n",
    "df=pd.DataFrame(d,\n",
    "                index=['x','y'])\n",
    "df"
   ]
  },
  {
   "cell_type": "markdown",
   "metadata": {
    "pycharm": {
     "name": "#%% md\n"
    }
   },
   "source": [
    "### IO\n",
    "- read_excel\n",
    " - IO\n",
    " - sheet_name\n",
    "\n",
    " - header\n",
    " - index_col\n",
    "\n",
    " - usecols\n",
    " - skiprows"
   ]
  },
  {
   "cell_type": "markdown",
   "metadata": {
    "pycharm": {
     "name": "#%% md\n"
    }
   },
   "source": [
    "#### sheet_name\n",
    "- default: <font color='red'>0</font>\n",
    "- int: which sheet to import, starts from 0\n",
    "- str: sheet names\n",
    "- list: [int,string], return <font color='red'>dictionary</font>\n",
    "- None: All the sheets, return <font color='red'>dictionary</font>"
   ]
  },
  {
   "cell_type": "code",
   "execution_count": 1,
   "metadata": {
    "pycharm": {
     "name": "#%%\n"
    }
   },
   "outputs": [
    {
     "data": {
      "text/html": [
       "<div>\n",
       "<style scoped>\n",
       "    .dataframe tbody tr th:only-of-type {\n",
       "        vertical-align: middle;\n",
       "    }\n",
       "\n",
       "    .dataframe tbody tr th {\n",
       "        vertical-align: top;\n",
       "    }\n",
       "\n",
       "    .dataframe thead th {\n",
       "        text-align: right;\n",
       "    }\n",
       "</style>\n",
       "<table border=\"1\" class=\"dataframe\">\n",
       "  <thead>\n",
       "    <tr style=\"text-align: right;\">\n",
       "      <th></th>\n",
       "      <th>货号</th>\n",
       "      <th>商品代码</th>\n",
       "      <th>颜色代码</th>\n",
       "      <th>商品名称</th>\n",
       "      <th>品牌</th>\n",
       "      <th>成本</th>\n",
       "      <th>季节</th>\n",
       "      <th>商品年份</th>\n",
       "      <th>上架日期</th>\n",
       "      <th>上架费</th>\n",
       "      <th>在售</th>\n",
       "    </tr>\n",
       "  </thead>\n",
       "  <tbody>\n",
       "    <tr>\n",
       "      <th>0</th>\n",
       "      <td>QTVW5600</td>\n",
       "      <td>QTVW</td>\n",
       "      <td>5600</td>\n",
       "      <td>羽绒服</td>\n",
       "      <td>A</td>\n",
       "      <td>180</td>\n",
       "      <td>冬季</td>\n",
       "      <td>2018</td>\n",
       "      <td>2018-01-01</td>\n",
       "      <td>1.2</td>\n",
       "      <td>True</td>\n",
       "    </tr>\n",
       "    <tr>\n",
       "      <th>1</th>\n",
       "      <td>AXTB3200</td>\n",
       "      <td>AXTB</td>\n",
       "      <td>3200</td>\n",
       "      <td>棉服</td>\n",
       "      <td>B</td>\n",
       "      <td>90</td>\n",
       "      <td>冬季</td>\n",
       "      <td>2019</td>\n",
       "      <td>2019-01-02</td>\n",
       "      <td>1.2</td>\n",
       "      <td>True</td>\n",
       "    </tr>\n",
       "    <tr>\n",
       "      <th>2</th>\n",
       "      <td>VBOY1800</td>\n",
       "      <td>VBOY</td>\n",
       "      <td>1800</td>\n",
       "      <td>家居服</td>\n",
       "      <td>C</td>\n",
       "      <td>120</td>\n",
       "      <td>冬季</td>\n",
       "      <td>2018</td>\n",
       "      <td>2018-01-01</td>\n",
       "      <td>1.2</td>\n",
       "      <td>True</td>\n",
       "    </tr>\n",
       "    <tr>\n",
       "      <th>3</th>\n",
       "      <td>HWLA4700</td>\n",
       "      <td>HWLA</td>\n",
       "      <td>4700</td>\n",
       "      <td>长袖T恤</td>\n",
       "      <td>A</td>\n",
       "      <td>30</td>\n",
       "      <td>秋季</td>\n",
       "      <td>2020</td>\n",
       "      <td>2020-01-01</td>\n",
       "      <td>1.2</td>\n",
       "      <td>True</td>\n",
       "    </tr>\n",
       "    <tr>\n",
       "      <th>4</th>\n",
       "      <td>XDQV5600</td>\n",
       "      <td>XDQV</td>\n",
       "      <td>5600</td>\n",
       "      <td>卫衣</td>\n",
       "      <td>B</td>\n",
       "      <td>56</td>\n",
       "      <td>春季</td>\n",
       "      <td>2019</td>\n",
       "      <td>2019-01-03</td>\n",
       "      <td>1.2</td>\n",
       "      <td>True</td>\n",
       "    </tr>\n",
       "    <tr>\n",
       "      <th>5</th>\n",
       "      <td>XHQA3700</td>\n",
       "      <td>XHQA</td>\n",
       "      <td>3700</td>\n",
       "      <td>羊毛大衣</td>\n",
       "      <td>C</td>\n",
       "      <td>200</td>\n",
       "      <td>冬季</td>\n",
       "      <td>2018</td>\n",
       "      <td>2018-05-05</td>\n",
       "      <td>1.2</td>\n",
       "      <td>True</td>\n",
       "    </tr>\n",
       "    <tr>\n",
       "      <th>6</th>\n",
       "      <td>UQNA9200</td>\n",
       "      <td>UQNA</td>\n",
       "      <td>9200</td>\n",
       "      <td>毛衣</td>\n",
       "      <td>B</td>\n",
       "      <td>68</td>\n",
       "      <td>春季</td>\n",
       "      <td>2020</td>\n",
       "      <td>2020-03-20</td>\n",
       "      <td>0.8</td>\n",
       "      <td>True</td>\n",
       "    </tr>\n",
       "    <tr>\n",
       "      <th>7</th>\n",
       "      <td>FLHR1800</td>\n",
       "      <td>FLHR</td>\n",
       "      <td>1800</td>\n",
       "      <td>短袖T恤</td>\n",
       "      <td>A</td>\n",
       "      <td>25</td>\n",
       "      <td>夏季</td>\n",
       "      <td>2019</td>\n",
       "      <td>2019-01-01</td>\n",
       "      <td>0.8</td>\n",
       "      <td>False</td>\n",
       "    </tr>\n",
       "    <tr>\n",
       "      <th>8</th>\n",
       "      <td>LCHM9800</td>\n",
       "      <td>LCHM</td>\n",
       "      <td>9800</td>\n",
       "      <td>保暖内衣</td>\n",
       "      <td>B</td>\n",
       "      <td>50</td>\n",
       "      <td>冬季</td>\n",
       "      <td>2018</td>\n",
       "      <td>2018-01-01</td>\n",
       "      <td>0.8</td>\n",
       "      <td>False</td>\n",
       "    </tr>\n",
       "    <tr>\n",
       "      <th>9</th>\n",
       "      <td>AGDH5500</td>\n",
       "      <td>AGDH</td>\n",
       "      <td>5500</td>\n",
       "      <td>牛仔裤</td>\n",
       "      <td>C</td>\n",
       "      <td>80</td>\n",
       "      <td>四季</td>\n",
       "      <td>2019</td>\n",
       "      <td>2019-01-01</td>\n",
       "      <td>0.8</td>\n",
       "      <td>False</td>\n",
       "    </tr>\n",
       "    <tr>\n",
       "      <th>10</th>\n",
       "      <td>YZFM1200</td>\n",
       "      <td>YZFM</td>\n",
       "      <td>1200</td>\n",
       "      <td>夹克</td>\n",
       "      <td>B</td>\n",
       "      <td>70</td>\n",
       "      <td>秋季</td>\n",
       "      <td>2019</td>\n",
       "      <td>2019-01-01</td>\n",
       "      <td>0.8</td>\n",
       "      <td>False</td>\n",
       "    </tr>\n",
       "    <tr>\n",
       "      <th>11</th>\n",
       "      <td>PWDK9200</td>\n",
       "      <td>PWDK</td>\n",
       "      <td>9200</td>\n",
       "      <td>运动长裤</td>\n",
       "      <td>B</td>\n",
       "      <td>60</td>\n",
       "      <td>四季</td>\n",
       "      <td>2020</td>\n",
       "      <td>2020-02-15</td>\n",
       "      <td>0.8</td>\n",
       "      <td>False</td>\n",
       "    </tr>\n",
       "  </tbody>\n",
       "</table>\n",
       "</div>"
      ],
      "text/plain": [
       "          货号  商品代码  颜色代码  商品名称 品牌   成本  季节  商品年份       上架日期  上架费     在售\n",
       "0   QTVW5600  QTVW  5600   羽绒服  A  180  冬季  2018 2018-01-01  1.2   True\n",
       "1   AXTB3200  AXTB  3200    棉服  B   90  冬季  2019 2019-01-02  1.2   True\n",
       "2   VBOY1800  VBOY  1800   家居服  C  120  冬季  2018 2018-01-01  1.2   True\n",
       "3   HWLA4700  HWLA  4700  长袖T恤  A   30  秋季  2020 2020-01-01  1.2   True\n",
       "4   XDQV5600  XDQV  5600    卫衣  B   56  春季  2019 2019-01-03  1.2   True\n",
       "5   XHQA3700  XHQA  3700  羊毛大衣  C  200  冬季  2018 2018-05-05  1.2   True\n",
       "6   UQNA9200  UQNA  9200    毛衣  B   68  春季  2020 2020-03-20  0.8   True\n",
       "7   FLHR1800  FLHR  1800  短袖T恤  A   25  夏季  2019 2019-01-01  0.8  False\n",
       "8   LCHM9800  LCHM  9800  保暖内衣  B   50  冬季  2018 2018-01-01  0.8  False\n",
       "9   AGDH5500  AGDH  5500   牛仔裤  C   80  四季  2019 2019-01-01  0.8  False\n",
       "10  YZFM1200  YZFM  1200    夹克  B   70  秋季  2019 2019-01-01  0.8  False\n",
       "11  PWDK9200  PWDK  9200  运动长裤  B   60  四季  2020 2020-02-15  0.8  False"
      ]
     },
     "execution_count": 1,
     "metadata": {},
     "output_type": "execute_result"
    }
   ],
   "source": [
    "import pandas as pd\n",
    "pd.read_excel('goods_base.xlsx')"
   ]
  },
  {
   "cell_type": "code",
   "execution_count": 8,
   "metadata": {
    "pycharm": {
     "name": "#%%\n"
    }
   },
   "outputs": [
    {
     "data": {
      "text/html": [
       "<div>\n",
       "<style scoped>\n",
       "    .dataframe tbody tr th:only-of-type {\n",
       "        vertical-align: middle;\n",
       "    }\n",
       "\n",
       "    .dataframe tbody tr th {\n",
       "        vertical-align: top;\n",
       "    }\n",
       "\n",
       "    .dataframe thead th {\n",
       "        text-align: right;\n",
       "    }\n",
       "</style>\n",
       "<table border=\"1\" class=\"dataframe\">\n",
       "  <thead>\n",
       "    <tr style=\"text-align: right;\">\n",
       "      <th></th>\n",
       "      <th>月份</th>\n",
       "      <th>销量</th>\n",
       "      <th>销量额</th>\n",
       "    </tr>\n",
       "  </thead>\n",
       "  <tbody>\n",
       "    <tr>\n",
       "      <th>0</th>\n",
       "      <td>3</td>\n",
       "      <td>600</td>\n",
       "      <td>50000</td>\n",
       "    </tr>\n",
       "  </tbody>\n",
       "</table>\n",
       "</div>"
      ],
      "text/plain": [
       "   月份   销量    销量额\n",
       "0   3  600  50000"
      ]
     },
     "execution_count": 8,
     "metadata": {},
     "output_type": "execute_result"
    }
   ],
   "source": [
    "pd.read_excel('sheet_name.xlsx',sheet_name=2)"
   ]
  },
  {
   "cell_type": "code",
   "execution_count": 2,
   "metadata": {
    "pycharm": {
     "name": "#%%\n"
    }
   },
   "outputs": [
    {
     "data": {
      "text/html": [
       "<div>\n",
       "<style scoped>\n",
       "    .dataframe tbody tr th:only-of-type {\n",
       "        vertical-align: middle;\n",
       "    }\n",
       "\n",
       "    .dataframe tbody tr th {\n",
       "        vertical-align: top;\n",
       "    }\n",
       "\n",
       "    .dataframe thead th {\n",
       "        text-align: right;\n",
       "    }\n",
       "</style>\n",
       "<table border=\"1\" class=\"dataframe\">\n",
       "  <thead>\n",
       "    <tr style=\"text-align: right;\">\n",
       "      <th></th>\n",
       "      <th>月份</th>\n",
       "      <th>销量</th>\n",
       "      <th>销量额</th>\n",
       "    </tr>\n",
       "  </thead>\n",
       "  <tbody>\n",
       "    <tr>\n",
       "      <th>0</th>\n",
       "      <td>3</td>\n",
       "      <td>600</td>\n",
       "      <td>50000</td>\n",
       "    </tr>\n",
       "  </tbody>\n",
       "</table>\n",
       "</div>"
      ],
      "text/plain": [
       "   月份   销量    销量额\n",
       "0   3  600  50000"
      ]
     },
     "execution_count": 2,
     "metadata": {},
     "output_type": "execute_result"
    }
   ],
   "source": [
    "pd.read_excel('sheet_name.xlsx',sheet_name='3月')"
   ]
  },
  {
   "cell_type": "code",
   "execution_count": 15,
   "metadata": {
    "pycharm": {
     "name": "#%%\n"
    }
   },
   "outputs": [
    {
     "data": {
      "text/html": [
       "<div>\n",
       "<style scoped>\n",
       "    .dataframe tbody tr th:only-of-type {\n",
       "        vertical-align: middle;\n",
       "    }\n",
       "\n",
       "    .dataframe tbody tr th {\n",
       "        vertical-align: top;\n",
       "    }\n",
       "\n",
       "    .dataframe thead th {\n",
       "        text-align: right;\n",
       "    }\n",
       "</style>\n",
       "<table border=\"1\" class=\"dataframe\">\n",
       "  <thead>\n",
       "    <tr style=\"text-align: right;\">\n",
       "      <th></th>\n",
       "      <th>月份</th>\n",
       "      <th>销量</th>\n",
       "      <th>销量额</th>\n",
       "    </tr>\n",
       "  </thead>\n",
       "  <tbody>\n",
       "    <tr>\n",
       "      <th>0</th>\n",
       "      <td>2</td>\n",
       "      <td>812</td>\n",
       "      <td>60860</td>\n",
       "    </tr>\n",
       "  </tbody>\n",
       "</table>\n",
       "</div>"
      ],
      "text/plain": [
       "   月份   销量    销量额\n",
       "0   2  812  60860"
      ]
     },
     "execution_count": 15,
     "metadata": {},
     "output_type": "execute_result"
    }
   ],
   "source": [
    "df_dict=pd.read_excel('sheet_name.xlsx',sheet_name=[1,\"3月\"])\n",
    "df_dict[\"3月\"]\n",
    "df_dict[1]"
   ]
  },
  {
   "cell_type": "code",
   "execution_count": 3,
   "metadata": {
    "pycharm": {
     "name": "#%%\n"
    }
   },
   "outputs": [
    {
     "ename": "KeyError",
     "evalue": "1",
     "output_type": "error",
     "traceback": [
      "\u001b[0;31m---------------------------------------------------------------------------\u001b[0m",
      "\u001b[0;31mKeyError\u001b[0m                                  Traceback (most recent call last)",
      "\u001b[0;32m<ipython-input-3-bf04956ca758>\u001b[0m in \u001b[0;36m<module>\u001b[0;34m\u001b[0m\n\u001b[1;32m      1\u001b[0m \u001b[0mdf_dict\u001b[0m\u001b[0;34m=\u001b[0m\u001b[0mpd\u001b[0m\u001b[0;34m.\u001b[0m\u001b[0mread_excel\u001b[0m\u001b[0;34m(\u001b[0m\u001b[0;34m'sheet_name.xlsx'\u001b[0m\u001b[0;34m,\u001b[0m\u001b[0msheet_name\u001b[0m\u001b[0;34m=\u001b[0m\u001b[0;32mNone\u001b[0m\u001b[0;34m)\u001b[0m\u001b[0;34m\u001b[0m\u001b[0;34m\u001b[0m\u001b[0m\n\u001b[1;32m      2\u001b[0m \u001b[0mdf_dict\u001b[0m\u001b[0;34m[\u001b[0m\u001b[0;34m\"3月\"\u001b[0m\u001b[0;34m]\u001b[0m\u001b[0;34m\u001b[0m\u001b[0;34m\u001b[0m\u001b[0m\n\u001b[0;32m----> 3\u001b[0;31m \u001b[0mdf_dict\u001b[0m\u001b[0;34m[\u001b[0m\u001b[0;36m1\u001b[0m\u001b[0;34m]\u001b[0m\u001b[0;34m\u001b[0m\u001b[0;34m\u001b[0m\u001b[0m\n\u001b[0m\u001b[1;32m      4\u001b[0m \u001b[0;34m\u001b[0m\u001b[0m\n",
      "\u001b[0;31mKeyError\u001b[0m: 1"
     ]
    }
   ],
   "source": [
    "df_dict=pd.read_excel('sheet_name.xlsx',sheet_name=None)\n",
    "df_dict[\"3月\"]\n",
    "df_dict[1]"
   ]
  },
  {
   "cell_type": "markdown",
   "metadata": {
    "pycharm": {
     "name": "#%% md\n"
    }
   },
   "source": [
    "#### header"
   ]
  },
  {
   "cell_type": "code",
   "execution_count": 2,
   "metadata": {
    "pycharm": {
     "name": "#%%\n"
    }
   },
   "outputs": [
    {
     "data": {
      "text/html": [
       "<div>\n",
       "<style scoped>\n",
       "    .dataframe tbody tr th:only-of-type {\n",
       "        vertical-align: middle;\n",
       "    }\n",
       "\n",
       "    .dataframe tbody tr th {\n",
       "        vertical-align: top;\n",
       "    }\n",
       "\n",
       "    .dataframe thead th {\n",
       "        text-align: right;\n",
       "    }\n",
       "</style>\n",
       "<table border=\"1\" class=\"dataframe\">\n",
       "  <thead>\n",
       "    <tr style=\"text-align: right;\">\n",
       "      <th></th>\n",
       "      <th>0</th>\n",
       "      <th>1</th>\n",
       "      <th>2</th>\n",
       "    </tr>\n",
       "  </thead>\n",
       "  <tbody>\n",
       "    <tr>\n",
       "      <th>0</th>\n",
       "      <td>1</td>\n",
       "      <td>875</td>\n",
       "      <td>65860</td>\n",
       "    </tr>\n",
       "    <tr>\n",
       "      <th>1</th>\n",
       "      <td>2</td>\n",
       "      <td>820</td>\n",
       "      <td>68870</td>\n",
       "    </tr>\n",
       "    <tr>\n",
       "      <th>2</th>\n",
       "      <td>3</td>\n",
       "      <td>877</td>\n",
       "      <td>70900</td>\n",
       "    </tr>\n",
       "  </tbody>\n",
       "</table>\n",
       "</div>"
      ],
      "text/plain": [
       "   0    1      2\n",
       "0  1  875  65860\n",
       "1  2  820  68870\n",
       "2  3  877  70900"
      ]
     },
     "execution_count": 2,
     "metadata": {},
     "output_type": "execute_result"
    }
   ],
   "source": [
    "pd.read_excel('header.xlsx',header=None)"
   ]
  },
  {
   "cell_type": "code",
   "execution_count": 3,
   "metadata": {
    "pycharm": {
     "name": "#%%\n"
    }
   },
   "outputs": [
    {
     "data": {
      "text/html": [
       "<div>\n",
       "<style scoped>\n",
       "    .dataframe tbody tr th:only-of-type {\n",
       "        vertical-align: middle;\n",
       "    }\n",
       "\n",
       "    .dataframe tbody tr th {\n",
       "        vertical-align: top;\n",
       "    }\n",
       "\n",
       "    .dataframe thead th {\n",
       "        text-align: right;\n",
       "    }\n",
       "</style>\n",
       "<table border=\"1\" class=\"dataframe\">\n",
       "  <thead>\n",
       "    <tr style=\"text-align: right;\">\n",
       "      <th></th>\n",
       "      <th>月份</th>\n",
       "      <th>销量</th>\n",
       "      <th>销售额</th>\n",
       "    </tr>\n",
       "  </thead>\n",
       "  <tbody>\n",
       "    <tr>\n",
       "      <th>0</th>\n",
       "      <td>1</td>\n",
       "      <td>875</td>\n",
       "      <td>65860</td>\n",
       "    </tr>\n",
       "    <tr>\n",
       "      <th>1</th>\n",
       "      <td>2</td>\n",
       "      <td>820</td>\n",
       "      <td>68870</td>\n",
       "    </tr>\n",
       "    <tr>\n",
       "      <th>2</th>\n",
       "      <td>3</td>\n",
       "      <td>877</td>\n",
       "      <td>70900</td>\n",
       "    </tr>\n",
       "  </tbody>\n",
       "</table>\n",
       "</div>"
      ],
      "text/plain": [
       "   月份   销量    销售额\n",
       "0   1  875  65860\n",
       "1   2  820  68870\n",
       "2   3  877  70900"
      ]
     },
     "execution_count": 3,
     "metadata": {},
     "output_type": "execute_result"
    }
   ],
   "source": [
    "pd.read_excel('header.xlsx',sheet_name=1)"
   ]
  },
  {
   "cell_type": "code",
   "execution_count": 4,
   "metadata": {
    "pycharm": {
     "name": "#%%\n"
    }
   },
   "outputs": [
    {
     "data": {
      "text/html": [
       "<div>\n",
       "<style scoped>\n",
       "    .dataframe tbody tr th:only-of-type {\n",
       "        vertical-align: middle;\n",
       "    }\n",
       "\n",
       "    .dataframe tbody tr th {\n",
       "        vertical-align: top;\n",
       "    }\n",
       "\n",
       "    .dataframe thead th {\n",
       "        text-align: right;\n",
       "    }\n",
       "</style>\n",
       "<table border=\"1\" class=\"dataframe\">\n",
       "  <thead>\n",
       "    <tr style=\"text-align: right;\">\n",
       "      <th></th>\n",
       "      <th>月份</th>\n",
       "      <th>销量</th>\n",
       "      <th>销售额</th>\n",
       "    </tr>\n",
       "  </thead>\n",
       "  <tbody>\n",
       "    <tr>\n",
       "      <th>0</th>\n",
       "      <td>1</td>\n",
       "      <td>875</td>\n",
       "      <td>65860</td>\n",
       "    </tr>\n",
       "    <tr>\n",
       "      <th>1</th>\n",
       "      <td>2</td>\n",
       "      <td>820</td>\n",
       "      <td>68870</td>\n",
       "    </tr>\n",
       "    <tr>\n",
       "      <th>2</th>\n",
       "      <td>3</td>\n",
       "      <td>877</td>\n",
       "      <td>70900</td>\n",
       "    </tr>\n",
       "  </tbody>\n",
       "</table>\n",
       "</div>"
      ],
      "text/plain": [
       "   月份   销量    销售额\n",
       "0   1  875  65860\n",
       "1   2  820  68870\n",
       "2   3  877  70900"
      ]
     },
     "execution_count": 4,
     "metadata": {},
     "output_type": "execute_result"
    }
   ],
   "source": [
    "pd.read_excel('header.xlsx',sheet_name=2,header=1)"
   ]
  },
  {
   "cell_type": "code",
   "execution_count": 5,
   "metadata": {
    "pycharm": {
     "name": "#%%\n"
    }
   },
   "outputs": [
    {
     "data": {
      "text/html": [
       "<div>\n",
       "<style scoped>\n",
       "    .dataframe tbody tr th:only-of-type {\n",
       "        vertical-align: middle;\n",
       "    }\n",
       "\n",
       "    .dataframe tbody tr th {\n",
       "        vertical-align: top;\n",
       "    }\n",
       "\n",
       "    .dataframe thead tr th {\n",
       "        text-align: left;\n",
       "    }\n",
       "</style>\n",
       "<table border=\"1\" class=\"dataframe\">\n",
       "  <thead>\n",
       "    <tr>\n",
       "      <th></th>\n",
       "      <th colspan=\"2\" halign=\"left\">销量</th>\n",
       "      <th colspan=\"2\" halign=\"left\">销售额</th>\n",
       "    </tr>\n",
       "    <tr>\n",
       "      <th>月份</th>\n",
       "      <th>京东</th>\n",
       "      <th>天猫</th>\n",
       "      <th>京东</th>\n",
       "      <th>天猫</th>\n",
       "    </tr>\n",
       "  </thead>\n",
       "  <tbody>\n",
       "    <tr>\n",
       "      <th>1</th>\n",
       "      <td>400</td>\n",
       "      <td>875</td>\n",
       "      <td>42860</td>\n",
       "      <td>65860</td>\n",
       "    </tr>\n",
       "    <tr>\n",
       "      <th>2</th>\n",
       "      <td>450</td>\n",
       "      <td>820</td>\n",
       "      <td>46870</td>\n",
       "      <td>68870</td>\n",
       "    </tr>\n",
       "    <tr>\n",
       "      <th>3</th>\n",
       "      <td>430</td>\n",
       "      <td>877</td>\n",
       "      <td>50900</td>\n",
       "      <td>70900</td>\n",
       "    </tr>\n",
       "  </tbody>\n",
       "</table>\n",
       "</div>"
      ],
      "text/plain": [
       "     销量         销售额       \n",
       "月份   京东   天猫     京东     天猫\n",
       "1   400  875  42860  65860\n",
       "2   450  820  46870  68870\n",
       "3   430  877  50900  70900"
      ]
     },
     "execution_count": 5,
     "metadata": {},
     "output_type": "execute_result"
    }
   ],
   "source": [
    "pd.read_excel('header.xlsx',sheet_name=3,header=[0,1],index_col=0)"
   ]
  },
  {
   "cell_type": "markdown",
   "metadata": {
    "pycharm": {
     "name": "#%% md\n"
    }
   },
   "source": [
    "#### usecols"
   ]
  },
  {
   "cell_type": "code",
   "execution_count": 6,
   "metadata": {
    "pycharm": {
     "name": "#%%\n"
    }
   },
   "outputs": [
    {
     "data": {
      "text/html": [
       "<div>\n",
       "<style scoped>\n",
       "    .dataframe tbody tr th:only-of-type {\n",
       "        vertical-align: middle;\n",
       "    }\n",
       "\n",
       "    .dataframe tbody tr th {\n",
       "        vertical-align: top;\n",
       "    }\n",
       "\n",
       "    .dataframe thead th {\n",
       "        text-align: right;\n",
       "    }\n",
       "</style>\n",
       "<table border=\"1\" class=\"dataframe\">\n",
       "  <thead>\n",
       "    <tr style=\"text-align: right;\">\n",
       "      <th></th>\n",
       "      <th>AAA</th>\n",
       "      <th>BBB</th>\n",
       "      <th>CCC</th>\n",
       "      <th>DDD</th>\n",
       "      <th>EEE</th>\n",
       "    </tr>\n",
       "  </thead>\n",
       "  <tbody>\n",
       "    <tr>\n",
       "      <th>0</th>\n",
       "      <td>10</td>\n",
       "      <td>20</td>\n",
       "      <td>30</td>\n",
       "      <td>40</td>\n",
       "      <td>50</td>\n",
       "    </tr>\n",
       "    <tr>\n",
       "      <th>1</th>\n",
       "      <td>60</td>\n",
       "      <td>70</td>\n",
       "      <td>80</td>\n",
       "      <td>90</td>\n",
       "      <td>100</td>\n",
       "    </tr>\n",
       "  </tbody>\n",
       "</table>\n",
       "</div>"
      ],
      "text/plain": [
       "   AAA  BBB  CCC  DDD  EEE\n",
       "0   10   20   30   40   50\n",
       "1   60   70   80   90  100"
      ]
     },
     "execution_count": 6,
     "metadata": {},
     "output_type": "execute_result"
    }
   ],
   "source": [
    "pd.read_excel('usecols.xlsx')\n"
   ]
  },
  {
   "cell_type": "code",
   "execution_count": 7,
   "metadata": {
    "pycharm": {
     "name": "#%%\n"
    }
   },
   "outputs": [
    {
     "data": {
      "text/html": [
       "<div>\n",
       "<style scoped>\n",
       "    .dataframe tbody tr th:only-of-type {\n",
       "        vertical-align: middle;\n",
       "    }\n",
       "\n",
       "    .dataframe tbody tr th {\n",
       "        vertical-align: top;\n",
       "    }\n",
       "\n",
       "    .dataframe thead th {\n",
       "        text-align: right;\n",
       "    }\n",
       "</style>\n",
       "<table border=\"1\" class=\"dataframe\">\n",
       "  <thead>\n",
       "    <tr style=\"text-align: right;\">\n",
       "      <th></th>\n",
       "      <th>AAA</th>\n",
       "      <th>CCC</th>\n",
       "      <th>DDD</th>\n",
       "      <th>EEE</th>\n",
       "    </tr>\n",
       "  </thead>\n",
       "  <tbody>\n",
       "    <tr>\n",
       "      <th>0</th>\n",
       "      <td>10</td>\n",
       "      <td>30</td>\n",
       "      <td>40</td>\n",
       "      <td>50</td>\n",
       "    </tr>\n",
       "    <tr>\n",
       "      <th>1</th>\n",
       "      <td>60</td>\n",
       "      <td>80</td>\n",
       "      <td>90</td>\n",
       "      <td>100</td>\n",
       "    </tr>\n",
       "  </tbody>\n",
       "</table>\n",
       "</div>"
      ],
      "text/plain": [
       "   AAA  CCC  DDD  EEE\n",
       "0   10   30   40   50\n",
       "1   60   80   90  100"
      ]
     },
     "execution_count": 7,
     "metadata": {},
     "output_type": "execute_result"
    }
   ],
   "source": [
    "pd.read_excel('usecols.xlsx',usecols='A,C:E')"
   ]
  },
  {
   "cell_type": "code",
   "execution_count": 8,
   "metadata": {
    "pycharm": {
     "name": "#%%\n"
    }
   },
   "outputs": [
    {
     "data": {
      "text/html": [
       "<div>\n",
       "<style scoped>\n",
       "    .dataframe tbody tr th:only-of-type {\n",
       "        vertical-align: middle;\n",
       "    }\n",
       "\n",
       "    .dataframe tbody tr th {\n",
       "        vertical-align: top;\n",
       "    }\n",
       "\n",
       "    .dataframe thead th {\n",
       "        text-align: right;\n",
       "    }\n",
       "</style>\n",
       "<table border=\"1\" class=\"dataframe\">\n",
       "  <thead>\n",
       "    <tr style=\"text-align: right;\">\n",
       "      <th></th>\n",
       "      <th>AAA</th>\n",
       "      <th>CCC</th>\n",
       "    </tr>\n",
       "  </thead>\n",
       "  <tbody>\n",
       "    <tr>\n",
       "      <th>0</th>\n",
       "      <td>10</td>\n",
       "      <td>30</td>\n",
       "    </tr>\n",
       "    <tr>\n",
       "      <th>1</th>\n",
       "      <td>60</td>\n",
       "      <td>80</td>\n",
       "    </tr>\n",
       "  </tbody>\n",
       "</table>\n",
       "</div>"
      ],
      "text/plain": [
       "   AAA  CCC\n",
       "0   10   30\n",
       "1   60   80"
      ]
     },
     "execution_count": 8,
     "metadata": {},
     "output_type": "execute_result"
    }
   ],
   "source": [
    "pd.read_excel('usecols.xlsx',usecols=[0,2])"
   ]
  },
  {
   "cell_type": "code",
   "execution_count": 9,
   "metadata": {
    "pycharm": {
     "name": "#%%\n"
    }
   },
   "outputs": [
    {
     "data": {
      "text/html": [
       "<div>\n",
       "<style scoped>\n",
       "    .dataframe tbody tr th:only-of-type {\n",
       "        vertical-align: middle;\n",
       "    }\n",
       "\n",
       "    .dataframe tbody tr th {\n",
       "        vertical-align: top;\n",
       "    }\n",
       "\n",
       "    .dataframe thead th {\n",
       "        text-align: right;\n",
       "    }\n",
       "</style>\n",
       "<table border=\"1\" class=\"dataframe\">\n",
       "  <thead>\n",
       "    <tr style=\"text-align: right;\">\n",
       "      <th></th>\n",
       "      <th>AAA</th>\n",
       "      <th>CCC</th>\n",
       "    </tr>\n",
       "  </thead>\n",
       "  <tbody>\n",
       "    <tr>\n",
       "      <th>0</th>\n",
       "      <td>10</td>\n",
       "      <td>30</td>\n",
       "    </tr>\n",
       "    <tr>\n",
       "      <th>1</th>\n",
       "      <td>60</td>\n",
       "      <td>80</td>\n",
       "    </tr>\n",
       "  </tbody>\n",
       "</table>\n",
       "</div>"
      ],
      "text/plain": [
       "   AAA  CCC\n",
       "0   10   30\n",
       "1   60   80"
      ]
     },
     "execution_count": 9,
     "metadata": {},
     "output_type": "execute_result"
    }
   ],
   "source": [
    "pd.read_excel('usecols.xlsx',usecols=['AAA','CCC'])"
   ]
  },
  {
   "cell_type": "code",
   "execution_count": 10,
   "metadata": {
    "pycharm": {
     "name": "#%%\n"
    }
   },
   "outputs": [
    {
     "data": {
      "text/html": [
       "<div>\n",
       "<style scoped>\n",
       "    .dataframe tbody tr th:only-of-type {\n",
       "        vertical-align: middle;\n",
       "    }\n",
       "\n",
       "    .dataframe tbody tr th {\n",
       "        vertical-align: top;\n",
       "    }\n",
       "\n",
       "    .dataframe thead th {\n",
       "        text-align: right;\n",
       "    }\n",
       "</style>\n",
       "<table border=\"1\" class=\"dataframe\">\n",
       "  <thead>\n",
       "    <tr style=\"text-align: right;\">\n",
       "      <th></th>\n",
       "      <th>AAA</th>\n",
       "      <th>EEE</th>\n",
       "    </tr>\n",
       "  </thead>\n",
       "  <tbody>\n",
       "    <tr>\n",
       "      <th>0</th>\n",
       "      <td>10</td>\n",
       "      <td>50</td>\n",
       "    </tr>\n",
       "    <tr>\n",
       "      <th>1</th>\n",
       "      <td>60</td>\n",
       "      <td>100</td>\n",
       "    </tr>\n",
       "  </tbody>\n",
       "</table>\n",
       "</div>"
      ],
      "text/plain": [
       "   AAA  EEE\n",
       "0   10   50\n",
       "1   60  100"
      ]
     },
     "execution_count": 10,
     "metadata": {},
     "output_type": "execute_result"
    }
   ],
   "source": [
    "pd.read_excel('usecols.xlsx',usecols=lambda x:(x=='AAA')|(x=='EEE'))"
   ]
  },
  {
   "cell_type": "code",
   "execution_count": 11,
   "metadata": {
    "pycharm": {
     "name": "#%%\n"
    }
   },
   "outputs": [
    {
     "data": {
      "text/html": [
       "<div>\n",
       "<style scoped>\n",
       "    .dataframe tbody tr th:only-of-type {\n",
       "        vertical-align: middle;\n",
       "    }\n",
       "\n",
       "    .dataframe tbody tr th {\n",
       "        vertical-align: top;\n",
       "    }\n",
       "\n",
       "    .dataframe thead th {\n",
       "        text-align: right;\n",
       "    }\n",
       "</style>\n",
       "<table border=\"1\" class=\"dataframe\">\n",
       "  <thead>\n",
       "    <tr style=\"text-align: right;\">\n",
       "      <th></th>\n",
       "      <th>货号</th>\n",
       "      <th>商品名称</th>\n",
       "      <th>品牌</th>\n",
       "      <th>成本</th>\n",
       "      <th>季节</th>\n",
       "      <th>商品年份</th>\n",
       "      <th>上架日期</th>\n",
       "      <th>上架费</th>\n",
       "      <th>在售</th>\n",
       "    </tr>\n",
       "  </thead>\n",
       "  <tbody>\n",
       "    <tr>\n",
       "      <th>0</th>\n",
       "      <td>QTVW5600</td>\n",
       "      <td>羽绒服</td>\n",
       "      <td>A</td>\n",
       "      <td>180</td>\n",
       "      <td>冬季</td>\n",
       "      <td>2018</td>\n",
       "      <td>2018-01-01</td>\n",
       "      <td>1.2</td>\n",
       "      <td>True</td>\n",
       "    </tr>\n",
       "    <tr>\n",
       "      <th>1</th>\n",
       "      <td>AXTB3200</td>\n",
       "      <td>棉服</td>\n",
       "      <td>B</td>\n",
       "      <td>90</td>\n",
       "      <td>冬季</td>\n",
       "      <td>2019</td>\n",
       "      <td>2019-01-02</td>\n",
       "      <td>1.2</td>\n",
       "      <td>True</td>\n",
       "    </tr>\n",
       "    <tr>\n",
       "      <th>2</th>\n",
       "      <td>VBOY1800</td>\n",
       "      <td>家居服</td>\n",
       "      <td>C</td>\n",
       "      <td>120</td>\n",
       "      <td>冬季</td>\n",
       "      <td>2018</td>\n",
       "      <td>2018-01-01</td>\n",
       "      <td>1.2</td>\n",
       "      <td>True</td>\n",
       "    </tr>\n",
       "    <tr>\n",
       "      <th>3</th>\n",
       "      <td>HWLA4700</td>\n",
       "      <td>长袖T恤</td>\n",
       "      <td>A</td>\n",
       "      <td>30</td>\n",
       "      <td>秋季</td>\n",
       "      <td>2020</td>\n",
       "      <td>2020-01-01</td>\n",
       "      <td>1.2</td>\n",
       "      <td>True</td>\n",
       "    </tr>\n",
       "    <tr>\n",
       "      <th>4</th>\n",
       "      <td>XDQV5600</td>\n",
       "      <td>卫衣</td>\n",
       "      <td>B</td>\n",
       "      <td>56</td>\n",
       "      <td>春季</td>\n",
       "      <td>2019</td>\n",
       "      <td>2019-01-03</td>\n",
       "      <td>1.2</td>\n",
       "      <td>True</td>\n",
       "    </tr>\n",
       "    <tr>\n",
       "      <th>5</th>\n",
       "      <td>XHQA3700</td>\n",
       "      <td>羊毛大衣</td>\n",
       "      <td>C</td>\n",
       "      <td>200</td>\n",
       "      <td>冬季</td>\n",
       "      <td>2018</td>\n",
       "      <td>2018-05-05</td>\n",
       "      <td>1.2</td>\n",
       "      <td>True</td>\n",
       "    </tr>\n",
       "    <tr>\n",
       "      <th>6</th>\n",
       "      <td>UQNA9200</td>\n",
       "      <td>毛衣</td>\n",
       "      <td>B</td>\n",
       "      <td>68</td>\n",
       "      <td>春季</td>\n",
       "      <td>2020</td>\n",
       "      <td>2020-03-20</td>\n",
       "      <td>0.8</td>\n",
       "      <td>True</td>\n",
       "    </tr>\n",
       "    <tr>\n",
       "      <th>7</th>\n",
       "      <td>FLHR1800</td>\n",
       "      <td>短袖T恤</td>\n",
       "      <td>A</td>\n",
       "      <td>25</td>\n",
       "      <td>夏季</td>\n",
       "      <td>2019</td>\n",
       "      <td>2019-01-01</td>\n",
       "      <td>0.8</td>\n",
       "      <td>False</td>\n",
       "    </tr>\n",
       "    <tr>\n",
       "      <th>8</th>\n",
       "      <td>LCHM9800</td>\n",
       "      <td>保暖内衣</td>\n",
       "      <td>B</td>\n",
       "      <td>50</td>\n",
       "      <td>冬季</td>\n",
       "      <td>2018</td>\n",
       "      <td>2018-01-01</td>\n",
       "      <td>0.8</td>\n",
       "      <td>False</td>\n",
       "    </tr>\n",
       "    <tr>\n",
       "      <th>9</th>\n",
       "      <td>AGDH5500</td>\n",
       "      <td>牛仔裤</td>\n",
       "      <td>C</td>\n",
       "      <td>80</td>\n",
       "      <td>四季</td>\n",
       "      <td>2019</td>\n",
       "      <td>2019-01-01</td>\n",
       "      <td>0.8</td>\n",
       "      <td>False</td>\n",
       "    </tr>\n",
       "    <tr>\n",
       "      <th>10</th>\n",
       "      <td>YZFM1200</td>\n",
       "      <td>夹克</td>\n",
       "      <td>B</td>\n",
       "      <td>70</td>\n",
       "      <td>秋季</td>\n",
       "      <td>2019</td>\n",
       "      <td>2019-01-01</td>\n",
       "      <td>0.8</td>\n",
       "      <td>False</td>\n",
       "    </tr>\n",
       "    <tr>\n",
       "      <th>11</th>\n",
       "      <td>PWDK9200</td>\n",
       "      <td>运动长裤</td>\n",
       "      <td>B</td>\n",
       "      <td>60</td>\n",
       "      <td>四季</td>\n",
       "      <td>2020</td>\n",
       "      <td>2020-02-15</td>\n",
       "      <td>0.8</td>\n",
       "      <td>False</td>\n",
       "    </tr>\n",
       "  </tbody>\n",
       "</table>\n",
       "</div>"
      ],
      "text/plain": [
       "          货号  商品名称 品牌   成本  季节  商品年份       上架日期  上架费     在售\n",
       "0   QTVW5600   羽绒服  A  180  冬季  2018 2018-01-01  1.2   True\n",
       "1   AXTB3200    棉服  B   90  冬季  2019 2019-01-02  1.2   True\n",
       "2   VBOY1800   家居服  C  120  冬季  2018 2018-01-01  1.2   True\n",
       "3   HWLA4700  长袖T恤  A   30  秋季  2020 2020-01-01  1.2   True\n",
       "4   XDQV5600    卫衣  B   56  春季  2019 2019-01-03  1.2   True\n",
       "5   XHQA3700  羊毛大衣  C  200  冬季  2018 2018-05-05  1.2   True\n",
       "6   UQNA9200    毛衣  B   68  春季  2020 2020-03-20  0.8   True\n",
       "7   FLHR1800  短袖T恤  A   25  夏季  2019 2019-01-01  0.8  False\n",
       "8   LCHM9800  保暖内衣  B   50  冬季  2018 2018-01-01  0.8  False\n",
       "9   AGDH5500   牛仔裤  C   80  四季  2019 2019-01-01  0.8  False\n",
       "10  YZFM1200    夹克  B   70  秋季  2019 2019-01-01  0.8  False\n",
       "11  PWDK9200  运动长裤  B   60  四季  2020 2020-02-15  0.8  False"
      ]
     },
     "execution_count": 11,
     "metadata": {},
     "output_type": "execute_result"
    }
   ],
   "source": [
    "pd.read_excel('goods_base.xlsx',usecols=['货号', '商品名称', '品牌', '成本', '季节', '商品年份', '上架日期', '上架费', '在售'] )"
   ]
  },
  {
   "cell_type": "markdown",
   "metadata": {
    "pycharm": {
     "name": "#%% md\n"
    }
   },
   "source": [
    "#### skiprows"
   ]
  },
  {
   "cell_type": "code",
   "execution_count": 12,
   "metadata": {
    "pycharm": {
     "name": "#%%\n"
    }
   },
   "outputs": [
    {
     "name": "stdout",
     "output_type": "stream",
     "text": [
      "   月份   销量    销售额\n",
      "0   1  875  65860\n",
      "1   2  820  68870\n",
      "2   3  877  70900\n",
      "\n",
      "   1      875    65860\n",
      "0      2    820  68870\n",
      "1      3    877  70900\n"
     ]
    }
   ],
   "source": [
    "print(pd.read_excel('skiprows.xlsx',skiprows=1))\n",
    "print()\n",
    "print(pd.read_excel('skiprows.xlsx',skiprows=2))"
   ]
  },
  {
   "cell_type": "code",
   "execution_count": 13,
   "metadata": {
    "pycharm": {
     "name": "#%% skip not continous rows\n"
    }
   },
   "outputs": [
    {
     "data": {
      "text/html": [
       "<div>\n",
       "<style scoped>\n",
       "    .dataframe tbody tr th:only-of-type {\n",
       "        vertical-align: middle;\n",
       "    }\n",
       "\n",
       "    .dataframe tbody tr th {\n",
       "        vertical-align: top;\n",
       "    }\n",
       "\n",
       "    .dataframe thead th {\n",
       "        text-align: right;\n",
       "    }\n",
       "</style>\n",
       "<table border=\"1\" class=\"dataframe\">\n",
       "  <thead>\n",
       "    <tr style=\"text-align: right;\">\n",
       "      <th></th>\n",
       "      <th>月份</th>\n",
       "      <th>销量</th>\n",
       "      <th>销售额</th>\n",
       "    </tr>\n",
       "  </thead>\n",
       "  <tbody>\n",
       "    <tr>\n",
       "      <th>0</th>\n",
       "      <td>1</td>\n",
       "      <td>875</td>\n",
       "      <td>65860</td>\n",
       "    </tr>\n",
       "    <tr>\n",
       "      <th>1</th>\n",
       "      <td>2</td>\n",
       "      <td>820</td>\n",
       "      <td>68870</td>\n",
       "    </tr>\n",
       "    <tr>\n",
       "      <th>2</th>\n",
       "      <td>3</td>\n",
       "      <td>877</td>\n",
       "      <td>70900</td>\n",
       "    </tr>\n",
       "  </tbody>\n",
       "</table>\n",
       "</div>"
      ],
      "text/plain": [
       "   月份   销量    销售额\n",
       "0   1  875  65860\n",
       "1   2  820  68870\n",
       "2   3  877  70900"
      ]
     },
     "execution_count": 13,
     "metadata": {},
     "output_type": "execute_result"
    }
   ],
   "source": [
    "pd.read_excel('skiprows.xlsx',sheet_name=1,skiprows=[0,2])"
   ]
  },
  {
   "cell_type": "code",
   "execution_count": 14,
   "metadata": {
    "pycharm": {
     "name": "#%% skip both row and colomn\n"
    }
   },
   "outputs": [
    {
     "data": {
      "text/html": [
       "<div>\n",
       "<style scoped>\n",
       "    .dataframe tbody tr th:only-of-type {\n",
       "        vertical-align: middle;\n",
       "    }\n",
       "\n",
       "    .dataframe tbody tr th {\n",
       "        vertical-align: top;\n",
       "    }\n",
       "\n",
       "    .dataframe thead th {\n",
       "        text-align: right;\n",
       "    }\n",
       "</style>\n",
       "<table border=\"1\" class=\"dataframe\">\n",
       "  <thead>\n",
       "    <tr style=\"text-align: right;\">\n",
       "      <th></th>\n",
       "      <th>月份</th>\n",
       "      <th>销量</th>\n",
       "      <th>销售额</th>\n",
       "    </tr>\n",
       "  </thead>\n",
       "  <tbody>\n",
       "    <tr>\n",
       "      <th>0</th>\n",
       "      <td>1</td>\n",
       "      <td>875</td>\n",
       "      <td>65860</td>\n",
       "    </tr>\n",
       "    <tr>\n",
       "      <th>1</th>\n",
       "      <td>2</td>\n",
       "      <td>820</td>\n",
       "      <td>68870</td>\n",
       "    </tr>\n",
       "    <tr>\n",
       "      <th>2</th>\n",
       "      <td>3</td>\n",
       "      <td>877</td>\n",
       "      <td>70900</td>\n",
       "    </tr>\n",
       "  </tbody>\n",
       "</table>\n",
       "</div>"
      ],
      "text/plain": [
       "   月份   销量    销售额\n",
       "0   1  875  65860\n",
       "1   2  820  68870\n",
       "2   3  877  70900"
      ]
     },
     "execution_count": 14,
     "metadata": {},
     "output_type": "execute_result"
    }
   ],
   "source": [
    "pd.read_excel('skiprows.xlsx',sheet_name=2,skiprows=2,usecols='B:D')"
   ]
  },
  {
   "cell_type": "markdown",
   "metadata": {
    "pycharm": {
     "name": "#%% md\n"
    }
   },
   "source": [
    "#### names\n",
    "- name the columns if there is no header\n",
    "- Note that the header=None"
   ]
  },
  {
   "cell_type": "code",
   "execution_count": 15,
   "metadata": {
    "pycharm": {
     "name": "#%%\n"
    }
   },
   "outputs": [
    {
     "data": {
      "text/html": [
       "<div>\n",
       "<style scoped>\n",
       "    .dataframe tbody tr th:only-of-type {\n",
       "        vertical-align: middle;\n",
       "    }\n",
       "\n",
       "    .dataframe tbody tr th {\n",
       "        vertical-align: top;\n",
       "    }\n",
       "\n",
       "    .dataframe thead th {\n",
       "        text-align: right;\n",
       "    }\n",
       "</style>\n",
       "<table border=\"1\" class=\"dataframe\">\n",
       "  <thead>\n",
       "    <tr style=\"text-align: right;\">\n",
       "      <th></th>\n",
       "      <th>Month</th>\n",
       "      <th>Quantity</th>\n",
       "      <th>Total</th>\n",
       "    </tr>\n",
       "  </thead>\n",
       "  <tbody>\n",
       "    <tr>\n",
       "      <th>0</th>\n",
       "      <td>2</td>\n",
       "      <td>820</td>\n",
       "      <td>68870</td>\n",
       "    </tr>\n",
       "    <tr>\n",
       "      <th>1</th>\n",
       "      <td>3</td>\n",
       "      <td>877</td>\n",
       "      <td>70900</td>\n",
       "    </tr>\n",
       "  </tbody>\n",
       "</table>\n",
       "</div>"
      ],
      "text/plain": [
       "   Month  Quantity  Total\n",
       "0      2       820  68870\n",
       "1      3       877  70900"
      ]
     },
     "execution_count": 15,
     "metadata": {},
     "output_type": "execute_result"
    }
   ],
   "source": [
    "pd.read_excel('header.xlsx',names=['Month','Quantity','Total'])"
   ]
  },
  {
   "cell_type": "code",
   "execution_count": 16,
   "metadata": {
    "pycharm": {
     "name": "#%%\n"
    }
   },
   "outputs": [
    {
     "data": {
      "text/html": [
       "<div>\n",
       "<style scoped>\n",
       "    .dataframe tbody tr th:only-of-type {\n",
       "        vertical-align: middle;\n",
       "    }\n",
       "\n",
       "    .dataframe tbody tr th {\n",
       "        vertical-align: top;\n",
       "    }\n",
       "\n",
       "    .dataframe thead th {\n",
       "        text-align: right;\n",
       "    }\n",
       "</style>\n",
       "<table border=\"1\" class=\"dataframe\">\n",
       "  <thead>\n",
       "    <tr style=\"text-align: right;\">\n",
       "      <th></th>\n",
       "      <th>Month</th>\n",
       "      <th>Quantity</th>\n",
       "      <th>Total</th>\n",
       "    </tr>\n",
       "  </thead>\n",
       "  <tbody>\n",
       "    <tr>\n",
       "      <th>0</th>\n",
       "      <td>1</td>\n",
       "      <td>875</td>\n",
       "      <td>65860</td>\n",
       "    </tr>\n",
       "    <tr>\n",
       "      <th>1</th>\n",
       "      <td>2</td>\n",
       "      <td>820</td>\n",
       "      <td>68870</td>\n",
       "    </tr>\n",
       "    <tr>\n",
       "      <th>2</th>\n",
       "      <td>3</td>\n",
       "      <td>877</td>\n",
       "      <td>70900</td>\n",
       "    </tr>\n",
       "  </tbody>\n",
       "</table>\n",
       "</div>"
      ],
      "text/plain": [
       "   Month  Quantity  Total\n",
       "0      1       875  65860\n",
       "1      2       820  68870\n",
       "2      3       877  70900"
      ]
     },
     "execution_count": 16,
     "metadata": {},
     "output_type": "execute_result"
    }
   ],
   "source": [
    "pd.read_excel('header.xlsx',header=None,names=['Month','Quantity','Total'])\n"
   ]
  },
  {
   "cell_type": "markdown",
   "metadata": {
    "pycharm": {
     "name": "#%% md\n"
    }
   },
   "source": [
    "#### dtype\n",
    "- Different data types support different methods/functions\n",
    "- category - save storage space+ranking\n",
    "- object - is not a good thing"
   ]
  },
  {
   "cell_type": "code",
   "execution_count": 17,
   "metadata": {
    "pycharm": {
     "name": "#%%\n"
    }
   },
   "outputs": [
    {
     "data": {
      "text/html": [
       "<div>\n",
       "<style scoped>\n",
       "    .dataframe tbody tr th:only-of-type {\n",
       "        vertical-align: middle;\n",
       "    }\n",
       "\n",
       "    .dataframe tbody tr th {\n",
       "        vertical-align: top;\n",
       "    }\n",
       "\n",
       "    .dataframe thead th {\n",
       "        text-align: right;\n",
       "    }\n",
       "</style>\n",
       "<table border=\"1\" class=\"dataframe\">\n",
       "  <thead>\n",
       "    <tr style=\"text-align: right;\">\n",
       "      <th></th>\n",
       "      <th>货号</th>\n",
       "      <th>商品代码</th>\n",
       "      <th>颜色代码</th>\n",
       "      <th>商品名称</th>\n",
       "      <th>品牌</th>\n",
       "      <th>成本</th>\n",
       "      <th>季节</th>\n",
       "      <th>商品年份</th>\n",
       "      <th>上架日期</th>\n",
       "      <th>上架费</th>\n",
       "      <th>在售</th>\n",
       "    </tr>\n",
       "  </thead>\n",
       "  <tbody>\n",
       "    <tr>\n",
       "      <th>0</th>\n",
       "      <td>QTVW5600</td>\n",
       "      <td>QTVW</td>\n",
       "      <td>5600</td>\n",
       "      <td>羽绒服</td>\n",
       "      <td>A</td>\n",
       "      <td>180</td>\n",
       "      <td>冬季</td>\n",
       "      <td>2018</td>\n",
       "      <td>2018-01-01</td>\n",
       "      <td>1.2</td>\n",
       "      <td>True</td>\n",
       "    </tr>\n",
       "    <tr>\n",
       "      <th>1</th>\n",
       "      <td>AXTB3200</td>\n",
       "      <td>AXTB</td>\n",
       "      <td>3200</td>\n",
       "      <td>棉服</td>\n",
       "      <td>B</td>\n",
       "      <td>90</td>\n",
       "      <td>冬季</td>\n",
       "      <td>2019</td>\n",
       "      <td>2019-01-02</td>\n",
       "      <td>1.2</td>\n",
       "      <td>True</td>\n",
       "    </tr>\n",
       "    <tr>\n",
       "      <th>2</th>\n",
       "      <td>VBOY1800</td>\n",
       "      <td>VBOY</td>\n",
       "      <td>1800</td>\n",
       "      <td>家居服</td>\n",
       "      <td>C</td>\n",
       "      <td>120</td>\n",
       "      <td>冬季</td>\n",
       "      <td>2018</td>\n",
       "      <td>2018-01-01</td>\n",
       "      <td>1.2</td>\n",
       "      <td>True</td>\n",
       "    </tr>\n",
       "    <tr>\n",
       "      <th>3</th>\n",
       "      <td>HWLA4700</td>\n",
       "      <td>HWLA</td>\n",
       "      <td>4700</td>\n",
       "      <td>长袖T恤</td>\n",
       "      <td>A</td>\n",
       "      <td>30</td>\n",
       "      <td>秋季</td>\n",
       "      <td>2020</td>\n",
       "      <td>2020-01-01</td>\n",
       "      <td>1.2</td>\n",
       "      <td>True</td>\n",
       "    </tr>\n",
       "    <tr>\n",
       "      <th>4</th>\n",
       "      <td>XDQV5600</td>\n",
       "      <td>XDQV</td>\n",
       "      <td>5600</td>\n",
       "      <td>卫衣</td>\n",
       "      <td>B</td>\n",
       "      <td>56</td>\n",
       "      <td>春季</td>\n",
       "      <td>2019</td>\n",
       "      <td>2019-01-03</td>\n",
       "      <td>1.2</td>\n",
       "      <td>True</td>\n",
       "    </tr>\n",
       "    <tr>\n",
       "      <th>5</th>\n",
       "      <td>XHQA3700</td>\n",
       "      <td>XHQA</td>\n",
       "      <td>3700</td>\n",
       "      <td>羊毛大衣</td>\n",
       "      <td>C</td>\n",
       "      <td>200</td>\n",
       "      <td>冬季</td>\n",
       "      <td>2018</td>\n",
       "      <td>2018-05-05</td>\n",
       "      <td>1.2</td>\n",
       "      <td>True</td>\n",
       "    </tr>\n",
       "    <tr>\n",
       "      <th>6</th>\n",
       "      <td>UQNA9200</td>\n",
       "      <td>UQNA</td>\n",
       "      <td>9200</td>\n",
       "      <td>毛衣</td>\n",
       "      <td>B</td>\n",
       "      <td>68</td>\n",
       "      <td>春季</td>\n",
       "      <td>2020</td>\n",
       "      <td>2020-03-20</td>\n",
       "      <td>0.8</td>\n",
       "      <td>True</td>\n",
       "    </tr>\n",
       "    <tr>\n",
       "      <th>7</th>\n",
       "      <td>FLHR1800</td>\n",
       "      <td>FLHR</td>\n",
       "      <td>1800</td>\n",
       "      <td>短袖T恤</td>\n",
       "      <td>A</td>\n",
       "      <td>25</td>\n",
       "      <td>夏季</td>\n",
       "      <td>2019</td>\n",
       "      <td>2019-01-01</td>\n",
       "      <td>0.8</td>\n",
       "      <td>False</td>\n",
       "    </tr>\n",
       "    <tr>\n",
       "      <th>8</th>\n",
       "      <td>LCHM9800</td>\n",
       "      <td>LCHM</td>\n",
       "      <td>9800</td>\n",
       "      <td>保暖内衣</td>\n",
       "      <td>B</td>\n",
       "      <td>50</td>\n",
       "      <td>冬季</td>\n",
       "      <td>2018</td>\n",
       "      <td>2018-01-01</td>\n",
       "      <td>0.8</td>\n",
       "      <td>False</td>\n",
       "    </tr>\n",
       "    <tr>\n",
       "      <th>9</th>\n",
       "      <td>AGDH5500</td>\n",
       "      <td>AGDH</td>\n",
       "      <td>5500</td>\n",
       "      <td>牛仔裤</td>\n",
       "      <td>C</td>\n",
       "      <td>80</td>\n",
       "      <td>四季</td>\n",
       "      <td>2019</td>\n",
       "      <td>2019-01-01</td>\n",
       "      <td>0.8</td>\n",
       "      <td>False</td>\n",
       "    </tr>\n",
       "    <tr>\n",
       "      <th>10</th>\n",
       "      <td>YZFM1200</td>\n",
       "      <td>YZFM</td>\n",
       "      <td>1200</td>\n",
       "      <td>夹克</td>\n",
       "      <td>B</td>\n",
       "      <td>70</td>\n",
       "      <td>秋季</td>\n",
       "      <td>2019</td>\n",
       "      <td>2019-01-01</td>\n",
       "      <td>0.8</td>\n",
       "      <td>False</td>\n",
       "    </tr>\n",
       "    <tr>\n",
       "      <th>11</th>\n",
       "      <td>PWDK9200</td>\n",
       "      <td>PWDK</td>\n",
       "      <td>9200</td>\n",
       "      <td>运动长裤</td>\n",
       "      <td>B</td>\n",
       "      <td>60</td>\n",
       "      <td>四季</td>\n",
       "      <td>2020</td>\n",
       "      <td>2020-02-15</td>\n",
       "      <td>0.8</td>\n",
       "      <td>False</td>\n",
       "    </tr>\n",
       "  </tbody>\n",
       "</table>\n",
       "</div>"
      ],
      "text/plain": [
       "          货号  商品代码  颜色代码  商品名称 品牌   成本  季节  商品年份       上架日期  上架费     在售\n",
       "0   QTVW5600  QTVW  5600   羽绒服  A  180  冬季  2018 2018-01-01  1.2   True\n",
       "1   AXTB3200  AXTB  3200    棉服  B   90  冬季  2019 2019-01-02  1.2   True\n",
       "2   VBOY1800  VBOY  1800   家居服  C  120  冬季  2018 2018-01-01  1.2   True\n",
       "3   HWLA4700  HWLA  4700  长袖T恤  A   30  秋季  2020 2020-01-01  1.2   True\n",
       "4   XDQV5600  XDQV  5600    卫衣  B   56  春季  2019 2019-01-03  1.2   True\n",
       "5   XHQA3700  XHQA  3700  羊毛大衣  C  200  冬季  2018 2018-05-05  1.2   True\n",
       "6   UQNA9200  UQNA  9200    毛衣  B   68  春季  2020 2020-03-20  0.8   True\n",
       "7   FLHR1800  FLHR  1800  短袖T恤  A   25  夏季  2019 2019-01-01  0.8  False\n",
       "8   LCHM9800  LCHM  9800  保暖内衣  B   50  冬季  2018 2018-01-01  0.8  False\n",
       "9   AGDH5500  AGDH  5500   牛仔裤  C   80  四季  2019 2019-01-01  0.8  False\n",
       "10  YZFM1200  YZFM  1200    夹克  B   70  秋季  2019 2019-01-01  0.8  False\n",
       "11  PWDK9200  PWDK  9200  运动长裤  B   60  四季  2020 2020-02-15  0.8  False"
      ]
     },
     "execution_count": 17,
     "metadata": {},
     "output_type": "execute_result"
    }
   ],
   "source": [
    "df=pd.read_excel('goods_base.xlsx')\n",
    "df"
   ]
  },
  {
   "cell_type": "code",
   "execution_count": 18,
   "metadata": {
    "pycharm": {
     "name": "#%%\n"
    }
   },
   "outputs": [
    {
     "data": {
      "text/plain": [
       "货号              object\n",
       "商品代码            object\n",
       "颜色代码             int64\n",
       "商品名称            object\n",
       "品牌              object\n",
       "成本               int64\n",
       "季节              object\n",
       "商品年份             int64\n",
       "上架日期    datetime64[ns]\n",
       "上架费            float64\n",
       "在售                bool\n",
       "dtype: object"
      ]
     },
     "execution_count": 18,
     "metadata": {},
     "output_type": "execute_result"
    }
   ],
   "source": [
    "df.dtypes"
   ]
  },
  {
   "cell_type": "code",
   "execution_count": 19,
   "metadata": {
    "pycharm": {
     "name": "#%%\n"
    }
   },
   "outputs": [
    {
     "data": {
      "text/plain": [
       "货号              object\n",
       "商品代码            string\n",
       "颜色代码            string\n",
       "商品名称            object\n",
       "品牌            category\n",
       "成本               int64\n",
       "季节            category\n",
       "商品年份     period[A-DEC]\n",
       "上架日期    datetime64[ns]\n",
       "上架费            float64\n",
       "在售                bool\n",
       "dtype: object"
      ]
     },
     "execution_count": 19,
     "metadata": {},
     "output_type": "execute_result"
    }
   ],
   "source": [
    "df=pd.read_excel('goods_base.xlsx'\n",
    "                 ,dtype={'货号':'str',\n",
    "                         '商品代码':'string',\n",
    "                         '颜色代码':'str', ## error raised if \"string\"\n",
    "                         \"季节\":'category',\n",
    "                         \"品牌\":'category',\n",
    "                         \"商品年份\":'period[Y]'\n",
    "\n",
    "\n",
    "\n",
    "})\n",
    "\n",
    "df['颜色代码']=df['颜色代码'].astype('string')\n",
    "df.dtypes"
   ]
  },
  {
   "cell_type": "markdown",
   "metadata": {
    "pycharm": {
     "name": "#%% md\n"
    }
   },
   "source": [
    "#### Parse_dates - specify columns should be parsed\n",
    "- True --index\n",
    "- [0,1]\n",
    "- [[0,1,2,]] or [['year','month','day']]\n",
    "- {日期：[[0,1,2]]}\n",
    "\n",
    "date_parser- the format of datetime"
   ]
  },
  {
   "cell_type": "code",
   "execution_count": 55,
   "metadata": {
    "pycharm": {
     "name": "#%%\n"
    }
   },
   "outputs": [
    {
     "data": {
      "text/html": [
       "<div>\n",
       "<style scoped>\n",
       "    .dataframe tbody tr th:only-of-type {\n",
       "        vertical-align: middle;\n",
       "    }\n",
       "\n",
       "    .dataframe tbody tr th {\n",
       "        vertical-align: top;\n",
       "    }\n",
       "\n",
       "    .dataframe thead th {\n",
       "        text-align: right;\n",
       "    }\n",
       "</style>\n",
       "<table border=\"1\" class=\"dataframe\">\n",
       "  <thead>\n",
       "    <tr style=\"text-align: right;\">\n",
       "      <th></th>\n",
       "      <th>日期0</th>\n",
       "      <th>日期1</th>\n",
       "      <th>日期3</th>\n",
       "      <th>日期4</th>\n",
       "      <th>日期5</th>\n",
       "      <th>日期6</th>\n",
       "    </tr>\n",
       "    <tr>\n",
       "      <th>日期2</th>\n",
       "      <th></th>\n",
       "      <th></th>\n",
       "      <th></th>\n",
       "      <th></th>\n",
       "      <th></th>\n",
       "      <th></th>\n",
       "    </tr>\n",
       "  </thead>\n",
       "  <tbody>\n",
       "    <tr>\n",
       "      <th>2020-01-20</th>\n",
       "      <td>20200120</td>\n",
       "      <td>20200120</td>\n",
       "      <td>1/20/2020</td>\n",
       "      <td>2020/1/20</td>\n",
       "      <td>2020-01-20 00:10:10</td>\n",
       "      <td>2020-01-20</td>\n",
       "    </tr>\n",
       "    <tr>\n",
       "      <th>2020-01-21</th>\n",
       "      <td>20200121</td>\n",
       "      <td>20200121</td>\n",
       "      <td>1/21/2020</td>\n",
       "      <td>2020/1/21</td>\n",
       "      <td>2020-01-21 00:10:11</td>\n",
       "      <td>2020-01-21</td>\n",
       "    </tr>\n",
       "  </tbody>\n",
       "</table>\n",
       "</div>"
      ],
      "text/plain": [
       "                 日期0       日期1        日期3        日期4                  日期5  \\\n",
       "日期2                                                                         \n",
       "2020-01-20  20200120  20200120  1/20/2020  2020/1/20  2020-01-20 00:10:10   \n",
       "2020-01-21  20200121  20200121  1/21/2020  2020/1/21  2020-01-21 00:10:11   \n",
       "\n",
       "                  日期6  \n",
       "日期2                    \n",
       "2020-01-20 2020-01-20  \n",
       "2020-01-21 2020-01-21  "
      ]
     },
     "execution_count": 55,
     "metadata": {},
     "output_type": "execute_result"
    }
   ],
   "source": [
    "df=pd.read_excel('parse_dates.xlsx',index_col=2,parse_dates=True)\n",
    "df"
   ]
  },
  {
   "cell_type": "code",
   "execution_count": 56,
   "metadata": {
    "pycharm": {
     "name": "#%%\n"
    }
   },
   "outputs": [
    {
     "data": {
      "text/plain": [
       "DatetimeIndex(['2020-01-20', '2020-01-21'], dtype='datetime64[ns]', name='日期2', freq=None)"
      ]
     },
     "execution_count": 56,
     "metadata": {},
     "output_type": "execute_result"
    }
   ],
   "source": [
    "df.index"
   ]
  },
  {
   "cell_type": "code",
   "execution_count": 58,
   "metadata": {
    "pycharm": {
     "name": "#%%\n"
    }
   },
   "outputs": [
    {
     "data": {
      "text/html": [
       "<div>\n",
       "<style scoped>\n",
       "    .dataframe tbody tr th:only-of-type {\n",
       "        vertical-align: middle;\n",
       "    }\n",
       "\n",
       "    .dataframe tbody tr th {\n",
       "        vertical-align: top;\n",
       "    }\n",
       "\n",
       "    .dataframe thead th {\n",
       "        text-align: right;\n",
       "    }\n",
       "</style>\n",
       "<table border=\"1\" class=\"dataframe\">\n",
       "  <thead>\n",
       "    <tr style=\"text-align: right;\">\n",
       "      <th></th>\n",
       "      <th>日期0</th>\n",
       "      <th>日期1</th>\n",
       "      <th>日期2</th>\n",
       "      <th>日期3</th>\n",
       "      <th>日期4</th>\n",
       "      <th>日期5</th>\n",
       "      <th>日期6</th>\n",
       "    </tr>\n",
       "  </thead>\n",
       "  <tbody>\n",
       "    <tr>\n",
       "      <th>0</th>\n",
       "      <td>2020-01-20</td>\n",
       "      <td>2020-01-20</td>\n",
       "      <td>2020-01-20</td>\n",
       "      <td>2020-01-20</td>\n",
       "      <td>2020-01-20</td>\n",
       "      <td>2020-01-20 00:10:10</td>\n",
       "      <td>2020-01-20</td>\n",
       "    </tr>\n",
       "    <tr>\n",
       "      <th>1</th>\n",
       "      <td>2020-01-21</td>\n",
       "      <td>2020-01-21</td>\n",
       "      <td>2020-01-21</td>\n",
       "      <td>2020-01-21</td>\n",
       "      <td>2020-01-21</td>\n",
       "      <td>2020-01-21 00:10:11</td>\n",
       "      <td>2020-01-21</td>\n",
       "    </tr>\n",
       "  </tbody>\n",
       "</table>\n",
       "</div>"
      ],
      "text/plain": [
       "         日期0        日期1        日期2        日期3        日期4                 日期5  \\\n",
       "0 2020-01-20 2020-01-20 2020-01-20 2020-01-20 2020-01-20 2020-01-20 00:10:10   \n",
       "1 2020-01-21 2020-01-21 2020-01-21 2020-01-21 2020-01-21 2020-01-21 00:10:11   \n",
       "\n",
       "         日期6  \n",
       "0 2020-01-20  \n",
       "1 2020-01-21  "
      ]
     },
     "execution_count": 58,
     "metadata": {},
     "output_type": "execute_result"
    }
   ],
   "source": [
    "df=pd.read_excel('parse_dates.xlsx',parse_dates=[0,1,2,3,4,5])\n",
    "df"
   ]
  },
  {
   "cell_type": "code",
   "execution_count": 59,
   "metadata": {
    "pycharm": {
     "name": "#%%\n"
    }
   },
   "outputs": [
    {
     "data": {
      "text/plain": [
       "日期0    datetime64[ns]\n",
       "日期1    datetime64[ns]\n",
       "日期2    datetime64[ns]\n",
       "日期3    datetime64[ns]\n",
       "日期4    datetime64[ns]\n",
       "日期5    datetime64[ns]\n",
       "日期6    datetime64[ns]\n",
       "dtype: object"
      ]
     },
     "execution_count": 59,
     "metadata": {},
     "output_type": "execute_result"
    }
   ],
   "source": [
    "df.dtypes"
   ]
  },
  {
   "cell_type": "code",
   "execution_count": 61,
   "metadata": {
    "pycharm": {
     "name": "#%%\n"
    }
   },
   "outputs": [
    {
     "data": {
      "text/html": [
       "<div>\n",
       "<style scoped>\n",
       "    .dataframe tbody tr th:only-of-type {\n",
       "        vertical-align: middle;\n",
       "    }\n",
       "\n",
       "    .dataframe tbody tr th {\n",
       "        vertical-align: top;\n",
       "    }\n",
       "\n",
       "    .dataframe thead th {\n",
       "        text-align: right;\n",
       "    }\n",
       "</style>\n",
       "<table border=\"1\" class=\"dataframe\">\n",
       "  <thead>\n",
       "    <tr style=\"text-align: right;\">\n",
       "      <th></th>\n",
       "      <th>年_月_日</th>\n",
       "      <th>销量</th>\n",
       "    </tr>\n",
       "  </thead>\n",
       "  <tbody>\n",
       "    <tr>\n",
       "      <th>0</th>\n",
       "      <td>2020-01-20</td>\n",
       "      <td>100</td>\n",
       "    </tr>\n",
       "    <tr>\n",
       "      <th>1</th>\n",
       "      <td>2020-01-21</td>\n",
       "      <td>200</td>\n",
       "    </tr>\n",
       "  </tbody>\n",
       "</table>\n",
       "</div>"
      ],
      "text/plain": [
       "       年_月_日   销量\n",
       "0 2020-01-20  100\n",
       "1 2020-01-21  200"
      ]
     },
     "execution_count": 61,
     "metadata": {},
     "output_type": "execute_result"
    }
   ],
   "source": [
    "df=pd.read_excel('parse_dates.xlsx',\n",
    "                 sheet_name=1,\n",
    "                 parse_dates=[[0,1,2]]\n",
    "                 )\n",
    "df"
   ]
  },
  {
   "cell_type": "code",
   "execution_count": 64,
   "metadata": {
    "pycharm": {
     "name": "#%%\n"
    }
   },
   "outputs": [
    {
     "data": {
      "text/html": [
       "<div>\n",
       "<style scoped>\n",
       "    .dataframe tbody tr th:only-of-type {\n",
       "        vertical-align: middle;\n",
       "    }\n",
       "\n",
       "    .dataframe tbody tr th {\n",
       "        vertical-align: top;\n",
       "    }\n",
       "\n",
       "    .dataframe thead th {\n",
       "        text-align: right;\n",
       "    }\n",
       "</style>\n",
       "<table border=\"1\" class=\"dataframe\">\n",
       "  <thead>\n",
       "    <tr style=\"text-align: right;\">\n",
       "      <th></th>\n",
       "      <th>日期</th>\n",
       "    </tr>\n",
       "  </thead>\n",
       "  <tbody>\n",
       "    <tr>\n",
       "      <th>0</th>\n",
       "      <td>2020年1月20日</td>\n",
       "    </tr>\n",
       "    <tr>\n",
       "      <th>1</th>\n",
       "      <td>2020年1月21日</td>\n",
       "    </tr>\n",
       "  </tbody>\n",
       "</table>\n",
       "</div>"
      ],
      "text/plain": [
       "           日期\n",
       "0  2020年1月20日\n",
       "1  2020年1月21日"
      ]
     },
     "execution_count": 64,
     "metadata": {},
     "output_type": "execute_result"
    }
   ],
   "source": [
    "df=pd.read_excel('date_parser.xlsx')\n",
    "df\n"
   ]
  },
  {
   "cell_type": "code",
   "execution_count": 21,
   "metadata": {
    "pycharm": {
     "name": "#%%\n"
    }
   },
   "outputs": [
    {
     "data": {
      "text/plain": [
       "日期    datetime64[ns]\n",
       "dtype: object"
      ]
     },
     "execution_count": 21,
     "metadata": {},
     "output_type": "execute_result"
    }
   ],
   "source": [
    "df.dtypes\n"
   ]
  },
  {
   "cell_type": "code",
   "execution_count": 7,
   "metadata": {
    "pycharm": {
     "name": "#%%\n"
    }
   },
   "outputs": [
    {
     "data": {
      "text/html": [
       "<div>\n",
       "<style scoped>\n",
       "    .dataframe tbody tr th:only-of-type {\n",
       "        vertical-align: middle;\n",
       "    }\n",
       "\n",
       "    .dataframe tbody tr th {\n",
       "        vertical-align: top;\n",
       "    }\n",
       "\n",
       "    .dataframe thead th {\n",
       "        text-align: right;\n",
       "    }\n",
       "</style>\n",
       "<table border=\"1\" class=\"dataframe\">\n",
       "  <thead>\n",
       "    <tr style=\"text-align: right;\">\n",
       "      <th></th>\n",
       "      <th>日期</th>\n",
       "    </tr>\n",
       "  </thead>\n",
       "  <tbody>\n",
       "    <tr>\n",
       "      <th>0</th>\n",
       "      <td>2020-01-20</td>\n",
       "    </tr>\n",
       "    <tr>\n",
       "      <th>1</th>\n",
       "      <td>2020-01-21</td>\n",
       "    </tr>\n",
       "  </tbody>\n",
       "</table>\n",
       "</div>"
      ],
      "text/plain": [
       "          日期\n",
       "0 2020-01-20\n",
       "1 2020-01-21"
      ]
     },
     "execution_count": 7,
     "metadata": {},
     "output_type": "execute_result"
    }
   ],
   "source": [
    "df=pd.read_excel('date_parser.xlsx'\n",
    "                 ,parse_dates=[0]\n",
    "                 ,date_parser=lambda x:pd.to_datetime(x,format='%Y年%m月%d日'))\n",
    "df"
   ]
  },
  {
   "cell_type": "code",
   "execution_count": null,
   "metadata": {
    "pycharm": {
     "name": "#%%\n"
    }
   },
   "outputs": [],
   "source": []
  }
 ],
 "metadata": {
  "kernelspec": {
   "display_name": "Python 3",
   "language": "python",
   "name": "python3"
  },
  "language_info": {
   "codemirror_mode": {
    "name": "ipython",
    "version": 3
   },
   "file_extension": ".py",
   "mimetype": "text/x-python",
   "name": "python",
   "nbconvert_exporter": "python",
   "pygments_lexer": "ipython3",
   "version": "3.8.5"
  }
 },
 "nbformat": 4,
 "nbformat_minor": 4
}
