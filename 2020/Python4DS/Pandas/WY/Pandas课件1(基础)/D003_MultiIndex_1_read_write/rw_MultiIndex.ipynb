{
 "cells": [
  {
   "cell_type": "code",
   "execution_count": 57,
   "metadata": {
    "collapsed": true
   },
   "outputs": [],
   "source": [
    "import pandas as pd"
   ]
  },
  {
   "cell_type": "code",
   "execution_count": 58,
   "outputs": [
    {
     "data": {
      "text/plain": "        年  月  销量\n0  2019.0  1  10\n1     NaN  2  20\n2     NaN  3  30\n3  2020.0  1  40\n4     NaN  2  50\n5     NaN  3  60",
      "text/html": "<div>\n<style scoped>\n    .dataframe tbody tr th:only-of-type {\n        vertical-align: middle;\n    }\n\n    .dataframe tbody tr th {\n        vertical-align: top;\n    }\n\n    .dataframe thead th {\n        text-align: right;\n    }\n</style>\n<table border=\"1\" class=\"dataframe\">\n  <thead>\n    <tr style=\"text-align: right;\">\n      <th></th>\n      <th>年</th>\n      <th>月</th>\n      <th>销量</th>\n    </tr>\n  </thead>\n  <tbody>\n    <tr>\n      <th>0</th>\n      <td>2019.0</td>\n      <td>1</td>\n      <td>10</td>\n    </tr>\n    <tr>\n      <th>1</th>\n      <td>NaN</td>\n      <td>2</td>\n      <td>20</td>\n    </tr>\n    <tr>\n      <th>2</th>\n      <td>NaN</td>\n      <td>3</td>\n      <td>30</td>\n    </tr>\n    <tr>\n      <th>3</th>\n      <td>2020.0</td>\n      <td>1</td>\n      <td>40</td>\n    </tr>\n    <tr>\n      <th>4</th>\n      <td>NaN</td>\n      <td>2</td>\n      <td>50</td>\n    </tr>\n    <tr>\n      <th>5</th>\n      <td>NaN</td>\n      <td>3</td>\n      <td>60</td>\n    </tr>\n  </tbody>\n</table>\n</div>"
     },
     "execution_count": 58,
     "metadata": {},
     "output_type": "execute_result"
    }
   ],
   "source": [
    "df = pd.read_excel('MultiIndex.xlsx')\n",
    "df"
   ],
   "metadata": {
    "collapsed": false,
    "pycharm": {
     "name": "#%%\n"
    }
   }
  },
  {
   "cell_type": "code",
   "execution_count": 59,
   "outputs": [
    {
     "data": {
      "text/plain": "        销量\n年    月    \n2019 1  10\n     2  20\n     3  30\n2020 1  40\n     2  50\n     3  60",
      "text/html": "<div>\n<style scoped>\n    .dataframe tbody tr th:only-of-type {\n        vertical-align: middle;\n    }\n\n    .dataframe tbody tr th {\n        vertical-align: top;\n    }\n\n    .dataframe thead th {\n        text-align: right;\n    }\n</style>\n<table border=\"1\" class=\"dataframe\">\n  <thead>\n    <tr style=\"text-align: right;\">\n      <th></th>\n      <th></th>\n      <th>销量</th>\n    </tr>\n    <tr>\n      <th>年</th>\n      <th>月</th>\n      <th></th>\n    </tr>\n  </thead>\n  <tbody>\n    <tr>\n      <th rowspan=\"3\" valign=\"top\">2019</th>\n      <th>1</th>\n      <td>10</td>\n    </tr>\n    <tr>\n      <th>2</th>\n      <td>20</td>\n    </tr>\n    <tr>\n      <th>3</th>\n      <td>30</td>\n    </tr>\n    <tr>\n      <th rowspan=\"3\" valign=\"top\">2020</th>\n      <th>1</th>\n      <td>40</td>\n    </tr>\n    <tr>\n      <th>2</th>\n      <td>50</td>\n    </tr>\n    <tr>\n      <th>3</th>\n      <td>60</td>\n    </tr>\n  </tbody>\n</table>\n</div>"
     },
     "execution_count": 59,
     "metadata": {},
     "output_type": "execute_result"
    }
   ],
   "source": [
    "df = pd.read_excel(\n",
    "    'MultiIndex.xlsx',\n",
    "    index_col=[0, 1]\n",
    ")\n",
    "df"
   ],
   "metadata": {
    "collapsed": false,
    "pycharm": {
     "name": "#%%\n"
    }
   }
  },
  {
   "cell_type": "code",
   "execution_count": 60,
   "outputs": [
    {
     "data": {
      "text/plain": "MultiIndex([(2019, 1),\n            (2019, 2),\n            (2019, 3),\n            (2020, 1),\n            (2020, 2),\n            (2020, 3)],\n           names=['年', '月'])"
     },
     "execution_count": 60,
     "metadata": {},
     "output_type": "execute_result"
    }
   ],
   "source": [
    "df.index"
   ],
   "metadata": {
    "collapsed": false,
    "pycharm": {
     "name": "#%%\n"
    }
   }
  },
  {
   "cell_type": "code",
   "execution_count": 61,
   "outputs": [],
   "source": [
    "df.columns.name = '指标'"
   ],
   "metadata": {
    "collapsed": false,
    "pycharm": {
     "name": "#%%\n"
    }
   }
  },
  {
   "cell_type": "code",
   "execution_count": 62,
   "outputs": [
    {
     "data": {
      "text/plain": "指标      销量\n年    月    \n2019 1  10\n     2  20\n     3  30\n2020 1  40\n     2  50\n     3  60",
      "text/html": "<div>\n<style scoped>\n    .dataframe tbody tr th:only-of-type {\n        vertical-align: middle;\n    }\n\n    .dataframe tbody tr th {\n        vertical-align: top;\n    }\n\n    .dataframe thead th {\n        text-align: right;\n    }\n</style>\n<table border=\"1\" class=\"dataframe\">\n  <thead>\n    <tr style=\"text-align: right;\">\n      <th></th>\n      <th>指标</th>\n      <th>销量</th>\n    </tr>\n    <tr>\n      <th>年</th>\n      <th>月</th>\n      <th></th>\n    </tr>\n  </thead>\n  <tbody>\n    <tr>\n      <th rowspan=\"3\" valign=\"top\">2019</th>\n      <th>1</th>\n      <td>10</td>\n    </tr>\n    <tr>\n      <th>2</th>\n      <td>20</td>\n    </tr>\n    <tr>\n      <th>3</th>\n      <td>30</td>\n    </tr>\n    <tr>\n      <th rowspan=\"3\" valign=\"top\">2020</th>\n      <th>1</th>\n      <td>40</td>\n    </tr>\n    <tr>\n      <th>2</th>\n      <td>50</td>\n    </tr>\n    <tr>\n      <th>3</th>\n      <td>60</td>\n    </tr>\n  </tbody>\n</table>\n</div>"
     },
     "execution_count": 62,
     "metadata": {},
     "output_type": "execute_result"
    }
   ],
   "source": [
    "df\n"
   ],
   "metadata": {
    "collapsed": false,
    "pycharm": {
     "name": "#%%\n"
    }
   }
  },
  {
   "cell_type": "code",
   "execution_count": 63,
   "outputs": [
    {
     "data": {
      "text/plain": "     京东       淘宝     \n货号   销量   售价  销量   售价\naaa  10  100  40  110\nbbb  20  200  50  220\nccc  30  300  60  330",
      "text/html": "<div>\n<style scoped>\n    .dataframe tbody tr th:only-of-type {\n        vertical-align: middle;\n    }\n\n    .dataframe tbody tr th {\n        vertical-align: top;\n    }\n\n    .dataframe thead tr th {\n        text-align: left;\n    }\n</style>\n<table border=\"1\" class=\"dataframe\">\n  <thead>\n    <tr>\n      <th></th>\n      <th colspan=\"2\" halign=\"left\">京东</th>\n      <th colspan=\"2\" halign=\"left\">淘宝</th>\n    </tr>\n    <tr>\n      <th>货号</th>\n      <th>销量</th>\n      <th>售价</th>\n      <th>销量</th>\n      <th>售价</th>\n    </tr>\n  </thead>\n  <tbody>\n    <tr>\n      <th>aaa</th>\n      <td>10</td>\n      <td>100</td>\n      <td>40</td>\n      <td>110</td>\n    </tr>\n    <tr>\n      <th>bbb</th>\n      <td>20</td>\n      <td>200</td>\n      <td>50</td>\n      <td>220</td>\n    </tr>\n    <tr>\n      <th>ccc</th>\n      <td>30</td>\n      <td>300</td>\n      <td>60</td>\n      <td>330</td>\n    </tr>\n  </tbody>\n</table>\n</div>"
     },
     "execution_count": 63,
     "metadata": {},
     "output_type": "execute_result"
    }
   ],
   "source": [
    "df = pd.read_excel(\n",
    "    'MultiIndex.xlsx',\n",
    "    sheet_name=1,\n",
    "    header=[0, 1],\n",
    "    index_col=[0]\n",
    ")\n",
    "df"
   ],
   "metadata": {
    "collapsed": false,
    "pycharm": {
     "name": "#%%\n"
    }
   }
  },
  {
   "cell_type": "code",
   "execution_count": 64,
   "outputs": [],
   "source": [
    "df.index.name = '货号'"
   ],
   "metadata": {
    "collapsed": false,
    "pycharm": {
     "name": "#%%\n"
    }
   }
  },
  {
   "cell_type": "code",
   "execution_count": 65,
   "outputs": [],
   "source": [
    "df.columns.names = [None, None]"
   ],
   "metadata": {
    "collapsed": false,
    "pycharm": {
     "name": "#%%\n"
    }
   }
  },
  {
   "cell_type": "code",
   "execution_count": 66,
   "outputs": [
    {
     "data": {
      "text/plain": "     京东       淘宝     \n     销量   售价  销量   售价\n货号                   \naaa  10  100  40  110\nbbb  20  200  50  220\nccc  30  300  60  330",
      "text/html": "<div>\n<style scoped>\n    .dataframe tbody tr th:only-of-type {\n        vertical-align: middle;\n    }\n\n    .dataframe tbody tr th {\n        vertical-align: top;\n    }\n\n    .dataframe thead tr th {\n        text-align: left;\n    }\n\n    .dataframe thead tr:last-of-type th {\n        text-align: right;\n    }\n</style>\n<table border=\"1\" class=\"dataframe\">\n  <thead>\n    <tr>\n      <th></th>\n      <th colspan=\"2\" halign=\"left\">京东</th>\n      <th colspan=\"2\" halign=\"left\">淘宝</th>\n    </tr>\n    <tr>\n      <th></th>\n      <th>销量</th>\n      <th>售价</th>\n      <th>销量</th>\n      <th>售价</th>\n    </tr>\n    <tr>\n      <th>货号</th>\n      <th></th>\n      <th></th>\n      <th></th>\n      <th></th>\n    </tr>\n  </thead>\n  <tbody>\n    <tr>\n      <th>aaa</th>\n      <td>10</td>\n      <td>100</td>\n      <td>40</td>\n      <td>110</td>\n    </tr>\n    <tr>\n      <th>bbb</th>\n      <td>20</td>\n      <td>200</td>\n      <td>50</td>\n      <td>220</td>\n    </tr>\n    <tr>\n      <th>ccc</th>\n      <td>30</td>\n      <td>300</td>\n      <td>60</td>\n      <td>330</td>\n    </tr>\n  </tbody>\n</table>\n</div>"
     },
     "execution_count": 66,
     "metadata": {},
     "output_type": "execute_result"
    }
   ],
   "source": [
    "df"
   ],
   "metadata": {
    "collapsed": false,
    "pycharm": {
     "name": "#%%\n"
    }
   }
  },
  {
   "cell_type": "code",
   "execution_count": 67,
   "outputs": [],
   "source": [
    "# df.to_excel('std_mul_1.xlsx')"
   ],
   "metadata": {
    "collapsed": false,
    "pycharm": {
     "name": "#%%\n"
    }
   }
  },
  {
   "cell_type": "code",
   "execution_count": 67,
   "outputs": [],
   "source": [],
   "metadata": {
    "collapsed": false,
    "pycharm": {
     "name": "#%%\n"
    }
   }
  },
  {
   "cell_type": "code",
   "execution_count": 68,
   "outputs": [
    {
     "data": {
      "text/plain": "        京东       淘宝     \n        销量   售价  销量   售价\n货号  月份                  \naaa 1   10  100  40  110\n    2   20  200  50  220\nbbb 1   30  300  60  330\n    2   40  400  70  440",
      "text/html": "<div>\n<style scoped>\n    .dataframe tbody tr th:only-of-type {\n        vertical-align: middle;\n    }\n\n    .dataframe tbody tr th {\n        vertical-align: top;\n    }\n\n    .dataframe thead tr th {\n        text-align: left;\n    }\n\n    .dataframe thead tr:last-of-type th {\n        text-align: right;\n    }\n</style>\n<table border=\"1\" class=\"dataframe\">\n  <thead>\n    <tr>\n      <th></th>\n      <th></th>\n      <th colspan=\"2\" halign=\"left\">京东</th>\n      <th colspan=\"2\" halign=\"left\">淘宝</th>\n    </tr>\n    <tr>\n      <th></th>\n      <th></th>\n      <th>销量</th>\n      <th>售价</th>\n      <th>销量</th>\n      <th>售价</th>\n    </tr>\n    <tr>\n      <th>货号</th>\n      <th>月份</th>\n      <th></th>\n      <th></th>\n      <th></th>\n      <th></th>\n    </tr>\n  </thead>\n  <tbody>\n    <tr>\n      <th rowspan=\"2\" valign=\"top\">aaa</th>\n      <th>1</th>\n      <td>10</td>\n      <td>100</td>\n      <td>40</td>\n      <td>110</td>\n    </tr>\n    <tr>\n      <th>2</th>\n      <td>20</td>\n      <td>200</td>\n      <td>50</td>\n      <td>220</td>\n    </tr>\n    <tr>\n      <th rowspan=\"2\" valign=\"top\">bbb</th>\n      <th>1</th>\n      <td>30</td>\n      <td>300</td>\n      <td>60</td>\n      <td>330</td>\n    </tr>\n    <tr>\n      <th>2</th>\n      <td>40</td>\n      <td>400</td>\n      <td>70</td>\n      <td>440</td>\n    </tr>\n  </tbody>\n</table>\n</div>"
     },
     "execution_count": 68,
     "metadata": {},
     "output_type": "execute_result"
    }
   ],
   "source": [
    "df = pd.read_excel(\n",
    "    'MultiIndex.xlsx',\n",
    "    sheet_name=2,\n",
    "    header=[0, 1],\n",
    "    index_col=[0, 1]\n",
    ")\n",
    "df"
   ],
   "metadata": {
    "collapsed": false,
    "pycharm": {
     "name": "#%%\n"
    }
   }
  },
  {
   "cell_type": "code",
   "execution_count": 69,
   "outputs": [
    {
     "data": {
      "text/plain": "MultiIndex([('aaa', 1),\n            ('aaa', 2),\n            ('bbb', 1),\n            ('bbb', 2)],\n           names=['货号', '月份'])"
     },
     "execution_count": 69,
     "metadata": {},
     "output_type": "execute_result"
    }
   ],
   "source": [
    "df.index"
   ],
   "metadata": {
    "collapsed": false,
    "pycharm": {
     "name": "#%%\n"
    }
   }
  },
  {
   "cell_type": "code",
   "execution_count": 70,
   "outputs": [],
   "source": [
    "df.columns.names = [\n",
    "    None, None]"
   ],
   "metadata": {
    "collapsed": false,
    "pycharm": {
     "name": "#%%\n"
    }
   }
  },
  {
   "cell_type": "code",
   "execution_count": 71,
   "outputs": [
    {
     "data": {
      "text/plain": "        京东       淘宝     \n        销量   售价  销量   售价\n货号  月份                  \naaa 1   10  100  40  110\n    2   20  200  50  220\nbbb 1   30  300  60  330\n    2   40  400  70  440",
      "text/html": "<div>\n<style scoped>\n    .dataframe tbody tr th:only-of-type {\n        vertical-align: middle;\n    }\n\n    .dataframe tbody tr th {\n        vertical-align: top;\n    }\n\n    .dataframe thead tr th {\n        text-align: left;\n    }\n\n    .dataframe thead tr:last-of-type th {\n        text-align: right;\n    }\n</style>\n<table border=\"1\" class=\"dataframe\">\n  <thead>\n    <tr>\n      <th></th>\n      <th></th>\n      <th colspan=\"2\" halign=\"left\">京东</th>\n      <th colspan=\"2\" halign=\"left\">淘宝</th>\n    </tr>\n    <tr>\n      <th></th>\n      <th></th>\n      <th>销量</th>\n      <th>售价</th>\n      <th>销量</th>\n      <th>售价</th>\n    </tr>\n    <tr>\n      <th>货号</th>\n      <th>月份</th>\n      <th></th>\n      <th></th>\n      <th></th>\n      <th></th>\n    </tr>\n  </thead>\n  <tbody>\n    <tr>\n      <th rowspan=\"2\" valign=\"top\">aaa</th>\n      <th>1</th>\n      <td>10</td>\n      <td>100</td>\n      <td>40</td>\n      <td>110</td>\n    </tr>\n    <tr>\n      <th>2</th>\n      <td>20</td>\n      <td>200</td>\n      <td>50</td>\n      <td>220</td>\n    </tr>\n    <tr>\n      <th rowspan=\"2\" valign=\"top\">bbb</th>\n      <th>1</th>\n      <td>30</td>\n      <td>300</td>\n      <td>60</td>\n      <td>330</td>\n    </tr>\n    <tr>\n      <th>2</th>\n      <td>40</td>\n      <td>400</td>\n      <td>70</td>\n      <td>440</td>\n    </tr>\n  </tbody>\n</table>\n</div>"
     },
     "execution_count": 71,
     "metadata": {},
     "output_type": "execute_result"
    }
   ],
   "source": [
    "df"
   ],
   "metadata": {
    "collapsed": false,
    "pycharm": {
     "name": "#%%\n"
    }
   }
  },
  {
   "cell_type": "code",
   "execution_count": 72,
   "outputs": [],
   "source": [
    "df.to_excel('std_mul_2.xlsx')"
   ],
   "metadata": {
    "collapsed": false,
    "pycharm": {
     "name": "#%%\n"
    }
   }
  },
  {
   "cell_type": "code",
   "execution_count": null,
   "outputs": [],
   "source": [
    "\n"
   ],
   "metadata": {
    "collapsed": false,
    "pycharm": {
     "name": "#%%\n"
    }
   }
  }
 ],
 "metadata": {
  "kernelspec": {
   "display_name": "Python 3",
   "language": "python",
   "name": "python3"
  },
  "language_info": {
   "codemirror_mode": {
    "name": "ipython",
    "version": 2
   },
   "file_extension": ".py",
   "mimetype": "text/x-python",
   "name": "python",
   "nbconvert_exporter": "python",
   "pygments_lexer": "ipython2",
   "version": "2.7.6"
  }
 },
 "nbformat": 4,
 "nbformat_minor": 0
}