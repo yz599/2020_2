{
 "cells": [
  {
   "cell_type": "markdown",
   "metadata": {},
   "source": [
    "# Manipulate data\n",
    "Numpy\n",
    "- **New dataset:** np.concatenate\n",
    " - 有通用的 concatenate\n",
    " - 有专门的 vstack, hstack, dstack  (split)\n",
    " - 有极简的 r_, c_\n",
    " - array.append\n",
    "-**Change dimensions/shape:** Reshape/ravel&flatten - \n",
    "-**Change shape of 2_D:** Reshape/split\n",
    "\n",
    "\n",
    "DataFrame\n",
    "- pd.concat&merge/df.join()  **(axis or keys)**\n",
    "- stack&unstack+multiINdex\n",
    "-**Visulization:** Pivot/melt\n",
    "\n"
   ]
  },
  {
   "cell_type": "markdown",
   "metadata": {},
   "source": [
    "# 1. Update dataset/add new elements"
   ]
  },
  {
   "cell_type": "markdown",
   "metadata": {},
   "source": [
    "## 1.1 np.concatenate and np.stack\n",
    "**np.concatenate([],axis)** /np.append()/np.insert()/np.delete()  \n",
    "**np.stack((),axis)** <font color='red'>no unstack use split</font>    \n",
    "**np.split(array,[index],axis)**  \n",
    "\n",
    "- np.vstack：v 代表 vertical，竖直合并，等价于 concatenate(axis=0)\n",
    "- np.hstack：h 代表 horizontal，水平合并，等价于 concatenate(axis=1)\n",
    "- np.dstack：d 代表 depth-wise，按深度合并，深度有点像彩色照片的 RGB 通道\n",
    "\n",
    "---\n",
    "- hsplit,   \n",
    "- vsplit\n",
    "\n",
    "[R1](https://jakevdp.github.io/PythonDataScienceHandbook/03.06-concat-and-append.html)\n",
    "\n",
    "[R2](https://mp.weixin.qq.com/s?__biz=MzIzMjY0MjE1MA==&mid=2247486784&idx=1&sn=50a54067e9d596d4a03beb2b281167fb&chksm=e8908e49dfe7075f3cb3b1d5ef9b6ad149c63d3e33a8a42e503717ed09d82df7aa71e87c1eb1&scene=21#wechat_redirect)\n",
    "\n",
    "[R3](https://mp.weixin.qq.com/s?__biz=MzIzMjY0MjE1MA==&mid=2247486547&idx=1&sn=b3e8816663938f55df8603990c5d42db&chksm=e8908f5adfe7064c8500716ac77e5579077ef186ce9721110cc06c26b11ba7a10b65ea82862a&scene=21#wechat_redirect)"
   ]
  },
  {
   "cell_type": "code",
   "execution_count": 2,
   "metadata": {},
   "outputs": [],
   "source": [
    "import numpy as np"
   ]
  },
  {
   "cell_type": "code",
   "execution_count": 3,
   "metadata": {},
   "outputs": [],
   "source": [
    "arr1 = np.array([[1, 2, 3], [4, 5, 6]])\n",
    "arr2 = np.array([[7, 8, 9], [10, 11, 12]])"
   ]
  },
  {
   "cell_type": "code",
   "execution_count": 5,
   "metadata": {},
   "outputs": [
    {
     "name": "stdout",
     "output_type": "stream",
     "text": [
      "[[ 1  2  3]\n",
      " [ 4  5  6]\n",
      " [ 7  8  9]\n",
      " [10 11 12]]\n",
      "[[ 1  2  3  7  8  9]\n",
      " [ 4  5  6 10 11 12]]\n"
     ]
    }
   ],
   "source": [
    "print(np.concatenate([arr1, arr2], axis=0))\n",
    "print(np.concatenate([arr1, arr2], axis=1))"
   ]
  },
  {
   "cell_type": "code",
   "execution_count": 6,
   "metadata": {},
   "outputs": [
    {
     "name": "stdout",
     "output_type": "stream",
     "text": [
      "[[ 1  2  3]\n",
      " [ 4  5  6]\n",
      " [ 7  8  9]\n",
      " [10 11 12]]\n",
      "[[ 1  2  3  7  8  9]\n",
      " [ 4  5  6 10 11 12]]\n",
      "[[[ 1  7]\n",
      "  [ 2  8]\n",
      "  [ 3  9]]\n",
      "\n",
      " [[ 4 10]\n",
      "  [ 5 11]\n",
      "  [ 6 12]]]\n"
     ]
    }
   ],
   "source": [
    "print( np.vstack((arr1, arr2)) )\n",
    "print( np.hstack((arr1, arr2)) )\n",
    "print( np.dstack((arr1, arr2)) )"
   ]
  },
  {
   "cell_type": "markdown",
   "metadata": {},
   "source": [
    "## 1.2 np.r_ and np.c_"
   ]
  },
  {
   "cell_type": "markdown",
   "metadata": {},
   "source": [
    "1. 参数可以是切片。"
   ]
  },
  {
   "cell_type": "code",
   "execution_count": 15,
   "metadata": {},
   "outputs": [
    {
     "name": "stdout",
     "output_type": "stream",
     "text": [
      "[-2 -1  0  1  0  0  0  5  6]\n"
     ]
    }
   ],
   "source": [
    "print( np.r_[-2:2:1, [0]*3, 5, 6] )"
   ]
  },
  {
   "cell_type": "markdown",
   "metadata": {},
   "source": [
    "2. 第一个参数可以是控制参数，如果它用 'r' 或 'c' 字符可生成线性代数最常用的 matrix (和二维 numpy array 稍微有些不同)"
   ]
  },
  {
   "cell_type": "code",
   "execution_count": 16,
   "metadata": {},
   "outputs": [
    {
     "data": {
      "text/plain": [
       "matrix([[1, 2, 3, 4, 5, 6]])"
      ]
     },
     "execution_count": 16,
     "metadata": {},
     "output_type": "execute_result"
    }
   ],
   "source": [
    "np.r_['r', [1,2,3], [4,5,6]]"
   ]
  },
  {
   "cell_type": "code",
   "execution_count": 17,
   "metadata": {},
   "outputs": [
    {
     "data": {
      "text/plain": [
       "matrix([[1],\n",
       "        [2],\n",
       "        [3],\n",
       "        [4],\n",
       "        [5],\n",
       "        [6]])"
      ]
     },
     "execution_count": 17,
     "metadata": {},
     "output_type": "execute_result"
    }
   ],
   "source": [
    "np.r_['c', [1,2,3], [4,5,6]]"
   ]
  },
  {
   "cell_type": "markdown",
   "metadata": {},
   "source": [
    "3. 第一个参数可以是控制参数，如果它写成 ‘a,b,c’ 的形式，其中  \n",
    "a：代表轴，按「轴 a」来合并  \n",
    "b：合并后数组维度至少是 b  \n",
    "c：在第 c 维上做维度提升  "
   ]
  },
  {
   "cell_type": "code",
   "execution_count": 19,
   "metadata": {},
   "outputs": [
    {
     "name": "stdout",
     "output_type": "stream",
     "text": [
      "[[1]\n",
      " [2]\n",
      " [3]\n",
      " [4]\n",
      " [5]\n",
      " [6]]\n",
      "[[1 2 3]\n",
      " [4 5 6]]\n",
      "[[1 4]\n",
      " [2 5]\n",
      " [3 6]]\n",
      "[[1 2 3 4 5 6]]\n"
     ]
    }
   ],
   "source": [
    "print( np.r_['0,2,0', [1,2,3], [4,5,6]] )\n",
    "print( np.r_['0,2,1', [1,2,3], [4,5,6]] )\n",
    "print( np.r_['1,2,0', [1,2,3], [4,5,6]] )\n",
    "print( np.r_['1,2,1', [1,2,3], [4,5,6]] )"
   ]
  },
  {
   "cell_type": "markdown",
   "metadata": {},
   "source": [
    "## 1.3 split\n",
    "使用「分裂」函数有两种选择\n",
    "- 有通用的 split -concatenate() 函数一样，我们可以在 split() 函数里通过设定轴，来对数组沿着竖直方向分裂 (轴 0) 和沿着水平方向分裂 (轴 1)\n",
    "- 有专门的 hsplit, vsplit - vsplit() 和 split(axis=0) 等价，hsplit() 和 split(axis=1) 等价  \n",
    "\n",
    "![](https://mmbiz.qpic.cn/mmbiz_png/e4kxNicDVcCGvrjj2ow2W5KGAYOEIaf4XebCO1AHJibicVZ0UibuOe3fFneM28CTbQW9l6TNowHGWvyR3XYU4o0Yrg/640?wx_fmt=png&tp=webp&wxfrom=5&wx_lazy=1&wx_co=1)"
   ]
  },
  {
   "cell_type": "code",
   "execution_count": 10,
   "metadata": {},
   "outputs": [
    {
     "name": "stdout",
     "output_type": "stream",
     "text": [
      "[[ 0  1  2  3  4]\n",
      " [ 5  6  7  8  9]\n",
      " [10 11 12 13 14]\n",
      " [15 16 17 18 19]\n",
      " [20 21 22 23 24]]\n",
      "\n",
      "The first split is [[0 1 2 3 4]]\n",
      "The second split is [[ 5  6  7  8  9]\n",
      " [10 11 12 13 14]]\n",
      "The third split is [[15 16 17 18 19]\n",
      " [20 21 22 23 24]]\n"
     ]
    }
   ],
   "source": [
    "arr = np.arange(25).reshape((5,5))\n",
    "print( arr )\n",
    "print()\n",
    "first, second, third = np.split(arr,[1,3])\n",
    "print( 'The first split is', first )\n",
    "print( 'The second split is', second )\n",
    "print( 'The third split is', third )"
   ]
  },
  {
   "cell_type": "markdown",
   "metadata": {},
   "source": [
    "split() 默认沿着轴 0 分裂，其第二个参数 [1, 3] 相当于是个切片操作 **[where to cut @ row1 and row3]**，将数组分成三部分：\n",
    "\n",
    "\n",
    "\n",
    "第一部分 - :1 (即第 1 行)\n",
    "\n",
    "第二部分 - 1:3 (即第 2 到 3 行)\n",
    "\n",
    "第二部分 - 3:  (即第 4 到 5 行)"
   ]
  },
  {
   "cell_type": "code",
   "execution_count": 11,
   "metadata": {},
   "outputs": [
    {
     "name": "stdout",
     "output_type": "stream",
     "text": [
      "The first split is [[ 0]\n",
      " [ 5]\n",
      " [10]\n",
      " [15]\n",
      " [20]]\n",
      "The second split is [[ 1  2]\n",
      " [ 6  7]\n",
      " [11 12]\n",
      " [16 17]\n",
      " [21 22]]\n",
      "The third split is [[ 3  4]\n",
      " [ 8  9]\n",
      " [13 14]\n",
      " [18 19]\n",
      " [23 24]]\n"
     ]
    }
   ],
   "source": [
    "first, second, third = np.hsplit(arr,[1,3])\n",
    "print( 'The first split is', first )\n",
    "print( 'The second split is', second )\n",
    "print( 'The third split is', third )"
   ]
  },
  {
   "cell_type": "code",
   "execution_count": 14,
   "metadata": {},
   "outputs": [
    {
     "name": "stdout",
     "output_type": "stream",
     "text": [
      "The first split is [[ 0  1  2]\n",
      " [ 5  6  7]\n",
      " [10 11 12]\n",
      " [15 16 17]\n",
      " [20 21 22]]\n",
      "The second split is [[ 3  4]\n",
      " [ 8  9]\n",
      " [13 14]\n",
      " [18 19]\n",
      " [23 24]]\n"
     ]
    }
   ],
   "source": [
    "first, second = np.hsplit(arr,[3])\n",
    "print( 'The first split is', first )\n",
    "print( 'The second split is', second )\n"
   ]
  },
  {
   "cell_type": "code",
   "execution_count": null,
   "metadata": {},
   "outputs": [],
   "source": []
  }
 ],
 "metadata": {
  "kernelspec": {
   "display_name": "Python 3",
   "language": "python",
   "name": "python3"
  },
  "language_info": {
   "codemirror_mode": {
    "name": "ipython",
    "version": 3
   },
   "file_extension": ".py",
   "mimetype": "text/x-python",
   "name": "python",
   "nbconvert_exporter": "python",
   "pygments_lexer": "ipython3",
   "version": "3.8.3"
  }
 },
 "nbformat": 4,
 "nbformat_minor": 4
}
