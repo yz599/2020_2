{
 "cells": [
  {
   "cell_type": "markdown",
   "metadata": {},
   "source": [
    "Python has three standard modules that are designed to help working with dates and times:\n",
    "    \n",
    "- calendar module\n",
    "- time module\n",
    "- datetime module"
   ]
  },
  {
   "cell_type": "code",
   "execution_count": 5,
   "metadata": {},
   "outputs": [],
   "source": [
    "from csv import reader\n",
    "import datetime as dt"
   ]
  },
  {
   "cell_type": "code",
   "execution_count": 46,
   "metadata": {},
   "outputs": [],
   "source": [
    "with open('potus_visitors_2015.csv','r') as fh:\n",
    "    fh_read=reader(fh)\n",
    "    potus=list(fh_read)\n",
    "potus=potus[1:]"
   ]
  },
  {
   "cell_type": "markdown",
   "metadata": {},
   "source": [
    "# datatime module"
   ]
  },
  {
   "cell_type": "markdown",
   "metadata": {},
   "source": [
    "## datetime class\n",
    "\n",
    "datetime.datetime(year, month, day, hour=0, minute=0, second=0)"
   ]
  },
  {
   "cell_type": "code",
   "execution_count": 8,
   "metadata": {},
   "outputs": [
    {
     "name": "stdout",
     "output_type": "stream",
     "text": [
      "2000-01-01 00:00:00\n",
      "1985-03-13 21:26:02\n"
     ]
    }
   ],
   "source": [
    "eg_1=dt.datetime(2000,1,1)\n",
    "print(eg_1)\n",
    "eg_2 = dt.datetime(1985, 3, 13, 21, 26, 2)\n",
    "print(eg_2)"
   ]
  },
  {
   "cell_type": "markdown",
   "metadata": {},
   "source": [
    "## Str2Date - Strptime/strftime\n",
    "- dt.datetime.strptime\n",
    "- str.strftime"
   ]
  },
  {
   "cell_type": "markdown",
   "metadata": {},
   "source": [
    "![](https://s3.amazonaws.com/dq-content/353/manually_parse_date.svg)"
   ]
  },
  {
   "cell_type": "code",
   "execution_count": 9,
   "metadata": {},
   "outputs": [
    {
     "data": {
      "text/plain": [
       "'12/18/15 16:30'"
      ]
     },
     "execution_count": 9,
     "metadata": {},
     "output_type": "execute_result"
    }
   ],
   "source": [
    "potus[-1][2]"
   ]
  },
  {
   "cell_type": "markdown",
   "metadata": {},
   "source": [
    "### strptime constructor\n",
    "\n",
    "The datetime.strptime() constructor returns a datetime object defined using a special syntax system to describe date and time formats called strftime.\n",
    "\n",
    "\n",
    "The strftime syntax uses a series of format codes consisting of a % character followed by a single character which specifies a date or time part in a particular format.\n",
    "![](https://s3.amazonaws.com/dq-content/353/strptime_eg_1.svg)"
   ]
  },
  {
   "cell_type": "markdown",
   "metadata": {},
   "source": [
    "The first argument of the datetime.strptime() constructor is the string we want to parse, and the second argument is a string that specifies the format.\n",
    "\n",
    "The %d, %m, and %Y format codes specify a two-digit day, two-digit month, and four-digit year respectively, and the forward slashes between them specify the forward slashes in the original string."
   ]
  },
  {
   "cell_type": "markdown",
   "metadata": {},
   "source": [
    "![](https://s3.amazonaws.com/dq-content/353/strptime_eg_2.svg)"
   ]
  },
  {
   "cell_type": "code",
   "execution_count": 34,
   "metadata": {},
   "outputs": [
    {
     "name": "stdout",
     "output_type": "stream",
     "text": [
      "<class 'datetime.datetime'>\n",
      "1984-12-24 00:00:00\n"
     ]
    }
   ],
   "source": [
    "date_1_str = \"24/12/1984\"\n",
    "date_1_dt = dt.datetime.strptime(date_1_str, \"%d/%m/%Y\")\n",
    "print(type(date_1_dt))\n",
    "print(date_1_dt)"
   ]
  },
  {
   "cell_type": "markdown",
   "metadata": {},
   "source": [
    "#### Convert datetime in csv"
   ]
  },
  {
   "cell_type": "code",
   "execution_count": 47,
   "metadata": {},
   "outputs": [],
   "source": [
    "date_format='%m/%d/%y %H:%M'"
   ]
  },
  {
   "cell_type": "code",
   "execution_count": 51,
   "metadata": {},
   "outputs": [],
   "source": [
    "for item in potus:\n",
    "    app_start=item[2]\n",
    "    \n",
    "    app_start=dt.datetime.strptime(app_start,date_format)\n",
    "    item[2]=app_start"
   ]
  },
  {
   "cell_type": "code",
   "execution_count": 52,
   "metadata": {},
   "outputs": [
    {
     "data": {
      "text/plain": [
       "datetime.datetime"
      ]
     },
     "execution_count": 52,
     "metadata": {},
     "output_type": "execute_result"
    }
   ],
   "source": [
    "type(potus[1][2])"
   ]
  },
  {
   "cell_type": "code",
   "execution_count": 53,
   "metadata": {},
   "outputs": [],
   "source": [
    "visitors_per_month=dict()\n",
    "for row in potus:\n",
    "    app_start=row[2]\n",
    "    new_app_start=app_start.strftime(\"%B, %Y\")\n",
    "    if new_app_start in visitors_per_month:\n",
    "        visitors_per_month[new_app_start]+=1\n",
    "    else:\n",
    "        visitors_per_month[new_app_start]=1"
   ]
  },
  {
   "cell_type": "markdown",
   "metadata": {},
   "source": [
    "## time class\n",
    "- dt.time\n",
    "- dt.datetime.time\n",
    "\n",
    "time class doesn't have a strptime() constructor, but if we need to parse times in string form, we can use datetime.strptime()\n",
    "\n",
    "if we need to parse times in string form, we can use **datetime.strptime()** and then convert directly to a **time object:**\n",
    "\n",
    "\n",
    "the hour argument requires an integer between 0 and 23"
   ]
  },
  {
   "cell_type": "code",
   "execution_count": 54,
   "metadata": {},
   "outputs": [
    {
     "name": "stdout",
     "output_type": "stream",
     "text": [
      "14:30:00\n"
     ]
    }
   ],
   "source": [
    "two_thirty = dt.time(14, 30)\n",
    "print(two_thirty)"
   ]
  },
  {
   "cell_type": "code",
   "execution_count": 60,
   "metadata": {},
   "outputs": [
    {
     "name": "stdout",
     "output_type": "stream",
     "text": [
      "1900-01-01 08:00:00\n",
      "<class 'datetime.datetime'>\n"
     ]
    }
   ],
   "source": [
    "time_str = \"8:00\"\n",
    "time_dt = dt.datetime.strptime(time_str,\"%H:%M\")\n",
    "print(time_dt)\n",
    "print(type(time_dt))"
   ]
  },
  {
   "cell_type": "code",
   "execution_count": 61,
   "metadata": {},
   "outputs": [
    {
     "name": "stdout",
     "output_type": "stream",
     "text": [
      "08:00:00\n",
      "<class 'datetime.time'>\n"
     ]
    }
   ],
   "source": [
    "time_t = time_dt.time()\n",
    "print(time_t)\n",
    "print(type(time_t))"
   ]
  },
  {
   "cell_type": "markdown",
   "metadata": {},
   "source": [
    "## Compare time objects"
   ]
  },
  {
   "cell_type": "code",
   "execution_count": 63,
   "metadata": {},
   "outputs": [
    {
     "name": "stdout",
     "output_type": "stream",
     "text": [
      "True\n"
     ]
    }
   ],
   "source": [
    "t1 = dt.time(15, 30)\n",
    "t2 = dt.time(10, 45)\n",
    "\n",
    "comparison = t1 > t2\n",
    "print(comparison)"
   ]
  },
  {
   "cell_type": "code",
   "execution_count": 64,
   "metadata": {},
   "outputs": [
    {
     "name": "stdout",
     "output_type": "stream",
     "text": [
      "08:00:00\n"
     ]
    }
   ],
   "source": [
    "times = [\n",
    "           dt.time(23, 30),\n",
    "           dt.time(14, 45),\n",
    "           dt.time(8, 0)\n",
    "        ]\n",
    "\n",
    "print(min(times))"
   ]
  },
  {
   "cell_type": "markdown",
   "metadata": {},
   "source": [
    "## datetime.timedelta\n",
    "The timedelta type represents a period of time, compared with the other classes we've seen which represent a specific moment in time.\n",
    "\n",
    "\n",
    "datetime.timedelta(days=0, seconds=0, microseconds=0,\n",
    "                   milliseconds=0, minutes=0, hours=0, weeks=0)"
   ]
  },
  {
   "cell_type": "code",
   "execution_count": 66,
   "metadata": {},
   "outputs": [
    {
     "ename": "TypeError",
     "evalue": "unsupported operand type(s) for +: 'datetime.datetime' and 'datetime.datetime'",
     "output_type": "error",
     "traceback": [
      "\u001b[0;31m---------------------------------------------------------------------------\u001b[0m",
      "\u001b[0;31mTypeError\u001b[0m                                 Traceback (most recent call last)",
      "\u001b[0;32m<ipython-input-66-c22ee8abc0aa>\u001b[0m in \u001b[0;36m<module>\u001b[0;34m\u001b[0m\n\u001b[1;32m      1\u001b[0m \u001b[0mdt1\u001b[0m \u001b[0;34m=\u001b[0m \u001b[0mdt\u001b[0m\u001b[0;34m.\u001b[0m\u001b[0mdatetime\u001b[0m\u001b[0;34m(\u001b[0m\u001b[0;36m2022\u001b[0m\u001b[0;34m,\u001b[0m \u001b[0;36m4\u001b[0m\u001b[0;34m,\u001b[0m \u001b[0;36m14\u001b[0m\u001b[0;34m)\u001b[0m\u001b[0;34m\u001b[0m\u001b[0;34m\u001b[0m\u001b[0m\n\u001b[1;32m      2\u001b[0m \u001b[0mdt2\u001b[0m \u001b[0;34m=\u001b[0m \u001b[0mdt\u001b[0m\u001b[0;34m.\u001b[0m\u001b[0mdatetime\u001b[0m\u001b[0;34m(\u001b[0m\u001b[0;36m2022\u001b[0m\u001b[0;34m,\u001b[0m \u001b[0;36m3\u001b[0m\u001b[0;34m,\u001b[0m \u001b[0;36m29\u001b[0m\u001b[0;34m)\u001b[0m\u001b[0;34m\u001b[0m\u001b[0;34m\u001b[0m\u001b[0m\n\u001b[0;32m----> 3\u001b[0;31m \u001b[0mprint\u001b[0m\u001b[0;34m(\u001b[0m\u001b[0mdt1\u001b[0m \u001b[0;34m+\u001b[0m \u001b[0mdt2\u001b[0m\u001b[0;34m)\u001b[0m\u001b[0;34m\u001b[0m\u001b[0;34m\u001b[0m\u001b[0m\n\u001b[0m",
      "\u001b[0;31mTypeError\u001b[0m: unsupported operand type(s) for +: 'datetime.datetime' and 'datetime.datetime'"
     ]
    }
   ],
   "source": [
    "dt1 = dt.datetime(2022, 4, 14)\n",
    "dt2 = dt.datetime(2022, 3, 29)\n",
    "print(dt1 + dt2)"
   ]
  },
  {
   "cell_type": "code",
   "execution_count": 67,
   "metadata": {},
   "outputs": [
    {
     "name": "stdout",
     "output_type": "stream",
     "text": [
      "<class 'datetime.timedelta'>\n"
     ]
    }
   ],
   "source": [
    "diff = dt1 - dt2\n",
    "print(type(diff))"
   ]
  },
  {
   "cell_type": "code",
   "execution_count": 68,
   "metadata": {},
   "outputs": [
    {
     "name": "stdout",
     "output_type": "stream",
     "text": [
      "1963-02-28\n"
     ]
    }
   ],
   "source": [
    "d1 = dt.date(1963, 2, 21)\n",
    "d1_plus_1wk = d1 + dt.timedelta(weeks=1)\n",
    "print(d1_plus_1wk)"
   ]
  },
  {
   "cell_type": "code",
   "execution_count": null,
   "metadata": {},
   "outputs": [],
   "source": []
  },
  {
   "cell_type": "code",
   "execution_count": null,
   "metadata": {},
   "outputs": [],
   "source": []
  }
 ],
 "metadata": {
  "kernelspec": {
   "display_name": "Python 3",
   "language": "python",
   "name": "python3"
  },
  "language_info": {
   "codemirror_mode": {
    "name": "ipython",
    "version": 3
   },
   "file_extension": ".py",
   "mimetype": "text/x-python",
   "name": "python",
   "nbconvert_exporter": "python",
   "pygments_lexer": "ipython3",
   "version": "3.8.5"
  },
  "toc": {
   "base_numbering": 1,
   "nav_menu": {},
   "number_sections": true,
   "sideBar": true,
   "skip_h1_title": false,
   "title_cell": "Table of Contents",
   "title_sidebar": "Contents",
   "toc_cell": false,
   "toc_position": {},
   "toc_section_display": true,
   "toc_window_display": true
  }
 },
 "nbformat": 4,
 "nbformat_minor": 4
}
