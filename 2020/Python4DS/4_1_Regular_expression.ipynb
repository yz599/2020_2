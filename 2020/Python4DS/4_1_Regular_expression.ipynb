{
 "cells": [
  {
   "cell_type": "markdown",
   "metadata": {},
   "source": [
    "[Dataquest](https://app.dataquest.io/m/354/regular-expression-basics/1/introduction)\n",
    "[RegularEx](https://app.dataquest.io/m/351/cleaning-and-preparing-data-in-python/1/introducing-data-cleaning)\n",
    "\n",
    "[Good tutorial](https://www.dataquest.io/blog/regular-expressions-data-scientists/)\n",
    "[Ref](https://www.tutorialspoint.com/python/python_reg_expressions.htm)"
   ]
  },
  {
   "cell_type": "markdown",
   "metadata": {},
   "source": [
    "# List of lists"
   ]
  },
  {
   "cell_type": "code",
   "execution_count": 2,
   "metadata": {},
   "outputs": [],
   "source": [
    "from csv import reader"
   ]
  },
  {
   "cell_type": "code",
   "execution_count": 11,
   "metadata": {},
   "outputs": [],
   "source": [
    "opened_file=open(\"artworks.csv\")\n",
    "read_file=reader(opened_file)\n",
    "moma=list(read_file)\n",
    "moma=moma[1:]"
   ]
  },
  {
   "cell_type": "markdown",
   "metadata": {},
   "source": [
    "## Regular expression"
   ]
  },
  {
   "cell_type": "markdown",
   "metadata": {},
   "source": [
    "### [String methods](https://www.datacamp.com/community/tutorials/python-string-tutorial)"
   ]
  },
  {
   "cell_type": "markdown",
   "metadata": {},
   "source": [
    "### str.replace - remove symbols (tidy data)"
   ]
  },
  {
   "cell_type": "code",
   "execution_count": 16,
   "metadata": {},
   "outputs": [
    {
     "data": {
      "text/plain": [
       "['Duplicate of plate from folio 11 verso (supplementary suite, plate 4) from ARDICIA',\n",
       " 'Pablo Palazuelo',\n",
       " 'Spanish',\n",
       " '(1916)',\n",
       " '(2007)',\n",
       " 'Male',\n",
       " '1978',\n",
       " 'Prints & Illustrated Books']"
      ]
     },
     "execution_count": 16,
     "metadata": {},
     "output_type": "execute_result"
    }
   ],
   "source": [
    "moma[1]"
   ]
  },
  {
   "cell_type": "code",
   "execution_count": 17,
   "metadata": {},
   "outputs": [],
   "source": [
    "for row in moma:\n",
    "    nationality=row[2]\n",
    "    nationality=nationality.replace(\"(\",\"\")\n",
    "    nationality=nationality.replace(\")\",\"\")\n",
    "    row[2]=nationality\n",
    "    \n",
    "    gender=row[5]\n",
    "    gender=gender.replace(\"(\",\"\")\n",
    "    gender=gender.replace(\")\",\"\")\n",
    "    row[5]=gender"
   ]
  },
  {
   "cell_type": "code",
   "execution_count": 18,
   "metadata": {
    "scrolled": true
   },
   "outputs": [
    {
     "data": {
      "text/plain": [
       "['Duplicate of plate from folio 11 verso (supplementary suite, plate 4) from ARDICIA',\n",
       " 'Pablo Palazuelo',\n",
       " 'Spanish',\n",
       " '(1916)',\n",
       " '(2007)',\n",
       " 'Male',\n",
       " '1978',\n",
       " 'Prints & Illustrated Books']"
      ]
     },
     "execution_count": 18,
     "metadata": {},
     "output_type": "execute_result"
    }
   ],
   "source": [
    "moma[1]"
   ]
  },
  {
   "cell_type": "markdown",
   "metadata": {},
   "source": [
    "----"
   ]
  },
  {
   "cell_type": "markdown",
   "metadata": {},
   "source": [
    "#### Symbol at head/tail"
   ]
  },
  {
   "cell_type": "code",
   "execution_count": 24,
   "metadata": {},
   "outputs": [],
   "source": [
    "test_data = [\"1912\", \"1929\", \"1913-1923\",\n",
    "             \"(1951)\", \"1994\", \"1934\",\n",
    "             \"c. 1915\", \"1995\", \"c. 1912\",\n",
    "             \"(1988)\", \"2002\", \"1957-1959\",\n",
    "             \"c. 1955.\", \"c. 1970's\", \n",
    "             \"C. 1990-1999\"]\n",
    "\n",
    "bad_chars = [\"(\",\")\",\"c\",\"C\",\".\",\"s\",\"'\", \" \"]\n",
    "\n",
    "def strip_characters(string):\n",
    "    for char in bad_chars:\n",
    "        string=string.replace(char,\"\")\n",
    "    return string\n",
    "\n",
    "stripped_test_data=[]\n",
    "\n",
    "for row in test_data:\n",
    "    row=strip_characters(row)\n",
    "    stripped_test_data.append(row)"
   ]
  },
  {
   "cell_type": "markdown",
   "metadata": {},
   "source": [
    "#### Symbol in between str.split()"
   ]
  },
  {
   "cell_type": "code",
   "execution_count": 26,
   "metadata": {},
   "outputs": [],
   "source": [
    "def process_date(date):\n",
    "    if \"-\" in date:\n",
    "        split_date = date.split(\"-\")\n",
    "        date_one = split_date[0]\n",
    "        date_two = split_date[1]       \n",
    "        date = (int(date_one) + int(date_two)) / 2\n",
    "        date = round(date)\n",
    "    else:\n",
    "        date = int(date)\n",
    "    return date"
   ]
  },
  {
   "cell_type": "code",
   "execution_count": 27,
   "metadata": {},
   "outputs": [],
   "source": [
    "stripped_test_data = ['1912', '1929', '1913-1923',\n",
    "                      '1951', '1994', '1934',\n",
    "                      '1915', '1995', '1912',\n",
    "                      '1988', '2002', '1957-1959',\n",
    "                      '1955', '1970', '1990-1999']\n",
    "\n",
    "\n",
    "processed_test_data = []\n",
    "\n",
    "for d in stripped_test_data:\n",
    "    date = process_date(d)\n",
    "    processed_test_data.append(date)\n"
   ]
  },
  {
   "cell_type": "code",
   "execution_count": 28,
   "metadata": {},
   "outputs": [],
   "source": [
    "for row in moma:\n",
    "    date = row[6]\n",
    "    date = strip_characters(date)\n",
    "    date = process_date(date)\n",
    "    row[6] = date"
   ]
  },
  {
   "cell_type": "markdown",
   "metadata": {},
   "source": [
    "### str.title - captalization"
   ]
  },
  {
   "cell_type": "markdown",
   "metadata": {},
   "source": [
    "The Gender column in our data set contains four unique values:\n",
    "\n",
    "- \"\" (an empty string)\n",
    "- \"Male\"\n",
    "- \"Female\"\n",
    "- \"male\"\n",
    "\n",
    "Inconsistency in data\n",
    "\n",
    "- We could use str.replace() to replace m with M, but then we'd end up with instances of FeMale.\n",
    "- We could use str.replace() to replace male with Male. This would also give us instances of FeMale.\n",
    "\n",
    "Even if the word \"male\" wasn't contained in the word \"female,\" both of these techniques wouldn't be good options if we had a column with many different values."
   ]
  },
  {
   "cell_type": "markdown",
   "metadata": {},
   "source": [
    "The str.title() method returns a copy of the string with the first letter of each word transformed to uppercase (also known as title case)."
   ]
  },
  {
   "cell_type": "code",
   "execution_count": 19,
   "metadata": {},
   "outputs": [],
   "source": [
    "for row in moma:\n",
    "    gender=row[5]\n",
    "    gender=gender.title()\n",
    "    if not gender:\n",
    "        gender=\"Gender Unknown/Other\"\n",
    "    row[5]=gender\n",
    "    \n",
    "    nationality=row[2]\n",
    "    nationality=nationality.title()\n",
    "    if not nationality:\n",
    "        nationality=\"Nationality Unknown\"\n",
    "        \n",
    "    row[2]=nationality"
   ]
  },
  {
   "cell_type": "code",
   "execution_count": 20,
   "metadata": {},
   "outputs": [
    {
     "data": {
      "text/plain": [
       "['Duplicate of plate from folio 11 verso (supplementary suite, plate 4) from ARDICIA',\n",
       " 'Pablo Palazuelo',\n",
       " 'Spanish',\n",
       " '(1916)',\n",
       " '(2007)',\n",
       " 'Male',\n",
       " '1978',\n",
       " 'Prints & Illustrated Books']"
      ]
     },
     "execution_count": 20,
     "metadata": {},
     "output_type": "execute_result"
    }
   ],
   "source": [
    "moma[1]"
   ]
  },
  {
   "cell_type": "markdown",
   "metadata": {},
   "source": [
    "### str2num"
   ]
  },
  {
   "cell_type": "markdown",
   "metadata": {},
   "source": [
    "- Takes a single argument\n",
    "- Uses str.replace() to remove the \"(\" character\n",
    "- Uses str.replace() to remove the \")\" character\n",
    "- Uses the int() function to convert the string to an integer"
   ]
  },
  {
   "cell_type": "code",
   "execution_count": 21,
   "metadata": {},
   "outputs": [],
   "source": [
    "def clean_and_convert(date):\n",
    "    # check that we don't have an empty string\n",
    "    if date != \"\":\n",
    "\n",
    "        date = date.replace(\"(\", \"\")\n",
    "        date = date.replace(\")\", \"\")\n",
    "        date = int(date)\n",
    "    return date\n"
   ]
  },
  {
   "cell_type": "code",
   "execution_count": 22,
   "metadata": {},
   "outputs": [],
   "source": [
    "\n",
    "for row in moma:\n",
    "    BeginDate=row[3]\n",
    "    EndDate=row[4]\n",
    "    BeginDate=clean_and_convert(BeginDate)\n",
    "    EndDate=clean_and_convert(EndDate)\n",
    "    \n",
    "    row[3]=BeginDate\n",
    "    row[4]=EndDate\n"
   ]
  },
  {
   "cell_type": "code",
   "execution_count": 23,
   "metadata": {},
   "outputs": [
    {
     "data": {
      "text/plain": [
       "['Duplicate of plate from folio 11 verso (supplementary suite, plate 4) from ARDICIA',\n",
       " 'Pablo Palazuelo',\n",
       " 'Spanish',\n",
       " 1916,\n",
       " 2007,\n",
       " 'Male',\n",
       " '1978',\n",
       " 'Prints & Illustrated Books']"
      ]
     },
     "execution_count": 23,
     "metadata": {},
     "output_type": "execute_result"
    }
   ],
   "source": [
    "moma[1]"
   ]
  },
  {
   "cell_type": "markdown",
   "metadata": {},
   "source": [
    "### Re package"
   ]
  },
  {
   "cell_type": "markdown",
   "metadata": {},
   "source": [
    "#### Find and match"
   ]
  },
  {
   "cell_type": "markdown",
   "metadata": {},
   "source": [
    "- re.findall() matches **all instances** of a pattern in a string and returns them in **a list**,\n",
    "- re.search() matches the **first instance** of a pattern in a string, and returns it as a re **match object.**\n",
    "  - group() converts the match object into a string."
   ]
  },
  {
   "cell_type": "code",
   "execution_count": null,
   "metadata": {},
   "outputs": [],
   "source": []
  }
 ],
 "metadata": {
  "kernelspec": {
   "display_name": "Python 3",
   "language": "python",
   "name": "python3"
  },
  "language_info": {
   "codemirror_mode": {
    "name": "ipython",
    "version": 3
   },
   "file_extension": ".py",
   "mimetype": "text/x-python",
   "name": "python",
   "nbconvert_exporter": "python",
   "pygments_lexer": "ipython3",
   "version": "3.8.5"
  },
  "toc": {
   "base_numbering": 1,
   "nav_menu": {},
   "number_sections": true,
   "sideBar": true,
   "skip_h1_title": false,
   "title_cell": "Table of Contents",
   "title_sidebar": "Contents",
   "toc_cell": false,
   "toc_position": {},
   "toc_section_display": true,
   "toc_window_display": true
  }
 },
 "nbformat": 4,
 "nbformat_minor": 4
}
