{
 "cells": [
  {
   "cell_type": "code",
   "execution_count": 1,
   "outputs": [],
   "source": [],
   "metadata": {
    "collapsed": false,
    "pycharm": {
     "name": "#%% MutilIndex selecting\n"
    }
   }
  },
  {
   "cell_type": "code",
   "execution_count": 2,
   "outputs": [],
   "source": [
    "import pandas as pd\n",
    "from datetime import datetime\n",
    "import numpy as np\n",
    "np.random.seed(123)"
   ],
   "metadata": {
    "collapsed": false,
    "pycharm": {
     "name": "#%%\n"
    }
   }
  },
  {
   "cell_type": "code",
   "execution_count": 3,
   "outputs": [],
   "source": [
    "def gen_list(items, size=100):\n",
    "    return pd.Series(items).sample(\n",
    "        n=size, replace=True\n",
    "    ).tolist()"
   ],
   "metadata": {
    "collapsed": false,
    "pycharm": {
     "name": "#%%\n"
    }
   }
  },
  {
   "cell_type": "code",
   "execution_count": 4,
   "outputs": [
    {
     "data": {
      "text/plain": "     货号 尺码   平台  销量\n0   ccc  S   淘宝   5\n1   bbb  L  唯品会   8\n2   ccc  L   京东   8\n3   ccc  M   京东   5\n4   aaa  M   京东   5\n..  ... ..  ...  ..\n95  bbb  L   淘宝   8\n96  ccc  M  唯品会   5\n97  ccc  M   京东   5\n98  bbb  L   淘宝   2\n99  ccc  L  唯品会   2\n\n[100 rows x 4 columns]",
      "text/html": "<div>\n<style scoped>\n    .dataframe tbody tr th:only-of-type {\n        vertical-align: middle;\n    }\n\n    .dataframe tbody tr th {\n        vertical-align: top;\n    }\n\n    .dataframe thead th {\n        text-align: right;\n    }\n</style>\n<table border=\"1\" class=\"dataframe\">\n  <thead>\n    <tr style=\"text-align: right;\">\n      <th></th>\n      <th>货号</th>\n      <th>尺码</th>\n      <th>平台</th>\n      <th>销量</th>\n    </tr>\n  </thead>\n  <tbody>\n    <tr>\n      <th>0</th>\n      <td>ccc</td>\n      <td>S</td>\n      <td>淘宝</td>\n      <td>5</td>\n    </tr>\n    <tr>\n      <th>1</th>\n      <td>bbb</td>\n      <td>L</td>\n      <td>唯品会</td>\n      <td>8</td>\n    </tr>\n    <tr>\n      <th>2</th>\n      <td>ccc</td>\n      <td>L</td>\n      <td>京东</td>\n      <td>8</td>\n    </tr>\n    <tr>\n      <th>3</th>\n      <td>ccc</td>\n      <td>M</td>\n      <td>京东</td>\n      <td>5</td>\n    </tr>\n    <tr>\n      <th>4</th>\n      <td>aaa</td>\n      <td>M</td>\n      <td>京东</td>\n      <td>5</td>\n    </tr>\n    <tr>\n      <th>...</th>\n      <td>...</td>\n      <td>...</td>\n      <td>...</td>\n      <td>...</td>\n    </tr>\n    <tr>\n      <th>95</th>\n      <td>bbb</td>\n      <td>L</td>\n      <td>淘宝</td>\n      <td>8</td>\n    </tr>\n    <tr>\n      <th>96</th>\n      <td>ccc</td>\n      <td>M</td>\n      <td>唯品会</td>\n      <td>5</td>\n    </tr>\n    <tr>\n      <th>97</th>\n      <td>ccc</td>\n      <td>M</td>\n      <td>京东</td>\n      <td>5</td>\n    </tr>\n    <tr>\n      <th>98</th>\n      <td>bbb</td>\n      <td>L</td>\n      <td>淘宝</td>\n      <td>2</td>\n    </tr>\n    <tr>\n      <th>99</th>\n      <td>ccc</td>\n      <td>L</td>\n      <td>唯品会</td>\n      <td>2</td>\n    </tr>\n  </tbody>\n</table>\n<p>100 rows × 4 columns</p>\n</div>"
     },
     "execution_count": 4,
     "metadata": {},
     "output_type": "execute_result"
    }
   ],
   "source": [
    "df = pd.DataFrame({\n",
    "    '货号': gen_list(['aaa', 'bbb', 'ccc']),\n",
    "    '尺码': gen_list(['S', 'M', 'L']),\n",
    "    '平台': gen_list(['京东', '淘宝', '唯品会']),\n",
    "    '销量': gen_list([2, 5, 8]),\n",
    "})\n",
    "df"
   ],
   "metadata": {
    "collapsed": false,
    "pycharm": {
     "name": "#%%\n"
    }
   }
  },
  {
   "cell_type": "code",
   "execution_count": 5,
   "outputs": [
    {
     "data": {
      "text/plain": "平台   京东         唯品会          淘宝        \n尺码    L   M   S   L   M   S   L   M   S\n货号                                     \naaa   7  18   8  15  33  21  23  17  17\nbbb  31  23  25  24  17  15  25   5   7\nccc  31  33  10  18  15  18  19  29  38",
      "text/html": "<div>\n<style scoped>\n    .dataframe tbody tr th:only-of-type {\n        vertical-align: middle;\n    }\n\n    .dataframe tbody tr th {\n        vertical-align: top;\n    }\n\n    .dataframe thead tr th {\n        text-align: left;\n    }\n\n    .dataframe thead tr:last-of-type th {\n        text-align: right;\n    }\n</style>\n<table border=\"1\" class=\"dataframe\">\n  <thead>\n    <tr>\n      <th>平台</th>\n      <th colspan=\"3\" halign=\"left\">京东</th>\n      <th colspan=\"3\" halign=\"left\">唯品会</th>\n      <th colspan=\"3\" halign=\"left\">淘宝</th>\n    </tr>\n    <tr>\n      <th>尺码</th>\n      <th>L</th>\n      <th>M</th>\n      <th>S</th>\n      <th>L</th>\n      <th>M</th>\n      <th>S</th>\n      <th>L</th>\n      <th>M</th>\n      <th>S</th>\n    </tr>\n    <tr>\n      <th>货号</th>\n      <th></th>\n      <th></th>\n      <th></th>\n      <th></th>\n      <th></th>\n      <th></th>\n      <th></th>\n      <th></th>\n      <th></th>\n    </tr>\n  </thead>\n  <tbody>\n    <tr>\n      <th>aaa</th>\n      <td>7</td>\n      <td>18</td>\n      <td>8</td>\n      <td>15</td>\n      <td>33</td>\n      <td>21</td>\n      <td>23</td>\n      <td>17</td>\n      <td>17</td>\n    </tr>\n    <tr>\n      <th>bbb</th>\n      <td>31</td>\n      <td>23</td>\n      <td>25</td>\n      <td>24</td>\n      <td>17</td>\n      <td>15</td>\n      <td>25</td>\n      <td>5</td>\n      <td>7</td>\n    </tr>\n    <tr>\n      <th>ccc</th>\n      <td>31</td>\n      <td>33</td>\n      <td>10</td>\n      <td>18</td>\n      <td>15</td>\n      <td>18</td>\n      <td>19</td>\n      <td>29</td>\n      <td>38</td>\n    </tr>\n  </tbody>\n</table>\n</div>"
     },
     "execution_count": 5,
     "metadata": {},
     "output_type": "execute_result"
    }
   ],
   "source": [
    "df = pd.pivot_table(\n",
    "    df,\n",
    "    index=['货号'],\n",
    "    columns=['平台', '尺码'],\n",
    "    values='销量',\n",
    "    aggfunc=sum\n",
    ")\n",
    "df"
   ],
   "metadata": {
    "collapsed": false,
    "pycharm": {
     "name": "#%%\n"
    }
   }
  },
  {
   "cell_type": "code",
   "execution_count": 6,
   "outputs": [
    {
     "data": {
      "text/plain": "Index(['aaa', 'bbb', 'ccc'], dtype='object', name='货号')"
     },
     "execution_count": 6,
     "metadata": {},
     "output_type": "execute_result"
    }
   ],
   "source": [
    "df.index"
   ],
   "metadata": {
    "collapsed": false,
    "pycharm": {
     "name": "#%%\n"
    }
   }
  },
  {
   "cell_type": "code",
   "execution_count": 7,
   "outputs": [
    {
     "data": {
      "text/plain": "MultiIndex([( '京东', 'L'),\n            ( '京东', 'M'),\n            ( '京东', 'S'),\n            ('唯品会', 'L'),\n            ('唯品会', 'M'),\n            ('唯品会', 'S'),\n            ( '淘宝', 'L'),\n            ( '淘宝', 'M'),\n            ( '淘宝', 'S')],\n           names=['平台', '尺码'])"
     },
     "execution_count": 7,
     "metadata": {},
     "output_type": "execute_result"
    }
   ],
   "source": [
    "df.columns"
   ],
   "metadata": {
    "collapsed": false,
    "pycharm": {
     "name": "#%%\n"
    }
   }
  },
  {
   "cell_type": "code",
   "execution_count": 8,
   "outputs": [
    {
     "data": {
      "text/plain": "货号\naaa    17\nbbb     5\nccc    29\nName: (淘宝, M), dtype: int64"
     },
     "execution_count": 8,
     "metadata": {},
     "output_type": "execute_result"
    }
   ],
   "source": [
    "df[('淘宝', 'M')]"
   ],
   "metadata": {
    "collapsed": false,
    "pycharm": {
     "name": "#%%\n"
    }
   }
  },
  {
   "cell_type": "code",
   "execution_count": 9,
   "outputs": [
    {
     "data": {
      "text/plain": "平台   淘宝  京东\n尺码    M   M\n货号         \naaa  17  18\nbbb   5  23\nccc  29  33",
      "text/html": "<div>\n<style scoped>\n    .dataframe tbody tr th:only-of-type {\n        vertical-align: middle;\n    }\n\n    .dataframe tbody tr th {\n        vertical-align: top;\n    }\n\n    .dataframe thead tr th {\n        text-align: left;\n    }\n\n    .dataframe thead tr:last-of-type th {\n        text-align: right;\n    }\n</style>\n<table border=\"1\" class=\"dataframe\">\n  <thead>\n    <tr>\n      <th>平台</th>\n      <th>淘宝</th>\n      <th>京东</th>\n    </tr>\n    <tr>\n      <th>尺码</th>\n      <th>M</th>\n      <th>M</th>\n    </tr>\n    <tr>\n      <th>货号</th>\n      <th></th>\n      <th></th>\n    </tr>\n  </thead>\n  <tbody>\n    <tr>\n      <th>aaa</th>\n      <td>17</td>\n      <td>18</td>\n    </tr>\n    <tr>\n      <th>bbb</th>\n      <td>5</td>\n      <td>23</td>\n    </tr>\n    <tr>\n      <th>ccc</th>\n      <td>29</td>\n      <td>33</td>\n    </tr>\n  </tbody>\n</table>\n</div>"
     },
     "execution_count": 9,
     "metadata": {},
     "output_type": "execute_result"
    }
   ],
   "source": [
    "df[[('淘宝', 'M'), ( '京东', 'M'),]]"
   ],
   "metadata": {
    "collapsed": false,
    "pycharm": {
     "name": "#%%\n"
    }
   }
  },
  {
   "cell_type": "code",
   "execution_count": 10,
   "outputs": [
    {
     "data": {
      "text/plain": "平台   京东         唯品会          淘宝        \n尺码    L   M   S   L   M   S   L   M   S\n货号                                     \naaa   7  18   8  15  33  21  23  17  17\nccc  31  33  10  18  15  18  19  29  38",
      "text/html": "<div>\n<style scoped>\n    .dataframe tbody tr th:only-of-type {\n        vertical-align: middle;\n    }\n\n    .dataframe tbody tr th {\n        vertical-align: top;\n    }\n\n    .dataframe thead tr th {\n        text-align: left;\n    }\n\n    .dataframe thead tr:last-of-type th {\n        text-align: right;\n    }\n</style>\n<table border=\"1\" class=\"dataframe\">\n  <thead>\n    <tr>\n      <th>平台</th>\n      <th colspan=\"3\" halign=\"left\">京东</th>\n      <th colspan=\"3\" halign=\"left\">唯品会</th>\n      <th colspan=\"3\" halign=\"left\">淘宝</th>\n    </tr>\n    <tr>\n      <th>尺码</th>\n      <th>L</th>\n      <th>M</th>\n      <th>S</th>\n      <th>L</th>\n      <th>M</th>\n      <th>S</th>\n      <th>L</th>\n      <th>M</th>\n      <th>S</th>\n    </tr>\n    <tr>\n      <th>货号</th>\n      <th></th>\n      <th></th>\n      <th></th>\n      <th></th>\n      <th></th>\n      <th></th>\n      <th></th>\n      <th></th>\n      <th></th>\n    </tr>\n  </thead>\n  <tbody>\n    <tr>\n      <th>aaa</th>\n      <td>7</td>\n      <td>18</td>\n      <td>8</td>\n      <td>15</td>\n      <td>33</td>\n      <td>21</td>\n      <td>23</td>\n      <td>17</td>\n      <td>17</td>\n    </tr>\n    <tr>\n      <th>ccc</th>\n      <td>31</td>\n      <td>33</td>\n      <td>10</td>\n      <td>18</td>\n      <td>15</td>\n      <td>18</td>\n      <td>19</td>\n      <td>29</td>\n      <td>38</td>\n    </tr>\n  </tbody>\n</table>\n</div>"
     },
     "execution_count": 10,
     "metadata": {},
     "output_type": "execute_result"
    }
   ],
   "source": [
    "df[df[('淘宝', 'M')]>10]"
   ],
   "metadata": {
    "collapsed": false,
    "pycharm": {
     "name": "#%%\n"
    }
   }
  },
  {
   "cell_type": "code",
   "execution_count": 12,
   "outputs": [
    {
     "data": {
      "text/plain": "尺码    L   M   S\n货号             \naaa  23  17  17\nbbb  25   5   7\nccc  19  29  38",
      "text/html": "<div>\n<style scoped>\n    .dataframe tbody tr th:only-of-type {\n        vertical-align: middle;\n    }\n\n    .dataframe tbody tr th {\n        vertical-align: top;\n    }\n\n    .dataframe thead th {\n        text-align: right;\n    }\n</style>\n<table border=\"1\" class=\"dataframe\">\n  <thead>\n    <tr style=\"text-align: right;\">\n      <th>尺码</th>\n      <th>L</th>\n      <th>M</th>\n      <th>S</th>\n    </tr>\n    <tr>\n      <th>货号</th>\n      <th></th>\n      <th></th>\n      <th></th>\n    </tr>\n  </thead>\n  <tbody>\n    <tr>\n      <th>aaa</th>\n      <td>23</td>\n      <td>17</td>\n      <td>17</td>\n    </tr>\n    <tr>\n      <th>bbb</th>\n      <td>25</td>\n      <td>5</td>\n      <td>7</td>\n    </tr>\n    <tr>\n      <th>ccc</th>\n      <td>19</td>\n      <td>29</td>\n      <td>38</td>\n    </tr>\n  </tbody>\n</table>\n</div>"
     },
     "execution_count": 12,
     "metadata": {},
     "output_type": "execute_result"
    }
   ],
   "source": [
    "df['淘宝']"
   ],
   "metadata": {
    "collapsed": false,
    "pycharm": {
     "name": "#%%\n"
    }
   }
  },
  {
   "cell_type": "code",
   "execution_count": 14,
   "outputs": [
    {
     "data": {
      "text/plain": "平台   京东  唯品会  淘宝\n货号              \naaa  18   33  17\nbbb  23   17   5\nccc  33   15  29",
      "text/html": "<div>\n<style scoped>\n    .dataframe tbody tr th:only-of-type {\n        vertical-align: middle;\n    }\n\n    .dataframe tbody tr th {\n        vertical-align: top;\n    }\n\n    .dataframe thead th {\n        text-align: right;\n    }\n</style>\n<table border=\"1\" class=\"dataframe\">\n  <thead>\n    <tr style=\"text-align: right;\">\n      <th>平台</th>\n      <th>京东</th>\n      <th>唯品会</th>\n      <th>淘宝</th>\n    </tr>\n    <tr>\n      <th>货号</th>\n      <th></th>\n      <th></th>\n      <th></th>\n    </tr>\n  </thead>\n  <tbody>\n    <tr>\n      <th>aaa</th>\n      <td>18</td>\n      <td>33</td>\n      <td>17</td>\n    </tr>\n    <tr>\n      <th>bbb</th>\n      <td>23</td>\n      <td>17</td>\n      <td>5</td>\n    </tr>\n    <tr>\n      <th>ccc</th>\n      <td>33</td>\n      <td>15</td>\n      <td>29</td>\n    </tr>\n  </tbody>\n</table>\n</div>"
     },
     "execution_count": 14,
     "metadata": {},
     "output_type": "execute_result"
    }
   ],
   "source": [
    "df.swaplevel(axis=1)['M']"
   ],
   "metadata": {
    "collapsed": false,
    "pycharm": {
     "name": "#%%\n"
    }
   }
  },
  {
   "cell_type": "code",
   "execution_count": 15,
   "outputs": [
    {
     "data": {
      "text/plain": "平台  唯品会  淘宝\n尺码    M   M\n货号         \naaa  33  17\nbbb  17   5\nccc  15  29",
      "text/html": "<div>\n<style scoped>\n    .dataframe tbody tr th:only-of-type {\n        vertical-align: middle;\n    }\n\n    .dataframe tbody tr th {\n        vertical-align: top;\n    }\n\n    .dataframe thead tr th {\n        text-align: left;\n    }\n\n    .dataframe thead tr:last-of-type th {\n        text-align: right;\n    }\n</style>\n<table border=\"1\" class=\"dataframe\">\n  <thead>\n    <tr>\n      <th>平台</th>\n      <th>唯品会</th>\n      <th>淘宝</th>\n    </tr>\n    <tr>\n      <th>尺码</th>\n      <th>M</th>\n      <th>M</th>\n    </tr>\n    <tr>\n      <th>货号</th>\n      <th></th>\n      <th></th>\n    </tr>\n  </thead>\n  <tbody>\n    <tr>\n      <th>aaa</th>\n      <td>33</td>\n      <td>17</td>\n    </tr>\n    <tr>\n      <th>bbb</th>\n      <td>17</td>\n      <td>5</td>\n    </tr>\n    <tr>\n      <th>ccc</th>\n      <td>15</td>\n      <td>29</td>\n    </tr>\n  </tbody>\n</table>\n</div>"
     },
     "execution_count": 15,
     "metadata": {},
     "output_type": "execute_result"
    }
   ],
   "source": [
    "df.loc[:, (['唯品会', '淘宝'], 'M')]"
   ],
   "metadata": {
    "collapsed": false,
    "pycharm": {
     "name": "#%%\n"
    }
   }
  },
  {
   "cell_type": "code",
   "execution_count": 16,
   "outputs": [
    {
     "data": {
      "text/plain": "平台  唯品会          淘宝        \n尺码    L   M   S   L   M   S\n货号                         \naaa  15  33  21  23  17  17\nbbb  24  17  15  25   5   7",
      "text/html": "<div>\n<style scoped>\n    .dataframe tbody tr th:only-of-type {\n        vertical-align: middle;\n    }\n\n    .dataframe tbody tr th {\n        vertical-align: top;\n    }\n\n    .dataframe thead tr th {\n        text-align: left;\n    }\n\n    .dataframe thead tr:last-of-type th {\n        text-align: right;\n    }\n</style>\n<table border=\"1\" class=\"dataframe\">\n  <thead>\n    <tr>\n      <th>平台</th>\n      <th colspan=\"3\" halign=\"left\">唯品会</th>\n      <th colspan=\"3\" halign=\"left\">淘宝</th>\n    </tr>\n    <tr>\n      <th>尺码</th>\n      <th>L</th>\n      <th>M</th>\n      <th>S</th>\n      <th>L</th>\n      <th>M</th>\n      <th>S</th>\n    </tr>\n    <tr>\n      <th>货号</th>\n      <th></th>\n      <th></th>\n      <th></th>\n      <th></th>\n      <th></th>\n      <th></th>\n    </tr>\n  </thead>\n  <tbody>\n    <tr>\n      <th>aaa</th>\n      <td>15</td>\n      <td>33</td>\n      <td>21</td>\n      <td>23</td>\n      <td>17</td>\n      <td>17</td>\n    </tr>\n    <tr>\n      <th>bbb</th>\n      <td>24</td>\n      <td>17</td>\n      <td>15</td>\n      <td>25</td>\n      <td>5</td>\n      <td>7</td>\n    </tr>\n  </tbody>\n</table>\n</div>"
     },
     "execution_count": 16,
     "metadata": {},
     "output_type": "execute_result"
    }
   ],
   "source": [
    "df.loc['aaa':'bbb', '唯品会': '淘宝']"
   ],
   "metadata": {
    "collapsed": false,
    "pycharm": {
     "name": "#%%\n"
    }
   }
  },
  {
   "cell_type": "code",
   "execution_count": 17,
   "outputs": [
    {
     "data": {
      "text/plain": "平台  唯品会      淘宝    \n尺码    M   S   L   M\n货号                 \naaa  33  21  23  17\nbbb  17  15  25   5",
      "text/html": "<div>\n<style scoped>\n    .dataframe tbody tr th:only-of-type {\n        vertical-align: middle;\n    }\n\n    .dataframe tbody tr th {\n        vertical-align: top;\n    }\n\n    .dataframe thead tr th {\n        text-align: left;\n    }\n\n    .dataframe thead tr:last-of-type th {\n        text-align: right;\n    }\n</style>\n<table border=\"1\" class=\"dataframe\">\n  <thead>\n    <tr>\n      <th>平台</th>\n      <th colspan=\"2\" halign=\"left\">唯品会</th>\n      <th colspan=\"2\" halign=\"left\">淘宝</th>\n    </tr>\n    <tr>\n      <th>尺码</th>\n      <th>M</th>\n      <th>S</th>\n      <th>L</th>\n      <th>M</th>\n    </tr>\n    <tr>\n      <th>货号</th>\n      <th></th>\n      <th></th>\n      <th></th>\n      <th></th>\n    </tr>\n  </thead>\n  <tbody>\n    <tr>\n      <th>aaa</th>\n      <td>33</td>\n      <td>21</td>\n      <td>23</td>\n      <td>17</td>\n    </tr>\n    <tr>\n      <th>bbb</th>\n      <td>17</td>\n      <td>15</td>\n      <td>25</td>\n      <td>5</td>\n    </tr>\n  </tbody>\n</table>\n</div>"
     },
     "execution_count": 17,
     "metadata": {},
     "output_type": "execute_result"
    }
   ],
   "source": [
    "df.loc['aaa':'bbb',\n",
    "       ('唯品会', 'M'): ('淘宝', 'M')]"
   ],
   "metadata": {
    "collapsed": false,
    "pycharm": {
     "name": "#%%\n"
    }
   }
  },
  {
   "cell_type": "code",
   "execution_count": 18,
   "outputs": [
    {
     "data": {
      "text/plain": "平台  唯品会      淘宝        \n尺码    M   S   L   M   S\n货号                     \naaa  33  21  23  17  17\nbbb  17  15  25   5   7",
      "text/html": "<div>\n<style scoped>\n    .dataframe tbody tr th:only-of-type {\n        vertical-align: middle;\n    }\n\n    .dataframe tbody tr th {\n        vertical-align: top;\n    }\n\n    .dataframe thead tr th {\n        text-align: left;\n    }\n\n    .dataframe thead tr:last-of-type th {\n        text-align: right;\n    }\n</style>\n<table border=\"1\" class=\"dataframe\">\n  <thead>\n    <tr>\n      <th>平台</th>\n      <th colspan=\"2\" halign=\"left\">唯品会</th>\n      <th colspan=\"3\" halign=\"left\">淘宝</th>\n    </tr>\n    <tr>\n      <th>尺码</th>\n      <th>M</th>\n      <th>S</th>\n      <th>L</th>\n      <th>M</th>\n      <th>S</th>\n    </tr>\n    <tr>\n      <th>货号</th>\n      <th></th>\n      <th></th>\n      <th></th>\n      <th></th>\n      <th></th>\n    </tr>\n  </thead>\n  <tbody>\n    <tr>\n      <th>aaa</th>\n      <td>33</td>\n      <td>21</td>\n      <td>23</td>\n      <td>17</td>\n      <td>17</td>\n    </tr>\n    <tr>\n      <th>bbb</th>\n      <td>17</td>\n      <td>15</td>\n      <td>25</td>\n      <td>5</td>\n      <td>7</td>\n    </tr>\n  </tbody>\n</table>\n</div>"
     },
     "execution_count": 18,
     "metadata": {},
     "output_type": "execute_result"
    }
   ],
   "source": [
    "df.loc['aaa':'bbb',\n",
    "       ('唯品会', 'M'): '淘宝']"
   ],
   "metadata": {
    "collapsed": false,
    "pycharm": {
     "name": "#%%\n"
    }
   }
  },
  {
   "cell_type": "code",
   "execution_count": 20,
   "outputs": [
    {
     "data": {
      "text/plain": "平台   京东 唯品会  淘宝\n尺码    M   M   M\n货号             \naaa  18  33  17\nbbb  23  17   5\nccc  33  15  29",
      "text/html": "<div>\n<style scoped>\n    .dataframe tbody tr th:only-of-type {\n        vertical-align: middle;\n    }\n\n    .dataframe tbody tr th {\n        vertical-align: top;\n    }\n\n    .dataframe thead tr th {\n        text-align: left;\n    }\n\n    .dataframe thead tr:last-of-type th {\n        text-align: right;\n    }\n</style>\n<table border=\"1\" class=\"dataframe\">\n  <thead>\n    <tr>\n      <th>平台</th>\n      <th>京东</th>\n      <th>唯品会</th>\n      <th>淘宝</th>\n    </tr>\n    <tr>\n      <th>尺码</th>\n      <th>M</th>\n      <th>M</th>\n      <th>M</th>\n    </tr>\n    <tr>\n      <th>货号</th>\n      <th></th>\n      <th></th>\n      <th></th>\n    </tr>\n  </thead>\n  <tbody>\n    <tr>\n      <th>aaa</th>\n      <td>18</td>\n      <td>33</td>\n      <td>17</td>\n    </tr>\n    <tr>\n      <th>bbb</th>\n      <td>23</td>\n      <td>17</td>\n      <td>5</td>\n    </tr>\n    <tr>\n      <th>ccc</th>\n      <td>33</td>\n      <td>15</td>\n      <td>29</td>\n    </tr>\n  </tbody>\n</table>\n</div>"
     },
     "execution_count": 20,
     "metadata": {},
     "output_type": "execute_result"
    }
   ],
   "source": [
    "df.loc[:, (slice(None),'M')]"
   ],
   "metadata": {
    "collapsed": false,
    "pycharm": {
     "name": "#%%\n"
    }
   }
  },
  {
   "cell_type": "code",
   "execution_count": 22,
   "outputs": [
    {
     "data": {
      "text/plain": "平台   京东 唯品会  淘宝\n尺码    M   M   M\n货号             \naaa  18  33  17\nbbb  23  17   5\nccc  33  15  29",
      "text/html": "<div>\n<style scoped>\n    .dataframe tbody tr th:only-of-type {\n        vertical-align: middle;\n    }\n\n    .dataframe tbody tr th {\n        vertical-align: top;\n    }\n\n    .dataframe thead tr th {\n        text-align: left;\n    }\n\n    .dataframe thead tr:last-of-type th {\n        text-align: right;\n    }\n</style>\n<table border=\"1\" class=\"dataframe\">\n  <thead>\n    <tr>\n      <th>平台</th>\n      <th>京东</th>\n      <th>唯品会</th>\n      <th>淘宝</th>\n    </tr>\n    <tr>\n      <th>尺码</th>\n      <th>M</th>\n      <th>M</th>\n      <th>M</th>\n    </tr>\n    <tr>\n      <th>货号</th>\n      <th></th>\n      <th></th>\n      <th></th>\n    </tr>\n  </thead>\n  <tbody>\n    <tr>\n      <th>aaa</th>\n      <td>18</td>\n      <td>33</td>\n      <td>17</td>\n    </tr>\n    <tr>\n      <th>bbb</th>\n      <td>23</td>\n      <td>17</td>\n      <td>5</td>\n    </tr>\n    <tr>\n      <th>ccc</th>\n      <td>33</td>\n      <td>15</td>\n      <td>29</td>\n    </tr>\n  </tbody>\n</table>\n</div>"
     },
     "execution_count": 22,
     "metadata": {},
     "output_type": "execute_result"
    }
   ],
   "source": [
    "df.loc[:, (slice('京东', '淘宝'),'M')]"
   ],
   "metadata": {
    "collapsed": false,
    "pycharm": {
     "name": "#%%\n"
    }
   }
  },
  {
   "cell_type": "code",
   "execution_count": 23,
   "outputs": [
    {
     "data": {
      "text/plain": "平台   京东     唯品会      淘宝    \n尺码    M   S   M   S   M   S\n货号                         \naaa  18   8  33  21  17  17\nbbb  23  25  17  15   5   7\nccc  33  10  15  18  29  38",
      "text/html": "<div>\n<style scoped>\n    .dataframe tbody tr th:only-of-type {\n        vertical-align: middle;\n    }\n\n    .dataframe tbody tr th {\n        vertical-align: top;\n    }\n\n    .dataframe thead tr th {\n        text-align: left;\n    }\n\n    .dataframe thead tr:last-of-type th {\n        text-align: right;\n    }\n</style>\n<table border=\"1\" class=\"dataframe\">\n  <thead>\n    <tr>\n      <th>平台</th>\n      <th colspan=\"2\" halign=\"left\">京东</th>\n      <th colspan=\"2\" halign=\"left\">唯品会</th>\n      <th colspan=\"2\" halign=\"left\">淘宝</th>\n    </tr>\n    <tr>\n      <th>尺码</th>\n      <th>M</th>\n      <th>S</th>\n      <th>M</th>\n      <th>S</th>\n      <th>M</th>\n      <th>S</th>\n    </tr>\n    <tr>\n      <th>货号</th>\n      <th></th>\n      <th></th>\n      <th></th>\n      <th></th>\n      <th></th>\n      <th></th>\n    </tr>\n  </thead>\n  <tbody>\n    <tr>\n      <th>aaa</th>\n      <td>18</td>\n      <td>8</td>\n      <td>33</td>\n      <td>21</td>\n      <td>17</td>\n      <td>17</td>\n    </tr>\n    <tr>\n      <th>bbb</th>\n      <td>23</td>\n      <td>25</td>\n      <td>17</td>\n      <td>15</td>\n      <td>5</td>\n      <td>7</td>\n    </tr>\n    <tr>\n      <th>ccc</th>\n      <td>33</td>\n      <td>10</td>\n      <td>15</td>\n      <td>18</td>\n      <td>29</td>\n      <td>38</td>\n    </tr>\n  </tbody>\n</table>\n</div>"
     },
     "execution_count": 23,
     "metadata": {},
     "output_type": "execute_result"
    }
   ],
   "source": [
    "df.loc[:, (slice('京东', '淘宝'),\n",
    "           slice('M', 'S'))]"
   ],
   "metadata": {
    "collapsed": false,
    "pycharm": {
     "name": "#%%\n"
    }
   }
  },
  {
   "cell_type": "code",
   "execution_count": null,
   "outputs": [],
   "source": [
    "\n"
   ],
   "metadata": {
    "collapsed": false,
    "pycharm": {
     "name": "#%%\n"
    }
   }
  }
 ],
 "metadata": {
  "kernelspec": {
   "display_name": "Python 3",
   "language": "python",
   "name": "python3"
  },
  "language_info": {
   "codemirror_mode": {
    "name": "ipython",
    "version": 2
   },
   "file_extension": ".py",
   "mimetype": "text/x-python",
   "name": "python",
   "nbconvert_exporter": "python",
   "pygments_lexer": "ipython2",
   "version": "2.7.6"
  }
 },
 "nbformat": 4,
 "nbformat_minor": 0
}