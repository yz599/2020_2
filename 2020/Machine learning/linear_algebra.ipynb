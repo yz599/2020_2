{
 "cells": [
  {
   "cell_type": "markdown",
   "metadata": {
    "collapsed": true,
    "pycharm": {
     "name": "#%% md\n"
    }
   },
   "source": [
    "# 1. How to represent a vector\n",
    "- **1-d or 2-d?**"
   ]
  },
  {
   "cell_type": "code",
   "execution_count": 5,
   "outputs": [
    {
     "name": "stdout",
     "output_type": "stream",
     "text": [
      "[1 2 3 4]\n",
      "[1 2 3 4]\n"
     ]
    }
   ],
   "source": [
    "# row vector\n",
    "\n",
    "import numpy as np\n",
    "from scipy import linalg\n",
    "a=np.array([1,2,3,4]) ## This gives us a row vector\n",
    "\n",
    "# Convert to a column vector -- transpose doesn't work for 1d array\n",
    "print(a)\n",
    "print(a.transpose())"
   ],
   "metadata": {
    "collapsed": false,
    "pycharm": {
     "name": "#%%\n"
    }
   }
  },
  {
   "cell_type": "code",
   "execution_count": 5,
   "outputs": [
    {
     "data": {
      "text/plain": "(4, 1)"
     },
     "execution_count": 5,
     "metadata": {},
     "output_type": "execute_result"
    }
   ],
   "source": [
    "# column vector\n",
    "\n",
    "a_t=a[:,np.newaxis]\n",
    "a_t.shape"
   ],
   "metadata": {
    "collapsed": false,
    "pycharm": {
     "name": "#%%\n"
    }
   }
  },
  {
   "cell_type": "markdown",
   "source": [
    "## Vector as a 2-D matrix - np.array([[]])"
   ],
   "metadata": {
    "collapsed": false,
    "pycharm": {
     "name": "#%% md\n"
    }
   }
  },
  {
   "cell_type": "code",
   "execution_count": 7,
   "outputs": [
    {
     "name": "stdout",
     "output_type": "stream",
     "text": [
      "[[1 2 3 4]]\n",
      "[[1]\n",
      " [2]\n",
      " [3]\n",
      " [4]]\n"
     ]
    }
   ],
   "source": [
    "## use transpose to create column vector...\n",
    "\n",
    "A=np.array([[1,2,3,4]])\n",
    "print(A)\n",
    "column_vector=A.T\n",
    "print(column_vector)"
   ],
   "metadata": {
    "collapsed": false,
    "pycharm": {
     "name": "#%%\n"
    }
   }
  },
  {
   "cell_type": "markdown",
   "source": [
    "# 2. Operation\n",
    "- **dot product**\n",
    "  - 1d/1d\n",
    "  - 2d.T/2d"
   ],
   "metadata": {
    "collapsed": false,
    "pycharm": {
     "name": "#%% md\n"
    }
   }
  },
  {
   "cell_type": "code",
   "execution_count": 8,
   "outputs": [
    {
     "name": "stdout",
     "output_type": "stream",
     "text": [
      "54\n"
     ]
    }
   ],
   "source": [
    "u=np.array([3,4,5])\n",
    "v=np.array([1,4,7])\n",
    "print(np.dot(u,v))"
   ],
   "metadata": {
    "collapsed": false,
    "pycharm": {
     "name": "#%%\n"
    }
   }
  },
  {
   "cell_type": "code",
   "execution_count": 14,
   "outputs": [
    {
     "name": "stdout",
     "output_type": "stream",
     "text": [
      "[[54]]\n",
      "[[ 14  17  20  23]\n",
      " [ 30  37  44  51]\n",
      " [ 46  57  68  79]\n",
      " [ 62  77  92 107]]\n"
     ]
    }
   ],
   "source": [
    "u=np.array([[3,4,5]])\n",
    "v=np.array([[1,4,7]]).T\n",
    "print(np.dot(u,v))\n",
    "\n",
    "\n",
    "A=np.array([[1,2]\n",
    "            ,[3,4]\n",
    "            ,[5,6]\n",
    "            ,[7,8]])\n",
    "B=np.array([[2,3,4,5]\n",
    "           ,[6,7,8,9]])\n",
    "print(np.dot(A,B))"
   ],
   "metadata": {
    "collapsed": false,
    "pycharm": {
     "name": "#%%\n"
    }
   }
  },
  {
   "cell_type": "markdown",
   "source": [
    "### 2.1 Linear equations and solutions\n"
   ],
   "metadata": {
    "collapsed": false,
    "pycharm": {
     "name": "#%% md\n"
    }
   }
  },
  {
   "cell_type": "code",
   "execution_count": 3,
   "outputs": [
    {
     "name": "stdout",
     "output_type": "stream",
     "text": [
      "[[48]\n",
      " [68]\n",
      " [88]]\n"
     ]
    }
   ],
   "source": [
    "u=np.array([[3,4,5]]).T\n",
    "w=np.array([[7,8,9]]).T\n",
    "v=np.array([[1,4,7]]).T\n",
    "\n",
    "print(3*u+4*v+5*w)"
   ],
   "metadata": {
    "collapsed": false,
    "pycharm": {
     "name": "#%%\n"
    }
   }
  },
  {
   "cell_type": "code",
   "execution_count": 8,
   "outputs": [
    {
     "name": "stdout",
     "output_type": "stream",
     "text": [
      "[[0.83870968]\n",
      " [1.87096774]]\n"
     ]
    }
   ],
   "source": [
    "A=np.array([[2,1],\n",
    "            [1,2],\n",
    "            [1,4]])\n",
    "b=np.array([[4,3,9]]).T\n",
    "\n",
    "A_T_A=np.dot(A.T,A)\n",
    "x=np.dot(np.dot(linalg.inv(A_T_A),A.T),b)\n",
    "print(x)"
   ],
   "metadata": {
    "collapsed": false,
    "pycharm": {
     "name": "#%%\n"
    }
   }
  },
  {
   "cell_type": "markdown",
   "source": [
    "## 3. Matrix-operation\n",
    "- **Rank**\n",
    "- **Inversed matrix**\n",
    "- **Eigenvector**\n",
    "- **Covariance matrix**\n",
    "- **SVD**"
   ],
   "metadata": {
    "collapsed": false,
    "pycharm": {
     "name": "#%% md\n"
    }
   }
  },
  {
   "cell_type": "code",
   "execution_count": 15,
   "outputs": [
    {
     "name": "stdout",
     "output_type": "stream",
     "text": [
      "2\n"
     ]
    }
   ],
   "source": [
    "print(np.linalg.matrix_rank(A))"
   ],
   "metadata": {
    "collapsed": false,
    "pycharm": {
     "name": "#%%\n"
    }
   }
  },
  {
   "cell_type": "code",
   "execution_count": 10,
   "outputs": [
    {
     "name": "stdout",
     "output_type": "stream",
     "text": [
      "[[-3.  2.]\n",
      " [ 2. -1.]]\n"
     ]
    }
   ],
   "source": [
    "A=np.array([[1,2],[2,3]])\n",
    "A_n=linalg.inv(A)\n",
    "print(A_n)"
   ],
   "metadata": {
    "collapsed": false,
    "pycharm": {
     "name": "#%%\n"
    }
   }
  },
  {
   "cell_type": "code",
   "execution_count": 12,
   "outputs": [
    {
     "name": "stdout",
     "output_type": "stream",
     "text": [
      "[-0.23606798+0.j  4.23606798+0.j] [[-0.85065081 -0.52573111]\n",
      " [ 0.52573111 -0.85065081]]\n"
     ]
    }
   ],
   "source": [
    "evalue,evector=linalg.eig(A)\n",
    "print(evalue,evector)"
   ],
   "metadata": {
    "collapsed": false,
    "pycharm": {
     "name": "#%%\n"
    }
   }
  },
  {
   "cell_type": "code",
   "execution_count": 14,
   "outputs": [
    {
     "data": {
      "text/plain": "array([[0.5, 0.5],\n       [0.5, 0.5]])"
     },
     "execution_count": 14,
     "metadata": {},
     "output_type": "execute_result"
    }
   ],
   "source": [
    "\n",
    "np.cov(A)"
   ],
   "metadata": {
    "collapsed": false,
    "pycharm": {
     "name": "#%%\n"
    }
   }
  },
  {
   "cell_type": "code",
   "execution_count": 15,
   "outputs": [],
   "source": [
    "B=np.array([[2,1],\n",
    "            [1,2],\n",
    "            [1,4]])\n",
    "U,sigma,VT=np.linalg.svd(B)"
   ],
   "metadata": {
    "collapsed": false,
    "pycharm": {
     "name": "#%%\n"
    }
   }
  },
  {
   "cell_type": "code",
   "execution_count": null,
   "outputs": [],
   "source": [],
   "metadata": {
    "collapsed": false,
    "pycharm": {
     "name": "#%%\n"
    }
   }
  }
 ],
 "metadata": {
  "kernelspec": {
   "name": "python3",
   "language": "python",
   "display_name": "Python 3"
  },
  "language_info": {
   "codemirror_mode": {
    "name": "ipython",
    "version": 2
   },
   "file_extension": ".py",
   "mimetype": "text/x-python",
   "name": "python",
   "nbconvert_exporter": "python",
   "pygments_lexer": "ipython2",
   "version": "2.7.6"
  }
 },
 "nbformat": 4,
 "nbformat_minor": 0
}