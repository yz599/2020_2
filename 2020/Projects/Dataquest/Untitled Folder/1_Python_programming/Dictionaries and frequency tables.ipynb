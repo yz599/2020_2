{
 "cells": [
  {
   "cell_type": "markdown",
   "metadata": {},
   "source": [
    "# Dictionary\n",
    "- create\n",
    "- counting (agg)\n",
    "- extra column (ls.append)\n",
    "- looping\n",
    "\n",
    "[Datacamp](https://learn.datacamp.com/courses/data-types-for-data-science-in-python)"
   ]
  },
  {
   "cell_type": "markdown",
   "metadata": {},
   "source": [
    "## Create dictionary\n",
    "- {}\n",
    "- dict() + assignment"
   ]
  },
  {
   "cell_type": "code",
   "execution_count": 1,
   "metadata": {},
   "outputs": [
    {
     "name": "stdout",
     "output_type": "stream",
     "text": [
      "987\n",
      "622\n"
     ]
    }
   ],
   "source": [
    "content_ratings = {'4+': 4433, '9+': 987, '12+': 1155, '17+': 622}\n",
    "over_9=content_ratings[\"9+\"]\n",
    "over_17=content_ratings[\"17+\"]\n",
    "print(over_9)\n",
    "print(over_17)"
   ]
  },
  {
   "cell_type": "code",
   "execution_count": 2,
   "metadata": {},
   "outputs": [],
   "source": [
    "content_ratings=dict()\n",
    "content_ratings[\"4+\"]=4433\n",
    "content_ratings[\"9+\"]=987\n",
    "content_ratings[\"12+\"]=1155\n",
    "content_ratings[\"17+\"]=622\n",
    "\n",
    "over_12_n_apps=content_ratings[\"12+\"]"
   ]
  },
  {
   "cell_type": "code",
   "execution_count": 3,
   "metadata": {},
   "outputs": [],
   "source": [
    "## Checking for membership - in"
   ]
  },
  {
   "cell_type": "code",
   "execution_count": 4,
   "metadata": {},
   "outputs": [
    {
     "name": "stdout",
     "output_type": "stream",
     "text": [
      "It exists\n"
     ]
    }
   ],
   "source": [
    "content_ratings = {'4+': 4433, '9+': 987, '12+': 1155, '17+': 622}\n",
    "is_in_dictionary_1='9+' in content_ratings\n",
    "is_in_dictionary_2=987 in content_ratings\n",
    "\n",
    "if \"17+\" in content_ratings:\n",
    "    result=\"It exists\"\n",
    "print(result)"
   ]
  },
  {
   "cell_type": "markdown",
   "metadata": {},
   "source": [
    "## Counting with dictionary"
   ]
  },
  {
   "cell_type": "code",
   "execution_count": 8,
   "metadata": {},
   "outputs": [
    {
     "data": {
      "text/plain": [
       "['id',\n",
       " 'track_name',\n",
       " 'size_bytes',\n",
       " 'currency',\n",
       " 'price',\n",
       " 'rating_count_tot',\n",
       " 'rating_count_ver',\n",
       " 'user_rating',\n",
       " 'user_rating_ver',\n",
       " 'ver',\n",
       " 'cont_rating',\n",
       " 'prime_genre',\n",
       " 'sup_devices.num',\n",
       " 'ipadSc_urls.num',\n",
       " 'lang.num',\n",
       " 'vpp_lic']"
      ]
     },
     "execution_count": 8,
     "metadata": {},
     "output_type": "execute_result"
    }
   ],
   "source": [
    "apps_data[0]"
   ]
  },
  {
   "cell_type": "code",
   "execution_count": 7,
   "metadata": {},
   "outputs": [],
   "source": [
    "content_ratings = {'4+': 0, '9+': 0, '12+': 0, '17+': 0}\n",
    "\n",
    "opened_file = open('AppleStore.csv',encoding=\"UTF8\")\n",
    "from csv import reader\n",
    "read_file = reader(opened_file)\n",
    "apps_data = list(read_file)"
   ]
  },
  {
   "cell_type": "code",
   "execution_count": 9,
   "metadata": {},
   "outputs": [],
   "source": [
    "for app in apps_data[1:]:\n",
    "    c_rating=app[10]\n",
    "    if c_rating in content_ratings:\n",
    "        content_ratings[c_rating]+=1\n",
    "    else:\n",
    "        content_ratings[c_rating]=1"
   ]
  },
  {
   "cell_type": "code",
   "execution_count": 10,
   "metadata": {},
   "outputs": [
    {
     "name": "stdout",
     "output_type": "stream",
     "text": [
      "{'4+': 4433, '9+': 987, '12+': 1155, '17+': 622}\n"
     ]
    }
   ],
   "source": [
    "print(content_ratings)"
   ]
  },
  {
   "cell_type": "code",
   "execution_count": 15,
   "metadata": {},
   "outputs": [],
   "source": [
    "genre_counting={}\n",
    "for app in apps_data[1:]:\n",
    "    genre=app[11]\n",
    "    if genre in genre_counting:\n",
    "        genre_counting[genre]+=1\n",
    "    else:\n",
    "        genre_counting[genre]=1"
   ]
  },
  {
   "cell_type": "code",
   "execution_count": 16,
   "metadata": {},
   "outputs": [
    {
     "name": "stdout",
     "output_type": "stream",
     "text": [
      "{'Social Networking': 167, 'Photo & Video': 349, 'Games': 3862, 'Music': 138, 'Reference': 64, 'Health & Fitness': 180, 'Weather': 72, 'Utilities': 248, 'Travel': 81, 'Shopping': 122, 'News': 75, 'Navigation': 46, 'Lifestyle': 144, 'Entertainment': 535, 'Food & Drink': 63, 'Sports': 114, 'Book': 112, 'Finance': 104, 'Education': 453, 'Productivity': 178, 'Business': 57, 'Catalogs': 10, 'Medical': 23}\n"
     ]
    }
   ],
   "source": [
    "print(genre_counting)"
   ]
  },
  {
   "cell_type": "markdown",
   "metadata": {},
   "source": [
    "### Frequency table for numerical data"
   ]
  },
  {
   "cell_type": "markdown",
   "metadata": {},
   "source": [
    "1. Find the data range"
   ]
  },
  {
   "cell_type": "code",
   "execution_count": 23,
   "metadata": {},
   "outputs": [],
   "source": [
    "data_sizes=[]\n",
    "for row in apps_data[1:]:\n",
    "    size = float(row[2])\n",
    "    data_sizes.append(size)\n",
    "    \n",
    "min_size = min(data_sizes)\n",
    "max_size = max(data_sizes)"
   ]
  },
  {
   "cell_type": "markdown",
   "metadata": {},
   "source": [
    "2. bin the data"
   ]
  },
  {
   "cell_type": "code",
   "execution_count": 25,
   "metadata": {},
   "outputs": [
    {
     "data": {
      "text/plain": [
       "{'1-20M': 708, '20-40M': 843, '40-60M': 774, '60M and up': 4872}"
      ]
     },
     "execution_count": 25,
     "metadata": {},
     "output_type": "execute_result"
    }
   ],
   "source": [
    "data_freq={\"1-20M\":0,\n",
    "           \"20-40M\":0,\n",
    "           \"40-60M\":0,\n",
    "           \"60M and up\":0\n",
    "          }\n",
    "\n",
    "for row in apps_data[1:]:\n",
    "    size = float(row[2])\n",
    "    if size<=20000000:\n",
    "        data_freq[\"1-20M\"]+=1\n",
    "    elif 20000000<size<=40000000:\n",
    "        data_freq[\"20-40M\"]+=1\n",
    "    elif 40000000<size<=60000000:\n",
    "        data_freq[\"40-60M\"]+=1\n",
    "    else:\n",
    "        data_freq[\"60M and up\"]+=1\n",
    "    \n",
    "data_freq"
   ]
  },
  {
   "cell_type": "markdown",
   "metadata": {},
   "source": [
    "## Looping over dict"
   ]
  },
  {
   "cell_type": "code",
   "execution_count": 20,
   "metadata": {},
   "outputs": [],
   "source": [
    "content_ratings = {'4+': 4433, '12+': 1155, '9+': 987, '17+': 622}\n",
    "total_number_of_apps = 7197\n",
    "\n",
    "for key in content_ratings:\n",
    "    \n",
    "    content_ratings[key]/=total_number_of_apps\n",
    "    content_ratings[key]*=100"
   ]
  },
  {
   "cell_type": "code",
   "execution_count": null,
   "metadata": {},
   "outputs": [],
   "source": []
  }
 ],
 "metadata": {
  "kernelspec": {
   "display_name": "Python 3",
   "language": "python",
   "name": "python3"
  },
  "language_info": {
   "codemirror_mode": {
    "name": "ipython",
    "version": 3
   },
   "file_extension": ".py",
   "mimetype": "text/x-python",
   "name": "python",
   "nbconvert_exporter": "python",
   "pygments_lexer": "ipython3",
   "version": "3.8.5"
  }
 },
 "nbformat": 4,
 "nbformat_minor": 4
}
