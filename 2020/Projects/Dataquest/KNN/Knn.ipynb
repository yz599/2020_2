{
 "cells": [
  {
   "cell_type": "markdown",
   "metadata": {
    "collapsed": true,
    "pycharm": {
     "name": "#%% md\n"
    }
   },
   "source": [
    "### Dataset\n",
    "\n"
   ]
  },
  {
   "cell_type": "code",
   "execution_count": 1,
   "outputs": [],
   "source": [
    "import pandas as pd\n",
    "import numpy as np"
   ],
   "metadata": {
    "collapsed": false,
    "pycharm": {
     "name": "#%%\n"
    }
   }
  },
  {
   "cell_type": "code",
   "execution_count": 3,
   "outputs": [],
   "source": [
    "dc_listings=pd.read_csv('dc_airbnb.csv')"
   ],
   "metadata": {
    "collapsed": false,
    "pycharm": {
     "name": "#%%\n"
    }
   }
  },
  {
   "cell_type": "code",
   "execution_count": 4,
   "outputs": [
    {
     "data": {
      "text/plain": "  host_response_rate host_acceptance_rate  host_listings_count  accommodates  \\\n0                92%                  91%                   26             4   \n1                90%                 100%                    1             6   \n2                90%                 100%                    2             1   \n3               100%                  NaN                    1             2   \n4                92%                  67%                    1             4   \n\n         room_type  bedrooms  bathrooms  beds    price cleaning_fee  \\\n0  Entire home/apt       1.0        1.0   2.0  $160.00      $115.00   \n1  Entire home/apt       3.0        3.0   3.0  $350.00      $100.00   \n2     Private room       1.0        2.0   1.0   $50.00          NaN   \n3     Private room       1.0        1.0   1.0   $95.00          NaN   \n4  Entire home/apt       1.0        1.0   1.0   $50.00       $15.00   \n\n  security_deposit  minimum_nights  maximum_nights  number_of_reviews  \\\n0          $100.00               1            1125                  0   \n1              NaN               2              30                 65   \n2              NaN               2            1125                  1   \n3              NaN               1            1125                  0   \n4          $450.00               7            1125                  0   \n\n    latitude  longitude           city zipcode state  \n0  38.890046 -77.002808     Washington   20003    DC  \n1  38.880413 -76.990485     Washington   20003    DC  \n2  38.955291 -76.986006    Hyattsville   20782    MD  \n3  38.872134 -77.019639     Washington   20024    DC  \n4  38.996382 -77.041541  Silver Spring   20910    MD  ",
      "text/html": "<div>\n<style scoped>\n    .dataframe tbody tr th:only-of-type {\n        vertical-align: middle;\n    }\n\n    .dataframe tbody tr th {\n        vertical-align: top;\n    }\n\n    .dataframe thead th {\n        text-align: right;\n    }\n</style>\n<table border=\"1\" class=\"dataframe\">\n  <thead>\n    <tr style=\"text-align: right;\">\n      <th></th>\n      <th>host_response_rate</th>\n      <th>host_acceptance_rate</th>\n      <th>host_listings_count</th>\n      <th>accommodates</th>\n      <th>room_type</th>\n      <th>bedrooms</th>\n      <th>bathrooms</th>\n      <th>beds</th>\n      <th>price</th>\n      <th>cleaning_fee</th>\n      <th>security_deposit</th>\n      <th>minimum_nights</th>\n      <th>maximum_nights</th>\n      <th>number_of_reviews</th>\n      <th>latitude</th>\n      <th>longitude</th>\n      <th>city</th>\n      <th>zipcode</th>\n      <th>state</th>\n    </tr>\n  </thead>\n  <tbody>\n    <tr>\n      <th>0</th>\n      <td>92%</td>\n      <td>91%</td>\n      <td>26</td>\n      <td>4</td>\n      <td>Entire home/apt</td>\n      <td>1.0</td>\n      <td>1.0</td>\n      <td>2.0</td>\n      <td>$160.00</td>\n      <td>$115.00</td>\n      <td>$100.00</td>\n      <td>1</td>\n      <td>1125</td>\n      <td>0</td>\n      <td>38.890046</td>\n      <td>-77.002808</td>\n      <td>Washington</td>\n      <td>20003</td>\n      <td>DC</td>\n    </tr>\n    <tr>\n      <th>1</th>\n      <td>90%</td>\n      <td>100%</td>\n      <td>1</td>\n      <td>6</td>\n      <td>Entire home/apt</td>\n      <td>3.0</td>\n      <td>3.0</td>\n      <td>3.0</td>\n      <td>$350.00</td>\n      <td>$100.00</td>\n      <td>NaN</td>\n      <td>2</td>\n      <td>30</td>\n      <td>65</td>\n      <td>38.880413</td>\n      <td>-76.990485</td>\n      <td>Washington</td>\n      <td>20003</td>\n      <td>DC</td>\n    </tr>\n    <tr>\n      <th>2</th>\n      <td>90%</td>\n      <td>100%</td>\n      <td>2</td>\n      <td>1</td>\n      <td>Private room</td>\n      <td>1.0</td>\n      <td>2.0</td>\n      <td>1.0</td>\n      <td>$50.00</td>\n      <td>NaN</td>\n      <td>NaN</td>\n      <td>2</td>\n      <td>1125</td>\n      <td>1</td>\n      <td>38.955291</td>\n      <td>-76.986006</td>\n      <td>Hyattsville</td>\n      <td>20782</td>\n      <td>MD</td>\n    </tr>\n    <tr>\n      <th>3</th>\n      <td>100%</td>\n      <td>NaN</td>\n      <td>1</td>\n      <td>2</td>\n      <td>Private room</td>\n      <td>1.0</td>\n      <td>1.0</td>\n      <td>1.0</td>\n      <td>$95.00</td>\n      <td>NaN</td>\n      <td>NaN</td>\n      <td>1</td>\n      <td>1125</td>\n      <td>0</td>\n      <td>38.872134</td>\n      <td>-77.019639</td>\n      <td>Washington</td>\n      <td>20024</td>\n      <td>DC</td>\n    </tr>\n    <tr>\n      <th>4</th>\n      <td>92%</td>\n      <td>67%</td>\n      <td>1</td>\n      <td>4</td>\n      <td>Entire home/apt</td>\n      <td>1.0</td>\n      <td>1.0</td>\n      <td>1.0</td>\n      <td>$50.00</td>\n      <td>$15.00</td>\n      <td>$450.00</td>\n      <td>7</td>\n      <td>1125</td>\n      <td>0</td>\n      <td>38.996382</td>\n      <td>-77.041541</td>\n      <td>Silver Spring</td>\n      <td>20910</td>\n      <td>MD</td>\n    </tr>\n  </tbody>\n</table>\n</div>"
     },
     "execution_count": 4,
     "metadata": {},
     "output_type": "execute_result"
    }
   ],
   "source": [
    "dc_listings.head()"
   ],
   "metadata": {
    "collapsed": false,
    "pycharm": {
     "name": "#%%\n"
    }
   }
  },
  {
   "cell_type": "markdown",
   "source": [
    "### 1.Distance\n",
    " Calculate the Euclidean distance between our living space, which can accommodate 3 people,\n",
    " and the **_first living space_** in the dc_listings Dataframe."
   ],
   "metadata": {
    "collapsed": false,
    "pycharm": {
     "name": "#%% md\n"
    }
   }
  },
  {
   "cell_type": "code",
   "execution_count": 7,
   "outputs": [],
   "source": [
    "first_distance=abs(3-dc_listings.iloc[0][\"accommodates\"])"
   ],
   "metadata": {
    "collapsed": false,
    "pycharm": {
     "name": "#%%\n"
    }
   }
  },
  {
   "cell_type": "markdown",
   "source": [
    "Calculate the distance between each value in the accommodates column from\n",
    "dc_listings and the value 3, which is the number of people our listing accommodates:\n",
    "\n",
    "- Use the apply method to calculate the absolute value between each value in accommodates\n",
    "and 3 and return a new Series containing the distance values."
   ],
   "metadata": {
    "collapsed": false,
    "pycharm": {
     "name": "#%% md\n"
    }
   }
  },
  {
   "cell_type": "code",
   "execution_count": 14,
   "outputs": [],
   "source": [
    "dc_listings['distance']=dc_listings[\"accommodates\"].apply(lambda x: abs(3-x))"
   ],
   "metadata": {
    "collapsed": false,
    "pycharm": {
     "name": "#%%\n"
    }
   }
  },
  {
   "cell_type": "code",
   "execution_count": 16,
   "outputs": [
    {
     "name": "stdout",
     "output_type": "stream",
     "text": [
      "1     2294\n",
      "2      503\n",
      "0      461\n",
      "3      279\n",
      "5       73\n",
      "4       35\n",
      "7       22\n",
      "6       17\n",
      "9       12\n",
      "13       8\n",
      "8        7\n",
      "12       6\n",
      "11       4\n",
      "10       2\n",
      "Name: distance, dtype: int64\n"
     ]
    }
   ],
   "source": [
    "print(dc_listings['distance'].value_counts())"
   ],
   "metadata": {
    "collapsed": false,
    "pycharm": {
     "name": "#%%\n"
    }
   }
  },
  {
   "cell_type": "markdown",
   "source": [
    "### 2. Find the nearest 5\n",
    "If we sort by the distance column and then just select the first 5 living spaces,\n",
    "we would be biasing the result to the ordering of the dataset.\n",
    "\n",
    "Let's instead randomize the ordering of the dataset and then sort the Dataframe by the distance column.\n",
    "This way, all of the living spaces with the same number of bedrooms will still be at\n",
    "the top of the Dataframe but will be in random order across the first 461 rows.\n"
   ],
   "metadata": {
    "collapsed": false,
    "pycharm": {
     "name": "#%% md\n"
    }
   }
  },
  {
   "cell_type": "code",
   "execution_count": 17,
   "outputs": [
    {
     "name": "stdout",
     "output_type": "stream",
     "text": [
      "577     $185.00\n",
      "2166    $180.00\n",
      "3631    $175.00\n",
      "71      $128.00\n",
      "1011    $115.00\n",
      "380     $219.00\n",
      "943     $125.00\n",
      "3107    $250.00\n",
      "1499     $94.00\n",
      "625     $150.00\n",
      "Name: price, dtype: object\n"
     ]
    }
   ],
   "source": [
    "np.random.seed(1)\n",
    "new_id=np.random.permutation(len(dc_listings))\n",
    "dc_listings=dc_listings.loc[new_id]\n",
    "dc_listings=dc_listings.sort_values('distance')\n",
    "print(dc_listings['price'].head(10))"
   ],
   "metadata": {
    "collapsed": false,
    "pycharm": {
     "name": "#%%\n"
    }
   }
  },
  {
   "cell_type": "markdown",
   "source": [
    "### 3. Clean the \"Price\" column\n",
    "Remove the commas (,) and dollar sign characters ($) from the price column:\n",
    "- Use the str accessor so we can apply string methods to each value in the column followed by the string method replace\n",
    "to replace all comma characters with the empty character:\n",
    "**stripped_commas = dc_listings['price'].str.replace(',', '')**\n",
    "- Repeat to remove the dollar sign characters as well.\n"
   ],
   "metadata": {
    "collapsed": false,
    "pycharm": {
     "name": "#%% md\n"
    }
   }
  },
  {
   "cell_type": "code",
   "execution_count": 18,
   "outputs": [
    {
     "name": "stdout",
     "output_type": "stream",
     "text": [
      "156.6\n"
     ]
    }
   ],
   "source": [
    "stripped_commas=dc_listings['price'].str.replace(',','').str.replace('$','')\n",
    "dc_listings['price']=stripped_commas.astype(float)\n",
    "mean_price=dc_listings['price'].head(5).mean()\n",
    "print(mean_price)\n"
   ],
   "metadata": {
    "collapsed": false,
    "pycharm": {
     "name": "#%%\n"
    }
   }
  },
  {
   "cell_type": "markdown",
   "source": [
    "### 4. Function to make prediction\n"
   ],
   "metadata": {
    "collapsed": false,
    "pycharm": {
     "name": "#%% md\n"
    }
   }
  },
  {
   "cell_type": "code",
   "execution_count": null,
   "outputs": [],
   "source": [],
   "metadata": {
    "collapsed": false,
    "pycharm": {
     "name": "#%%\n"
    }
   }
  },
  {
   "cell_type": "code",
   "execution_count": null,
   "outputs": [],
   "source": [],
   "metadata": {
    "collapsed": false,
    "pycharm": {
     "name": "#%%\n"
    }
   }
  },
  {
   "cell_type": "code",
   "execution_count": null,
   "outputs": [],
   "source": [],
   "metadata": {
    "collapsed": false,
    "pycharm": {
     "name": "#%%\n"
    }
   }
  },
  {
   "cell_type": "code",
   "execution_count": null,
   "outputs": [],
   "source": [],
   "metadata": {
    "collapsed": false,
    "pycharm": {
     "name": "#%%\n"
    }
   }
  }
 ],
 "metadata": {
  "kernelspec": {
   "display_name": "Python 3",
   "language": "python",
   "name": "python3"
  },
  "language_info": {
   "codemirror_mode": {
    "name": "ipython",
    "version": 2
   },
   "file_extension": ".py",
   "mimetype": "text/x-python",
   "name": "python",
   "nbconvert_exporter": "python",
   "pygments_lexer": "ipython2",
   "version": "2.7.6"
  }
 },
 "nbformat": 4,
 "nbformat_minor": 0
}