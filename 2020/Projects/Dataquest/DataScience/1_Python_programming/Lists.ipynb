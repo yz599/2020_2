{
 "cells": [
  {
   "cell_type": "markdown",
   "metadata": {},
   "source": [
    "## List of lists\n",
    "- Print all the rows in the app_data_set list of lists.\n",
    "- sum/averge column\n",
    "- add a column\n",
    "- filtering data on column A (conditional statement)"
   ]
  },
  {
   "cell_type": "markdown",
   "metadata": {},
   "source": [
    "### Create list of lists"
   ]
  },
  {
   "cell_type": "code",
   "execution_count": 2,
   "metadata": {},
   "outputs": [
    {
     "name": "stdout",
     "output_type": "stream",
     "text": [
      "['Facebook', 0.0, 'USD', 2974676, 3.5]\n",
      "['Instagram', 0.0, 'USD', 2161558, 4.5]\n",
      "['Clash of Clans', 0.0, 'USD', 2130805, 4.5]\n",
      "['Temple Run', 0.0, 'USD', 1724546, 4.5]\n",
      "['Pandora - Music & Radio', 0.0, 'USD', 1126879, 4.0]\n"
     ]
    }
   ],
   "source": [
    "row_1 = ['Facebook', 0.0, 'USD', 2974676, 3.5]\n",
    "row_2 = ['Instagram', 0.0, 'USD', 2161558, 4.5]\n",
    "row_3 = ['Clash of Clans', 0.0, 'USD', 2130805, 4.5]\n",
    "row_4 = ['Temple Run', 0.0, 'USD', 1724546, 4.5]\n",
    "row_5 = ['Pandora - Music & Radio', 0.0, 'USD', 1126879, 4.0]\n",
    "\n",
    "app_data_set = [row_1, row_2, row_3, row_4, row_5]\n",
    "\n",
    "for item in app_data_set:\n",
    "    print(item)"
   ]
  },
  {
   "cell_type": "code",
   "execution_count": 3,
   "metadata": {},
   "outputs": [],
   "source": [
    "rating_sum=0\n",
    "for item in app_data_set:\n",
    "    rating=item[-1]\n",
    "    rating_sum+=rating\n",
    "    \n",
    "avg_rating=rating_sum/5"
   ]
  },
  {
   "cell_type": "markdown",
   "metadata": {},
   "source": [
    "### Read in list of lists from .csv"
   ]
  },
  {
   "cell_type": "code",
   "execution_count": 7,
   "metadata": {},
   "outputs": [
    {
     "name": "stdout",
     "output_type": "stream",
     "text": [
      "7198\n",
      "[['id', 'track_name', 'size_bytes', 'currency', 'price', 'rating_count_tot', 'rating_count_ver', 'user_rating', 'user_rating_ver', 'ver', 'cont_rating', 'prime_genre', 'sup_devices.num', 'ipadSc_urls.num', 'lang.num', 'vpp_lic'], ['284882215', 'Facebook', '389879808', 'USD', '0.0', '2974676', '212', '3.5', '3.5', '95.0', '4+', 'Social Networking', '37', '1', '29', '1']]\n"
     ]
    }
   ],
   "source": [
    "from csv import reader\n",
    "opened_file=open(\"AppleStore.csv\",encoding=\"UTF-8\")\n",
    "read_file=reader(opened_file)\n",
    "apps_data=list(read_file)\n",
    "\n",
    "\n",
    "\n",
    "print(len(apps_data))\n",
    "print(apps_data[0:2])\n"
   ]
  },
  {
   "cell_type": "markdown",
   "metadata": {},
   "source": [
    "#### Compute column sum/average - 2 ways"
   ]
  },
  {
   "cell_type": "code",
   "execution_count": 9,
   "metadata": {},
   "outputs": [],
   "source": [
    "apps=apps_data[1:]\n",
    "rating_sum=0\n",
    "for row in apps:\n",
    "    rating=float(row[7])\n",
    "    rating_sum+=rating\n",
    "avg_rating=rating_sum/len(apps)"
   ]
  },
  {
   "cell_type": "code",
   "execution_count": 10,
   "metadata": {},
   "outputs": [],
   "source": [
    "all_ratings=[]\n",
    "for row in apps_data[1:]:\n",
    "    rating=float(row[7])\n",
    "    all_ratings.append(rating)\n",
    "avg_rating=sum(all_ratings)/len(all_ratings)"
   ]
  },
  {
   "cell_type": "markdown",
   "metadata": {},
   "source": [
    "### Conditional statements"
   ]
  },
  {
   "cell_type": "markdown",
   "metadata": {},
   "source": [
    "#### Numerical"
   ]
  },
  {
   "cell_type": "code",
   "execution_count": null,
   "metadata": {},
   "outputs": [],
   "source": [
    "free_apps_ratings = []\n",
    "for row in apps_data[1:]:\n",
    "    rating = float(row[7])\n",
    "    price=float(row[4])\n",
    "\n",
    "    ## ------------------------------if------------------\n",
    "    if price==0:\n",
    "        free_apps_ratings.append(rating)\n",
    "avg_rating_free=sum(free_apps_ratings)/len(free_apps_ratings)"
   ]
  },
  {
   "cell_type": "markdown",
   "metadata": {},
   "source": [
    "#### String"
   ]
  },
  {
   "cell_type": "code",
   "execution_count": null,
   "metadata": {},
   "outputs": [],
   "source": [
    "non_games_ratings=[]\n",
    "for row in apps_data[1:]:\n",
    "    rating=float(row[7])\n",
    "    genre=row[11]\n",
    "    \n",
    "    ## ---------------------------- if string -------------\n",
    "    if genre!=\"Games\":\n",
    "        non_games_ratings.append(rating)\n",
    "avg_rating_non_games=sum(non_games_ratings)/len(non_games_ratings)"
   ]
  },
  {
   "cell_type": "markdown",
   "metadata": {},
   "source": [
    "#### Boolean operation AND/OR"
   ]
  },
  {
   "cell_type": "code",
   "execution_count": null,
   "metadata": {},
   "outputs": [],
   "source": [
    "free_games_ratings = []\n",
    "for row in apps_data[1:]:\n",
    "    rating = float(row[7])\n",
    "    price = float(row[4])\n",
    "    genre = row[11]\n",
    "    \n",
    "    \n",
    "   ##-------------------AND--------------\n",
    "    if price==0 and genre==\"Games\":\n",
    "        free_games_ratings.append(rating)\n",
    "avg_rating_free_games=sum(free_games_ratings)/len(free_games_ratings)"
   ]
  },
  {
   "cell_type": "markdown",
   "metadata": {},
   "source": [
    "#### Combine AND/OR"
   ]
  },
  {
   "cell_type": "code",
   "execution_count": 12,
   "metadata": {},
   "outputs": [],
   "source": [
    "free_games_social_ratings = []\n",
    "for row in apps_data[1:]:\n",
    "    rating = float(row[7])\n",
    "    genre = row[11]\n",
    "    price = float(row[4])\n",
    "    \n",
    "    \n",
    "   ##-------------------AND/OR more than one--------------    \n",
    "    if (genre == 'Social Networking' or genre == 'Games') and price != 0:\n",
    "        free_games_social_ratings.append(rating)\n",
    "        \n",
    "avg_non_free = sum(free_games_social_ratings) / len(free_games_social_ratings)"
   ]
  },
  {
   "cell_type": "markdown",
   "metadata": {},
   "source": [
    "#### Else"
   ]
  },
  {
   "cell_type": "code",
   "execution_count": null,
   "metadata": {},
   "outputs": [],
   "source": [
    "price_9_rating = []\n",
    "price_less_9_rating = []\n",
    "for row in apps_data[1:]:\n",
    "    rating = float(row[7])\n",
    "    genre = row[11]\n",
    "    price = float(row[4])\n",
    "    \n",
    "    ##--------------Else-------------\n",
    "    if  price >9:\n",
    "        price_9_rating.append(rating)\n",
    "    else:  # Don't need to implicity say it----------------\n",
    "        price_less_9_rating.append(rating)\n",
    "        \n",
    "        \n",
    "        \n",
    "        \n",
    "n_apps_more_9=len(price_9_rating)\n",
    "n_apps_less_9=len(price_less_9_rating)       \n",
    "avg_rating = sum(price_9_rating) / len(price_9_rating)"
   ]
  },
  {
   "cell_type": "markdown",
   "metadata": {},
   "source": [
    "#### Elif - add column to LL"
   ]
  },
  {
   "cell_type": "code",
   "execution_count": 14,
   "metadata": {},
   "outputs": [
    {
     "name": "stdout",
     "output_type": "stream",
     "text": [
      "[['id', 'track_name', 'size_bytes', 'currency', 'price', 'rating_count_tot', 'rating_count_ver', 'user_rating', 'user_rating_ver', 'ver', 'cont_rating', 'prime_genre', 'sup_devices.num', 'ipadSc_urls.num', 'lang.num', 'vpp_lic', 'price_label', 'price_label'], ['284882215', 'Facebook', '389879808', 'USD', '0.0', '2974676', '212', '3.5', '3.5', '95.0', '4+', 'Social Networking', '37', '1', '29', '1', 'free', 'free']]\n"
     ]
    }
   ],
   "source": [
    "\n",
    "\n",
    "for app in apps_data[1:]:\n",
    "    price = float(app[4])\n",
    "    # Complete code from here\n",
    "    if price==0.0:\n",
    "        app.append(\"free\")\n",
    "    elif price>0.0 and price<20:\n",
    "        app.append(\"affordable\")\n",
    "    elif price>=20 and price<50:\n",
    "        app.append(\"expensive\")\n",
    "    else:\n",
    "        app.append(\"very expensive\")\n",
    "        \n",
    "        \n",
    "apps_data[0].append(\"price_label\")\n",
    "print(apps_data[0:2])"
   ]
  },
  {
   "cell_type": "code",
   "execution_count": null,
   "metadata": {},
   "outputs": [],
   "source": []
  }
 ],
 "metadata": {
  "kernelspec": {
   "display_name": "Python 3",
   "language": "python",
   "name": "python3"
  },
  "language_info": {
   "codemirror_mode": {
    "name": "ipython",
    "version": 3
   },
   "file_extension": ".py",
   "mimetype": "text/x-python",
   "name": "python",
   "nbconvert_exporter": "python",
   "pygments_lexer": "ipython3",
   "version": "3.8.5"
  }
 },
 "nbformat": 4,
 "nbformat_minor": 4
}
