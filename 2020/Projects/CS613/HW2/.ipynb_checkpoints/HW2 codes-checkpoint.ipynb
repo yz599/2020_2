{
 "cells": [
  {
   "cell_type": "markdown",
   "metadata": {},
   "source": [
    "# data loading"
   ]
  },
  {
   "cell_type": "markdown",
   "metadata": {},
   "source": [
    "# 1. Theory"
   ]
  },
  {
   "cell_type": "markdown",
   "metadata": {},
   "source": [
    "1. \n",
    "(a)  \n",
    "the total count is 21, while +Y is 12 and -Y has 9. Therefore, P(Y=+) = 12/21 = 4/7, P(Y=-) = 3/7  \n",
    "The entropy is H(4/7,3/7) = -4/7*log2(3/7)-3/7*log2(4/7) = 0.9852  \n",
    "(b)  \n",
    "-- variable x1  \n",
    "T: p1 = 7, n1 = 1  \n",
    "F： p2 = 5, n2 = 8\n",
    "p = 12, n=9\n",
    "E(H(x1)) = (7+1)/(12+9)*{-7/8*log2(1/8)-1/8*log2(7/8)}+   \n",
    "(5+8)/(12+9)*{-5/13*log2(8/13)-8/13*log2(5/13)} = 0.8021    \n",
    "IG(x1) = H(4/7,3/7)-E(H(x1))= 0.1831  \n",
    "-- variable x2  \n",
    "T: p1 = 7, n1 = 3  \n",
    "F： p2 = 5, n2 = 6\n",
    "p = 12, n=9\n",
    "E(H(x2)) = (7+3)/(12+9)*{-7/10*log2(3/10)-3/10*log2(7/10)} +   \n",
    "(5+6)/(12+9)*{-5/11*log2(6/11)-6/11*log2(5/11)} = 0.9403     \n",
    "IG(x2) = H(4/7,3/7)-E(H(x4))=  0.0449    \n",
    "So we should priortize variable x1  \n",
    "\n",
    "(c)  \n"
   ]
  },
  {
   "cell_type": "code",
   "execution_count": 1,
   "metadata": {
    "scrolled": true
   },
   "outputs": [
    {
     "name": "stdout",
     "output_type": "stream",
     "text": [
      "0.9852281360342516\n",
      "0.8021234003330552\n",
      "0.18310473570119645\n",
      "0.9403448246930214\n",
      "0.04488331134123025\n"
     ]
    }
   ],
   "source": [
    "import math\n",
    "def HY(p,n):\n",
    "    if p*n:\n",
    "         return -p/(p+n)*math.log2(p/(p+n))-n/(p+n)*math.log2(n/(p+n))\n",
    "    else:\n",
    "         return 0\n",
    "\n",
    "def EH(ps,ns):\n",
    "    EH=0\n",
    "    for i,p in enumerate(ps):\n",
    "        EH += (p+ns[i])/(sum(ps)+sum(ns))*HY(p,ns[i])\n",
    "    return EH\n",
    "\n",
    "def IG(ps,ns):\n",
    "    return HY(sum(ps),sum(ns)) - EH(ps,ns)\n",
    "\n",
    "print(HY(3/7,4/7))\n",
    "print(EH([7,5],[1,8]))\n",
    "print(IG([7,5],[1,8]))\n",
    "print(EH([7,5],[3,6]))\n",
    "print(IG([7,5],[3,6]))\n"
   ]
  },
  {
   "cell_type": "code",
   "execution_count": 6,
   "metadata": {},
   "outputs": [
    {
     "name": "stdout",
     "output_type": "stream",
     "text": [
      "0.9182958340544896\n",
      "0.6887218755408672\n",
      "0.31127812445913283\n"
     ]
    }
   ],
   "source": [
    "print(HY(1/3,2/3))\n",
    "print(EH([0,2],[1,1]))\n",
    "print(IG([0,2],[1,1]))"
   ]
  },
  {
   "cell_type": "markdown",
   "metadata": {},
   "source": [
    "2. \n",
    "\n",
    "(a)\n",
    "P(A=Yes)=0.6, P(A=No)=0.4  \n",
    "(b）& (c)"
   ]
  },
  {
   "cell_type": "code",
   "execution_count": 1,
   "metadata": {},
   "outputs": [],
   "source": [
    "import numpy as np\n",
    "data = [[216,5.68],[69,4.78],[302,2.31],[60,3.16],[393,4.2]]\n",
    "mean = np.mean(data,axis=0)\n",
    "std = np.std(data,axis=0,ddof=1)\n",
    "data_S = (data-mean)/std\n",
    "data_S_A_p  = data_S[[0,1,3]]   # give an A\n",
    "data_S_A_n  = data_S[[2,4]]     # not give an A"
   ]
  },
  {
   "cell_type": "code",
   "execution_count": 8,
   "metadata": {
    "scrolled": true
   },
   "outputs": [
    {
     "name": "stdout",
     "output_type": "stream",
     "text": [
      "[-0.64042813  0.38774181]\n",
      "[0.49245643 0.78656431]\n",
      "[ 0.9606422  -0.58161272]\n",
      "[0.31332774 0.71287162]\n",
      "\n",
      "[0.23413502 0.40282904]\n",
      "0.3199709243005459\n",
      "0.04693519157857963\n"
     ]
    }
   ],
   "source": [
    "# model for A\n",
    "mean_p = np.mean(data_S_A_p,axis=0)\n",
    "std_p = np.std(data_S_A_p,axis=0)\n",
    "print(mean_p)\n",
    "print(std_p)\n",
    "\n",
    "# model for not A\n",
    "mean_n = np.mean(data_S_A_n,axis=0)\n",
    "std_n = np.std(data_S_A_n,axis=0)\n",
    "print(mean_n)\n",
    "print(std_n)\n",
    "\n",
    "print()\n",
    "# determine the grade\n",
    "x=[242,4.56]\n",
    "x = (x-mean)/std\n",
    "P_A = 0.6\n",
    "P_NA = 0.4\n",
    "# probablity of A\n",
    "for k,x_k in enumerate(x):\n",
    "    P_A *= 1/std_p[k] *np.exp(-((x_k-mean_p[k])/std_p[k])**2/2)\n",
    "    P_NA *= 1/std_n[k] *np.exp(-((x_k-mean_n[k])/std_n[k])**2/2)\n",
    "\n",
    "print(x)\n",
    "print(P_A)\n",
    "print(P_NA)\n",
    "# SHOULD"
   ]
  },
  {
   "cell_type": "markdown",
   "metadata": {},
   "source": [
    "3. Try a few k values such as (3,5,7,9) and compare its accuracy with the validation set, choose the k value with highest accuracy"
   ]
  },
  {
   "cell_type": "markdown",
   "metadata": {},
   "source": [
    "# 2. Logistic Regression"
   ]
  },
  {
   "cell_type": "code",
   "execution_count": 10,
   "metadata": {},
   "outputs": [
    {
     "name": "stdout",
     "output_type": "stream",
     "text": [
      "The final model  theta values is: [ 7.39723329 11.73708986 -5.98042615]\n",
      "The final loss value is: -0.8321404534568704\n"
     ]
    },
    {
     "data": {
      "image/png": "[encoded data removed]",
      "text/plain": [
       "<Figure size 432x288 with 1 Axes>"
      ]
     },
     "metadata": {
      "needs_background": "light"
     },
     "output_type": "display_data"
    }
   ],
   "source": [
    "import numpy as np\n",
    "from sklearn.model_selection import train_test_split\n",
    "import matplotlib.pyplot as plt\n",
    "from sklearn.datasets import load_iris\n",
    "iris = load_iris()\n",
    "\n",
    "X = iris.data[:,:2]\n",
    "y = (iris.target!=0)*1\n",
    "mean = np.mean(X,axis=0)\n",
    "std = np.std(X,axis=0,ddof=1)\n",
    "X_S = (X-mean)/std # standardize the data\n",
    "\n",
    "# prepare the data\n",
    "X_S = np.insert(X_S,0,np.ones(len(X_S)),axis=1) # add bias term\n",
    "X_S_T = np.transpose(X_S)\n",
    "\n",
    "\n",
    "# Gradient Descent algorithm\n",
    "iter_num = 1\n",
    "loss_diff = 1\n",
    "Losses = []\n",
    "theta = 2*(np.random.rand(np.shape(X_S)[1])-0.5) # initialize with a aryay in [-1 1]\n",
    "\n",
    "while iter_num <10000 and loss_diff>2e-23:\n",
    "    # update theta\n",
    "    theta = theta + 0.01/len(X_S_T)*X_S_T.dot(y-1/(1+np.exp(-X_S.dot(theta))))\n",
    "    \n",
    "    loss=0\n",
    "    for ii,Yt in enumerate(y):\n",
    "        g_x_theta = 1/(1+np.exp(-X_S[ii].dot(theta)))\n",
    "\n",
    "        if Yt==1:  # To avoid Runtimewarning in log function\n",
    "            loss +=  Yt*np.log(g_x_theta)\n",
    "        else:\n",
    "            loss +=  Yt*np.log(g_x_theta)+(1-Yt)*np.log(1-g_x_theta)\n",
    "        \n",
    "    if iter_num==1:\n",
    "        loss_diff = abs(loss)\n",
    "    else:\n",
    "        loss_diff = abs((loss - Losses[-1])/loss)\n",
    "\n",
    "    Losses.append(loss)\n",
    "    iter_num += 1\n",
    "\n",
    "print('The final model  theta values is: '+str(theta))\n",
    "print('The final loss value is: '+str(loss))\n",
    "\n",
    "#     # apply to the testing data and calculate SE\n",
    "#     y_predicted = X_S.dot(theta)\n",
    "\n",
    "plt.figure()\n",
    "plt.plot(range(1,iter_num), Losses)\n",
    "plt.xlabel('# of iteration')\n",
    "plt.ylabel('Loss')\n",
    "plt.grid(True)\n",
    "plt.show()\n"
   ]
  },
  {
   "cell_type": "code",
   "execution_count": 12,
   "metadata": {},
   "outputs": [
    {
     "data": {
      "image/png": "[encoded data removed]",
      "text/plain": [
       "<Figure size 432x288 with 1 Axes>"
      ]
     },
     "metadata": {
      "needs_background": "light"
     },
     "output_type": "display_data"
    }
   ],
   "source": [
    "import matplotlib.pyplot as plt\n",
    "idx1 = y==1\n",
    "idx2 = y==0\n",
    "\n",
    "plt.scatter(X_S[idx1,1], X_S[idx1,2], color = 'green', label = \"Iris setosa\")\n",
    "plt.scatter(X_S[idx2,1], X_S[idx2,2], color = 'blue', label = \"Iris  virgincia  and  versicolor\")\n",
    "\n",
    "# getting the x co-ordinates of the decision boundary\n",
    "plot_x = np.array([min(X_S[:,1]) - 0.2, max(X_S[:,1]) + 0.2])\n",
    "# getting corresponding y co-ordinates of the decision boundary\n",
    "plot_y = (-1/theta[2]) * (theta[1] * plot_x + theta[0])\n",
    "plt.plot(plot_x, plot_y, label = \"Decision_Boundary\")\n",
    "plt.legend()\n",
    "plt.xlabel('Width of sepals - normalized')\n",
    "plt.ylabel('Length of sepals - normalized')\n",
    "plt.savefig('images\\HW2Q2.jpg')"
   ]
  },
  {
   "cell_type": "code",
   "execution_count": 155,
   "metadata": {},
   "outputs": [
    {
     "data": {
      "text/plain": [
       "-1.863780296269519"
      ]
     },
     "execution_count": 155,
     "metadata": {},
     "output_type": "execute_result"
    }
   ],
   "source": [
    "min(X_S[:,1])"
   ]
  },
  {
   "cell_type": "code",
   "execution_count": 14,
   "metadata": {},
   "outputs": [
    {
     "data": {
      "image/png": "[encoded data removed]",
      "text/plain": [
       "<Figure size 432x288 with 1 Axes>"
      ]
     },
     "metadata": {
      "needs_background": "light"
     },
     "output_type": "display_data"
    }
   ],
   "source": [
    "# compare with sklearn method    \n",
    "from  sklearn.linear_model  import LogisticRegression\n",
    "lgr  =  LogisticRegression( penalty ='none' , solver ='lbfgs', max_iter =10000)\n",
    "lgr.fit(X, y)\n",
    "\n",
    "# Plot the decision boundary. For that, we will assign a color to each\n",
    "# point in the mesh [x_min, x_max]x[y_min, y_max].\n",
    "x_min, x_max = X[:, 0].min() - .5, X[:, 0].max() + .5\n",
    "y_min, y_max = X[:, 1].min() - .5, X[:, 1].max() + .5\n",
    "h = .02  # step size in the mesh\n",
    "xx, yy = np.meshgrid(np.arange(x_min, x_max, h), np.arange(y_min, y_max, h))\n",
    "Z = lgr.predict(np.c_[xx.ravel(), yy.ravel()])\n",
    "\n",
    "# Put the result into a color plot\n",
    "Z = Z.reshape(xx.shape)\n",
    "plt.figure(1)\n",
    "plt.pcolormesh(xx, yy, Z, cmap=plt.cm.Paired)\n",
    "\n",
    "# Plot also the training points\n",
    "plt.scatter(X[:, 0], X[:, 1], c=y, edgecolors='k',  cmap=plt.cm.Paired)\n",
    "plt.xlabel('Sepal width')\n",
    "plt.ylabel('Sepal length')\n",
    "\n",
    "plt.xlim(xx.min(), xx.max())\n",
    "plt.ylim(yy.min(), yy.max())\n",
    "# plt.xticks(())\n",
    "# plt.yticks(())\n",
    "plt.savefig('images\\HW2Q2P.jpg')\n",
    "plt.show()"
   ]
  },
  {
   "cell_type": "markdown",
   "metadata": {},
   "source": [
    "# 3 Logistic Regression Spam Classi\f",
    "cation"
   ]
  },
  {
   "cell_type": "code",
   "execution_count": 3,
   "metadata": {},
   "outputs": [
    {
     "data": {
      "text/plain": [
       "array([[0.000e+00, 6.400e-01, 6.400e-01, ..., 6.100e+01, 2.780e+02,\n",
       "        1.000e+00],\n",
       "       [2.100e-01, 2.800e-01, 5.000e-01, ..., 1.010e+02, 1.028e+03,\n",
       "        1.000e+00],\n",
       "       [6.000e-02, 0.000e+00, 7.100e-01, ..., 4.850e+02, 2.259e+03,\n",
       "        1.000e+00],\n",
       "       ...,\n",
       "       [3.000e-01, 0.000e+00, 3.000e-01, ..., 6.000e+00, 1.180e+02,\n",
       "        0.000e+00],\n",
       "       [9.600e-01, 0.000e+00, 0.000e+00, ..., 5.000e+00, 7.800e+01,\n",
       "        0.000e+00],\n",
       "       [0.000e+00, 0.000e+00, 6.500e-01, ..., 5.000e+00, 4.000e+01,\n",
       "        0.000e+00]])"
      ]
     },
     "execution_count": 3,
     "metadata": {},
     "output_type": "execute_result"
    }
   ],
   "source": [
    "import pandas as pd\n",
    "df = pd.read_csv('spambase(1).data',header=None)\n",
    "data = df.values\n",
    "data"
   ]
  },
  {
   "cell_type": "code",
   "execution_count": 4,
   "metadata": {},
   "outputs": [
    {
     "name": "stderr",
     "output_type": "stream",
     "text": [
      "C:\\Users\\xl388\\AppData\\Local\\Continuum\\anaconda3\\lib\\site-packages\\sklearn\\model_selection\\_split.py:2179: FutureWarning: From version 0.21, test_size will always complement train_size unless both are specified.\n",
      "  FutureWarning)\n"
     ]
    }
   ],
   "source": [
    "import numpy as np\n",
    "from sklearn.model_selection import train_test_split\n",
    "# prepare the data\n",
    "np.random.seed(0)\n",
    "np.random.shuffle(data)\n",
    "x_train, x_test, y_train, y_test = train_test_split(\n",
    "    data[:,0:-2],data[:,-1],train_size = 2/3)\n",
    "\n",
    "# standardize the train data and testing data\n",
    "mean = np.mean(x_train,axis=0)\n",
    "std = np.std(x_train,axis=0,ddof=1)\n",
    "x_train_S = (x_train-mean)/std\n",
    "x_train_S = np.insert(x_train_S,0,np.ones(len(x_train_S)),axis=1) # add bias term\n",
    "x_train_S_T = np.transpose(x_train_S)\n",
    "x_test_S = (x_test-mean)/std\n",
    "x_test_S = np.insert(x_test_S,0,np.ones(len(x_test_S)),axis=1) # add bias term\n"
   ]
  },
  {
   "cell_type": "code",
   "execution_count": 12,
   "metadata": {},
   "outputs": [
    {
     "name": "stdout",
     "output_type": "stream",
     "text": [
      "The final model  theta values is: [-0.86913335 -0.11805257 -0.18027077  0.11197395  0.41203893  0.42892487\n",
      "  0.14382718  0.88905869  0.37337205  0.1609768   0.02989273 -0.01480717\n",
      " -0.16334436 -0.08359056  0.01197502  0.49255024  0.72534652  0.37532944\n",
      "  0.12098073  0.08775449  0.33683947  0.24787652  0.6081278   0.78251944\n",
      "  0.83202154 -0.95561072 -0.76172525 -0.76972599  0.0888034  -0.28800589\n",
      " -0.1739312  -0.21843799  0.85475813 -0.56543997 -0.97631124 -0.36398695\n",
      "  0.18545118 -0.144474   -0.03588901 -0.32019775 -0.2479811  -0.58153029\n",
      " -0.59964228 -0.15315131 -0.72063856 -0.59489029 -0.7080395  -0.1225483\n",
      " -0.27932011 -0.43700963 -0.09133285 -0.11179305  0.22583149  0.94092878\n",
      "  0.22352107  0.59720463  0.86632744]\n",
      "The final loss value is: -697.4905746983803\n"
     ]
    },
    {
     "data": {
      "text/plain": [
       "<Figure size 640x480 with 1 Axes>"
      ]
     },
     "metadata": {},
     "output_type": "display_data"
    }
   ],
   "source": [
    "# Gradient Descent algorithm\n",
    "iter_num = 1\n",
    "loss_diff = 1\n",
    "Losses = []\n",
    "theta = 2*(np.random.rand(np.shape(x_train_S)[1])-0.5) # initialize with a aryay in [-1 1]\n",
    "\n",
    "while iter_num <10000 and loss_diff>2e-23:\n",
    "    # update theta\n",
    "    theta = theta + 0.01/len(x_train_S)*x_train_S_T.dot(y_train-1/(1+np.exp(-x_train_S.dot(theta))))\n",
    "    \n",
    "    loss=0\n",
    "    for ii,Yt in enumerate(y_train):\n",
    "        g_x_theta = 1/(1+np.exp(-x_train_S[ii].dot(theta)))\n",
    "\n",
    "        if Yt==1:  # To avoid Runtimewarning in log function\n",
    "            loss +=  Yt*np.log(g_x_theta)\n",
    "        else:\n",
    "            loss +=  Yt*np.log(g_x_theta)+(1-Yt)*np.log(1-g_x_theta)\n",
    "        \n",
    "    if iter_num==1:\n",
    "        loss_diff = abs(loss)\n",
    "    else:\n",
    "        loss_diff = abs((loss - Losses[-1])/loss)\n",
    "\n",
    "    Losses.append(loss)\n",
    "    iter_num += 1\n",
    "\n",
    "print('The final model  theta values is: '+str(theta))\n",
    "print('The final loss value is: '+str(loss))"
   ]
  },
  {
   "cell_type": "code",
   "execution_count": 13,
   "metadata": {},
   "outputs": [
    {
     "data": {
      "image/png": "[encoded data removed]",
      "text/plain": [
       "<Figure size 432x288 with 1 Axes>"
      ]
     },
     "metadata": {
      "needs_background": "light"
     },
     "output_type": "display_data"
    }
   ],
   "source": [
    "# plot\n",
    "import matplotlib.pyplot as plt\n",
    "plt.figure()\n",
    "plt.plot(range(1,iter_num), Losses)\n",
    "plt.xlabel('# of iteration')\n",
    "plt.ylabel('Loss')\n",
    "plt.grid(True)\n",
    "# plt.savefig('images\\Q5.jpg')\n",
    "plt.show()"
   ]
  },
  {
   "cell_type": "code",
   "execution_count": 11,
   "metadata": {
    "scrolled": true
   },
   "outputs": [
    {
     "name": "stdout",
     "output_type": "stream",
     "text": [
      "The precision is: 0.943502824858757\n",
      "The recall is: 0.8119935170178282\n",
      "The F_measure is: 0.8728222996515679\n",
      "The accuracy is: 0.9048239895697523\n"
     ]
    }
   ],
   "source": [
    "# check the model with the testing data\n",
    "y_test_predicted = x_test_S.dot(theta)\n",
    "TP=0\n",
    "FN=0\n",
    "FP=0\n",
    "TN=0\n",
    "for ii,y_p in enumerate(y_test_predicted):   \n",
    "    if y_p>=0.5:  # choose the lable based on threshold 0.5\n",
    "        y_p=1\n",
    "    else:\n",
    "        y_p=0\n",
    "    \n",
    "    y_t = y_test[ii]   # the real y value from the test data\n",
    "    if y_t==1 and y_p==1:\n",
    "        TP +=1\n",
    "    elif y_t==1 and y_p==0:\n",
    "        FN +=1\n",
    "    elif y_t==0 and y_p==1:\n",
    "        FP +=1\n",
    "    else:\n",
    "        TN +=1\n",
    "        \n",
    "precision = TP/(TP+FP)\n",
    "recall = TP/(TP+FN)\n",
    "F_measure = 2*precision*recall/(precision+recall)\n",
    "accuracy = (TP+TN)/len(y_test)\n",
    "print(\"The precision is: \"+str(precision))\n",
    "print(\"The recall is: \"+str(recall))\n",
    "print(\"The F_measure is: \"+str(F_measure))\n",
    "print(\"The accuracy is: \"+str(accuracy))"
   ]
  },
  {
   "cell_type": "markdown",
   "metadata": {},
   "source": [
    "# 4 Naive Bayes Classifier"
   ]
  },
  {
   "cell_type": "code",
   "execution_count": 46,
   "metadata": {},
   "outputs": [
    {
     "name": "stdout",
     "output_type": "stream",
     "text": [
      "The precision is: 0.7120291616038882\n",
      "The recall is: 0.9512987012987013\n",
      "The F_measure is: 0.8144544822793607\n",
      "The accuracy is: 0.8259452411994785\n"
     ]
    }
   ],
   "source": [
    "import pandas as pd\n",
    "import numpy as np\n",
    "from sklearn.model_selection import train_test_split\n",
    "df = pd.read_csv('spambase(1).data',header=None)\n",
    "data = df.values\n",
    "\n",
    "# prepare the data\n",
    "np.random.seed(0)\n",
    "np.random.shuffle(data)\n",
    "x_train, x_test, y_train, y_test = train_test_split(\n",
    "    data[:,0:-2],data[:,-1],train_size = 2/3)\n",
    "\n",
    "# standardize the train data and testing data\n",
    "mean = np.mean(x_train,axis=0)\n",
    "std = np.std(x_train,axis=0,ddof=1)\n",
    "x_train_S = (x_train-mean)/std\n",
    "x_test_S = (x_test-mean)/std\n",
    "\n",
    "# divide the data into spam exmaples and non-spam examples\n",
    "idx_spam = y_train==1\n",
    "idx_no_spam = y_train==0\n",
    "\n",
    "x_train_S_spam = x_train_S[idx_spam]\n",
    "x_train_S_no_spam = x_train_S[idx_no_spam]\n",
    "\n",
    "# calculate the mean and std values for both spam and non-spam examples\n",
    "mean_spam = np.mean(x_train_S_spam,axis=0)\n",
    "std_spam = np.std(x_train_S_spam,axis=0,ddof=1)\n",
    "\n",
    "mean_no_spam = np.mean(x_train_S_no_spam,axis=0)\n",
    "std_no_spam = np.std(x_train_S_no_spam,axis=0,ddof=1)\n",
    "\n",
    "# Classify testing samples and compute statistics using the testing data results\n",
    "TP=0\n",
    "FN=0\n",
    "FP=0\n",
    "TN=0\n",
    "for ii,y_t in enumerate(y_test):   \n",
    "    x_t = x_test_S[ii] \n",
    "    \n",
    "    # calaulate the probability of testing samples and chosse labels\n",
    "    P_spam = np.log(len(x_train_S_spam)/len(x_train_S))\n",
    "    P_no_spam = np.log(len(x_train_S_no_spam)/len(x_train_S))\n",
    "    for k,x_t_k in enumerate(x_t):\n",
    "        P_spam += np.log(1/std_spam[k]) + (-((x_t_k-mean_spam[k])/std_spam[k])**2/2)\n",
    "        P_no_spam += np.log(1/std_no_spam[k])+ (-((x_t_k-mean_no_spam[k])/std_no_spam[k])**2/2)\n",
    "    \n",
    "#     print(P_spam)\n",
    "#     print(P_no_spam)\n",
    "    # choose the lable based on higher probability of each class\n",
    "    if P_spam>=P_no_spam:  \n",
    "        y_p=1\n",
    "    else:\n",
    "        y_p=0\n",
    "    \n",
    "    # Compate the statistics\n",
    "    if y_t==1 and y_p==1:\n",
    "        TP +=1\n",
    "    elif y_t==1 and y_p==0:\n",
    "        FN +=1\n",
    "    elif y_t==0 and y_p==1:\n",
    "        FP +=1\n",
    "    else:\n",
    "        TN +=1\n",
    "\n",
    "precision = TP/(TP+FP)\n",
    "recall = TP/(TP+FN)\n",
    "F_measure = 2*precision*recall/(precision+recall)\n",
    "accuracy = (TP+TN)/len(y_test)\n",
    "print(\"The precision is: \"+str(precision))\n",
    "print(\"The recall is: \"+str(recall))\n",
    "print(\"The F_measure is: \"+str(F_measure))\n",
    "print(\"The accuracy is: \"+str(accuracy))    "
   ]
  },
  {
   "cell_type": "markdown",
   "metadata": {},
   "source": [
    "# 5 Decision Trees"
   ]
  },
  {
   "cell_type": "code",
   "execution_count": 75,
   "metadata": {},
   "outputs": [],
   "source": [
    "import pandas as pd\n",
    "import numpy as np\n",
    "from sklearn.model_selection import train_test_split\n",
    "import matplotlib.pyplot as plt"
   ]
  },
  {
   "cell_type": "code",
   "execution_count": 17,
   "metadata": {},
   "outputs": [],
   "source": [
    "# This function turns the features into binary feature with mean value as threashold\n",
    "def feature_prep(df):\n",
    "    features=df[df.columns[0:-1]]\n",
    "    labels=df[df.columns[-1]]\n",
    "    \n",
    "    # standardize the train data and testing data\n",
    "    mean = features.mean()\n",
    "    std = features.std()\n",
    "    features_Nor = (features-mean)/std\n",
    "\n",
    "    # Discretize the attribute values \n",
    "    features_Nor_cat=pd.DataFrame()\n",
    "    features_Nor_cat=features_Nor.apply(lambda x:pd.cut(x, bins=[-np.inf,x.mean(),np.inf],labels=[0,1]),axis=1)\n",
    "    \n",
    "    dataset = pd.concat([features_Nor_cat,labels], axis=1, sort=False)\n",
    "        \n",
    "    return dataset"
   ]
  },
  {
   "cell_type": "code",
   "execution_count": 68,
   "metadata": {
    "scrolled": true
   },
   "outputs": [],
   "source": [
    "features = ['x'+str(i) for i in range(58)]  # give the columns names as 'x'+#, where y is the label\n",
    "features[-1] = 'y'\n",
    "df = pd.read_csv('spambase(1).data',header=None,names=features)\n",
    "df_binary = feature_prep(df)\n",
    "data = df_binary.values # convert to np array for shuffle"
   ]
  },
  {
   "cell_type": "code",
   "execution_count": 81,
   "metadata": {},
   "outputs": [],
   "source": [
    "# prepare the data\n",
    "np.random.seed(0)\n",
    "np.random.shuffle(data)\n",
    "train_set,test_set = train_test_split(data,test_size = 1/3) # split the data\n",
    "train_set = pd.DataFrame(train_set, columns=features) # converted to dataframe\n",
    "test_set = pd.DataFrame(test_set, columns=features)   # converted to dataframe"
   ]
  },
  {
   "cell_type": "code",
   "execution_count": 86,
   "metadata": {},
   "outputs": [],
   "source": [
    "# This cell defines the function to train the tree\n",
    "# calculate the entropy of a feature\n",
    "def entropy(target_col):      \n",
    "    elements,counts = np.unique(target_col,return_counts = True)  \n",
    "    entropy = np.sum([(-counts[i]/np.sum(counts))*np.log2(counts[i]/np.sum(counts)) for i in range(len(elements))])  \n",
    "    return entropy  \n",
    "\n",
    "# Calculate the information Gain for a feature\n",
    "def InfoGain(data,attribute_name,target_name=\"y\"):           \n",
    "    #Calculate the entropy of the total dataset  \n",
    "    total_entropy = entropy(data[target_name])  \n",
    "      \n",
    "    ##Calculate the entropy of the dataset        \n",
    "    #Calculate the values and the corresponding counts for the split attribute   \n",
    "    vals,counts= np.unique(data[attribute_name],return_counts=True)  \n",
    "      \n",
    "    #Calculate the weighted entropy  \n",
    "    Weighted_Entropy = np.sum([(counts[i]/np.sum(counts))*entropy(data.where(data[attribute_name]==vals[i]).dropna()[target_name]) for i in range(len(vals))])  \n",
    "      \n",
    "    #return the information gain  \n",
    "    return total_entropy - Weighted_Entropy  \n",
    "\n",
    "# decision tree training\n",
    "def DCT(data,originaldata,features,target_attribute_name=\"y\",parent_node_class = None):  \n",
    "    labels = data[target_attribute_name]\n",
    "    #Define the stopping criteria       \n",
    "    #If all target_values have the same value, return this value  \n",
    "    if len(np.unique(labels)) <= 1:  \n",
    "        return np.unique(labels)[0]  \n",
    "      \n",
    "    #If the dataset is empty, return the mode target feature value in the original dataset  \n",
    "    elif len(data)==0:  \n",
    "        return np.unique(originaldata[target_attribute_name])[np.argmax(np.unique(originaldata[target_attribute_name],return_counts=True)[1])]  \n",
    "      \n",
    "    elif len(features) ==0:  \n",
    "        return parent_node_class  \n",
    "      \n",
    "    else:  \n",
    "        #Set the default value for this node --> The mode target feature value of the current node  \n",
    "        parent_node_class = np.unique(labels)[np.argmax(np.unique(labels,return_counts=True)[1])]  \n",
    "          \n",
    "        #Select the feature which best splits the dataset  \n",
    "        item_values = [InfoGain(data,feature,target_attribute_name) for feature in features] #Return the information gain values for the features in the dataset  \n",
    "        best_feature_index = np.argmax(item_values)  \n",
    "        best_feature = features[best_feature_index]  \n",
    "          \n",
    "        #Create the tree structure. The root gets the name of the feature (best_feature) with the maximum information  \n",
    "        #gain in the first run  \n",
    "        tree = {best_feature:{}}  \n",
    "          \n",
    "          \n",
    "        #Remove the feature with the best inforamtion gain from the feature space  \n",
    "        features = [i for i in features if i != best_feature]  \n",
    "          \n",
    "        #Grow a branch under the root node for each possible value of the root node feature  \n",
    "          \n",
    "        for value in np.unique(data[best_feature]):  \n",
    "            #Split the dataset along the value of the best feature choosen and then create sub_datasets  \n",
    "            sub_data = data.where(data[best_feature] == value).dropna()  \n",
    "              \n",
    "            #Call the DCT algorithm for each of those sub_datasets  \n",
    "            subtree = DCT(sub_data,originaldata,features,target_attribute_name,parent_node_class)  \n",
    "              \n",
    "            #Add the sub tree, grown from the sub_dataset to the tree under the root node  \n",
    "            tree[best_feature][value] = subtree  \n",
    "              \n",
    "        return(tree)      \n",
    "\n",
    "    # predicted a single value\n",
    "def predict(query,tree,default = 1):  \n",
    "    \n",
    "    for key in list(query.keys()):  \n",
    "        if key in list(tree.keys()):  \n",
    "            \n",
    "            try:  \n",
    "                result = tree[key][query[key]]   \n",
    "            except:  \n",
    "                return default  \n",
    "    \n",
    "            result = tree[key][query[key]]  \n",
    "            \n",
    "            if isinstance(result,dict):  \n",
    "                return predict(query,result)  \n",
    "            else:  \n",
    "                return result  \n",
    " \n",
    "# test the data and return the ststistics\n",
    "def test(data,tree):  \n",
    "    #Create new query instances by simply removing the target feature column from the original dataset and   \n",
    "    #convert it to a dictionary  \n",
    "    queries = data.iloc[:,:-1].to_dict(orient = \"records\")  \n",
    "      \n",
    "    #Create a empty DataFrame in whose columns the prediction of the tree are stored  \n",
    "    predicted = pd.DataFrame(columns=[\"predicted\"])   \n",
    "      \n",
    "    #Calculate the predicted value\n",
    "    for i in range(len(data)):  \n",
    "        predicted.loc[i,\"predicted\"] = predict(queries[i],tree,1.0)   \n",
    "    \n",
    "    # Classify testing samples and compute statistics using the testing data results\n",
    "    TP=0\n",
    "    FN=0\n",
    "    FP=0\n",
    "    TN=0\n",
    "    for ii,y_t in enumerate(data[\"y\"]):   \n",
    "        y_p=predicted.loc[ii,\"predicted\"]\n",
    "\n",
    "        # Compate the statistics\n",
    "        if y_t==1 and y_p==1:\n",
    "            TP +=1\n",
    "        elif y_t==1 and y_p==0:\n",
    "            FN +=1\n",
    "        elif y_t==0 and y_p==1:\n",
    "            FP +=1\n",
    "        else:\n",
    "            TN +=1\n",
    "\n",
    "    return TP,FN,FP,TN"
   ]
  },
  {
   "cell_type": "code",
   "execution_count": 87,
   "metadata": {},
   "outputs": [
    {
     "name": "stdout",
     "output_type": "stream",
     "text": [
      "{'x52': {0: {'x6': {0.0: {'x51': {0.0: {'x24': {0.0: {'x4': {0.0: {'x15': {0.0: {'x44': {0.0: {'x26': {0.0: {'x23': {0.0: {'x27': {0.0: {'x45': {0.0: {'x5': {0.0: {'x32': {0.0: {'x19': {0.0: {'x54': {0.0: {'x18': {0.0: {'x55': {0.0: 0.0,\n",
      "                                                                                                                                                                                                                                    1.0: {'x3': {0.0: 0.0,\n",
      "                                                                                                                                                                                                                                                 1.0: 1.0}}}},\n",
      "                                                                                                                                                                                                                      1.0: {'x1': {0.0: {'x3': {0.0: 0.0,\n",
      "                                                                                                                                                                                                                                                1.0: {'x17': {0.0: {'x37': {0.0: {'x11': {0.0: 0.0,\n",
      "                                                                                                                                                                                                                                                                                          1.0: {'x2': {0.0: 1.0,\n",
      "                                                                                                                                                                                                                                                                                                       1.0: 0.0}}}},\n",
      "                                                                                                                                                                                                                                                                            1.0: 0.0}},\n",
      "                                                                                                                                                                                                                                                              1.0: {'x2': {0.0: 0.0,\n",
      "                                                                                                                                                                                                                                                                           1.0: 1.0}}}}}},\n",
      "                                                                                                                                                                                                                                   1.0: {'x10': {0.0: 0.0,\n",
      "                                                                                                                                                                                                                                                 1.0: 1.0}}}}}},\n",
      "                                                                                                                                                                                                        1.0: {'x43': {0.0: {'x20': {0.0: {'x22': {0.0: {'x21': {0.0: 0.0,\n",
      "                                                                                                                                                                                                                                                                1.0: {'x7': {0.0: {'x9': {0.0: 0.0,\n",
      "                                                                                                                                                                                                                                                                                          1.0: 1.0}},\n",
      "                                                                                                                                                                                                                                                                             1.0: 1.0}}}},\n",
      "                                                                                                                                                                                                                                                  1.0: 1.0}},\n",
      "                                                                                                                                                                                                                                    1.0: {'x30': {0.0: {'x2': {0.0: {'x22': {0.0: 1.0,\n",
      "                                                                                                                                                                                                                                                                             1.0: 0.0}},\n",
      "                                                                                                                                                                                                                                                               1.0: 0.0}},\n",
      "                                                                                                                                                                                                                                                  1.0: 0.0}}}},\n",
      "                                                                                                                                                                                                                      1.0: 0.0}}}},\n",
      "                                                                                                                                                                                          1.0: {'x31': {0.0: 1.0,\n",
      "                                                                                                                                                                                                        1.0: {'x11': {0.0: 0.0,\n",
      "                                                                                                                                                                                                                      1.0: {'x1': {0.0: 0.0,\n",
      "                                                                                                                                                                                                                                   1.0: {'x2': {0.0: 1.0,\n",
      "                                                                                                                                                                                                                                                1.0: 0.0}}}}}}}}}},\n",
      "                                                                                                                                                                            1.0: 0.0}},\n",
      "                                                                                                                                                              1.0: {'x16': {0.0: {'x0': {0.0: {'x49': {0.0: {'x12': {0.0: {'x21': {0.0: {'x7': {0.0: {'x54': {0.0: {'x18': {0.0: 0.0,\n",
      "                                                                                                                                                                                                                                                                            1.0: {'x3': {0.0: 1.0,\n",
      "                                                                                                                                                                                                                                                                                         1.0: {'x20': {0.0: 0.0,\n",
      "                                                                                                                                                                                                                                                                                                       1.0: 1.0}}}}}},\n",
      "                                                                                                                                                                                                                                                              1.0: 1.0}},\n",
      "                                                                                                                                                                                                                                                1.0: 1.0}},\n",
      "                                                                                                                                                                                                                                   1.0: 0.0}},\n",
      "                                                                                                                                                                                                                     1.0: 0.0}},\n",
      "                                                                                                                                                                                                       1.0: {'x19': {0.0: 0.0,\n",
      "                                                                                                                                                                                                                     1.0: 1.0}}}},\n",
      "                                                                                                                                                                                         1.0: 0.0}},\n",
      "                                                                                                                                                                            1.0: 1.0}}}},\n",
      "                                                                                                                                                 1.0: 0.0}},\n",
      "                                                                                                                                   1.0: {'x17': {0.0: {'x13': {0.0: {'x2': {0.0: {'x50': {0.0: {'x34': {0.0: {'x18': {0.0: {'x49': {0.0: 0.0,\n",
      "                                                                                                                                                                                                                                    1.0: 1.0}},\n",
      "                                                                                                                                                                                                                      1.0: 0.0}},\n",
      "                                                                                                                                                                                                        1.0: 0.0}},\n",
      "                                                                                                                                                                                          1.0: 1.0}},\n",
      "                                                                                                                                                                            1.0: 0.0}},\n",
      "                                                                                                                                                               1.0: 1.0}},\n",
      "                                                                                                                                                 1.0: 0.0}}}},\n",
      "                                                                                                                     1.0: {'x9': {0.0: {'x0': {0.0: {'x36': {0.0: {'x11': {0.0: {'x55': {0.0: {'x49': {0.0: {'x29': {0.0: {'x1': {0.0: 1.0,\n",
      "                                                                                                                                                                                                                                  1.0: {'x2': {0.0: {'x3': {1.0: {'x5': {0.0: {'x7': {0.0: {'x8': {0.0: {'x10': {0.0: {'x12': {0.0: {'x13': {1.0: {'x14': {1.0: {'x16': {0.0: {'x17': {0.0: {'x18': {1.0: {'x19': {1.0: {'x20': {0.0: {'x21': {1.0: {'x22': {0.0: {'x25': {0.0: {'x27': {0.0: {'x28': {1.0: {'x30': {1.0: {'x31': {1.0: {'x32': {1.0: {'x33': {1.0: {'x34': {1.0: {'x35': {0.0: {'x37': {1.0: {'x38': {1.0: {'x39': {1.0: {'x40': {1.0: {'x41': {1.0: {'x42': {1.0: {'x43': {1.0: {'x45': {1.0: {'x46': {1.0: {'x47': {1.0: {'x48': {1.0: {'x50': {1.0: {'x53': {1.0: {'x54': {1.0: {'x56': {0.0: 1.0}}}}}}}}}}}}}}}}}}}}}}}}}}}}}}}}}}}}}}}}}}}}}}}}}}}}}}}}}}}}}}}}}}}}}}}}}}}}}}}}}},\n",
      "                                                                                                                                                                                                                     1.0: 0.0}},\n",
      "                                                                                                                                                                                                       1.0: 0.0}},\n",
      "                                                                                                                                                                                         1.0: 1.0}},\n",
      "                                                                                                                                                                           1.0: 0.0}},\n",
      "                                                                                                                                                             1.0: 0.0}},\n",
      "                                                                                                                                               1.0: 1.0}},\n",
      "                                                                                                                                  1.0: 1.0}}}},\n",
      "                                                                                                       1.0: {'x29': {0.0: 0.0,\n",
      "                                                                                                                     1.0: {'x20': {0.0: {'x11': {0.0: {'x7': {0.0: 0.0,\n",
      "                                                                                                                                                              1.0: {'x0': {0.0: {'x1': {1.0: {'x2': {0.0: {'x3': {1.0: {'x5': {0.0: {'x8': {0.0: {'x9': {0.0: {'x10': {0.0: {'x12': {0.0: {'x13': {1.0: {'x14': {1.0: {'x16': {0.0: {'x17': {0.0: {'x18': {0.0: {'x19': {1.0: {'x21': {1.0: {'x22': {0.0: {'x23': {1.0: {'x25': {0.0: {'x27': {1.0: {'x28': {1.0: {'x30': {1.0: {'x31': {1.0: {'x32': {1.0: {'x33': {1.0: {'x34': {1.0: {'x35': {1.0: {'x36': {0.0: {'x37': {1.0: {'x38': {1.0: {'x39': {1.0: {'x40': {1.0: {'x41': {1.0: {'x42': {1.0: {'x43': {1.0: {'x45': {1.0: {'x46': {1.0: {'x47': {1.0: {'x48': {1.0: {'x49': {0.0: {'x50': {1.0: {'x53': {1.0: {'x54': {1.0: {'x55': {1.0: {'x56': {0.0: 0.0}}}}}}}}}}}}}}}}}}}}}}}}}}}}}}}}}}}}}}}}}}}}}}}}}}}}}}}}}}}}}}}}}}}}}}}}}}}}}}}}}}}}}}}}}}}},\n",
      "                                                                                                                                                 1.0: {'x27': {0.0: 1.0,\n",
      "                                                                                                                                                               1.0: 0.0}}}},\n",
      "                                                                                                                                   1.0: {'x1': {0.0: 0.0,\n",
      "                                                                                                                                                1.0: 1.0}}}}}}}},\n",
      "                                                                                         1.0: {'x7': {0.0: {'x9': {0.0: 0.0,\n",
      "                                                                                                                   1.0: {'x11': {0.0: 0.0,\n",
      "                                                                                                                                 1.0: {'x3': {0.0: 0.0,\n",
      "                                                                                                                                              1.0: {'x20': {0.0: 1.0,\n",
      "                                                                                                                                                            1.0: 0.0}}}}}}}},\n",
      "                                                                                                      1.0: {'x20': {0.0: 0.0,\n",
      "                                                                                                                    1.0: {'x1': {0.0: 1.0,\n",
      "                                                                                                                                 1.0: 0.0}}}}}}}},\n",
      "                                                                           1.0: {'x7': {0.0: {'x22': {0.0: {'x35': {0.0: {'x44': {0.0: {'x56': {0.0: {'x13': {0.0: {'x16': {0.0: {'x18': {0.0: {'x11': {0.0: {'x38': {0.0: {'x1': {0.0: {'x3': {0.0: {'x26': {0.0: 1.0,\n",
      "                                                                                                                                                                                                                                                              1.0: 0.0}},\n",
      "                                                                                                                                                                                                                                                1.0: 0.0}},\n",
      "                                                                                                                                                                                                                                   1.0: 0.0}},\n",
      "                                                                                                                                                                                                                      1.0: 1.0}},\n",
      "                                                                                                                                                                                                        1.0: 0.0}},\n",
      "                                                                                                                                                                                          1.0: 0.0}},\n",
      "                                                                                                                                                                            1.0: {'x46': {0.0: 0.0,\n",
      "                                                                                                                                                                                          1.0: 1.0}}}},\n",
      "                                                                                                                                                              1.0: {'x26': {0.0: 1.0,\n",
      "                                                                                                                                                                            1.0: 0.0}}}},\n",
      "                                                                                                                                                1.0: {'x26': {0.0: 1.0,\n",
      "                                                                                                                                                              1.0: 0.0}}}},\n",
      "                                                                                                                                  1.0: {'x23': {0.0: 0.0,\n",
      "                                                                                                                                                1.0: 1.0}}}},\n",
      "                                                                                                                    1.0: 1.0}},\n",
      "                                                                                                      1.0: 1.0}},\n",
      "                                                                                        1.0: {'x55': {0.0: 1.0,\n",
      "                                                                                                      1.0: 0.0}}}}}},\n",
      "                                                             1.0: {'x56': {0.0: {'x15': {0.0: {'x7': {0.0: {'x16': {0.0: {'x2': {0.0: {'x44': {0.0: {'x55': {0.0: {'x26': {0.0: {'x10': {0.0: {'x27': {0.0: {'x17': {0.0: {'x43': {0.0: {'x21': {0.0: {'x49': {0.0: 0.0,\n",
      "                                                                                                                                                                                                                                                               1.0: {'x3': {0.0: {'x11': {0.0: {'x13': {0.0: 1.0,\n",
      "                                                                                                                                                                                                                                                                                                        1.0: 0.0}},\n",
      "                                                                                                                                                                                                                                                                                          1.0: 0.0}},\n",
      "                                                                                                                                                                                                                                                                            1.0: 0.0}}}},\n",
      "                                                                                                                                                                                                                                                 1.0: {'x5': {0.0: 1.0,\n",
      "                                                                                                                                                                                                                                                              1.0: 0.0}}}},\n",
      "                                                                                                                                                                                                                                   1.0: 0.0}},\n",
      "                                                                                                                                                                                                                     1.0: {'x1': {0.0: 0.0,\n",
      "                                                                                                                                                                                                                                  1.0: 1.0}}}},\n",
      "                                                                                                                                                                                                       1.0: {'x0': {0.0: 1.0,\n",
      "                                                                                                                                                                                                                    1.0: 0.0}}}},\n",
      "                                                                                                                                                                                         1.0: {'x1': {0.0: 0.0,\n",
      "                                                                                                                                                                                                      1.0: 1.0}}}},\n",
      "                                                                                                                                                                           1.0: 0.0}},\n",
      "                                                                                                                                                             1.0: {'x3': {0.0: 0.0,\n",
      "                                                                                                                                                                          1.0: 1.0}}}},\n",
      "                                                                                                                                               1.0: 0.0}},\n",
      "                                                                                                                                 1.0: 0.0}},\n",
      "                                                                                                                    1.0: {'x9': {0.0: {'x2': {0.0: {'x38': {0.0: 1.0,\n",
      "                                                                                                                                                            1.0: 0.0}},\n",
      "                                                                                                                                              1.0: 0.0}},\n",
      "                                                                                                                                 1.0: 1.0}}}},\n",
      "                                                                                                      1.0: {'x43': {0.0: {'x36': {0.0: 1.0,\n",
      "                                                                                                                                  1.0: {'x9': {0.0: 0.0,\n",
      "                                                                                                                                               1.0: 1.0}}}},\n",
      "                                                                                                                    1.0: 0.0}}}},\n",
      "                                                                                         1.0: {'x41': {0.0: {'x28': {0.0: {'x1': {0.0: 1.0,\n",
      "                                                                                                                                  1.0: {'x9': {0.0: 0.0,\n",
      "                                                                                                                                               1.0: 1.0}}}},\n",
      "                                                                                                                     1.0: 0.0}},\n",
      "                                                                                                       1.0: 0.0}}}},\n",
      "                                                                           1.0: {'x36': {0.0: {'x49': {0.0: 1.0,\n",
      "                                                                                                       1.0: {'x1': {0.0: {'x9': {0.0: 0.0,\n",
      "                                                                                                                                 1.0: 1.0}},\n",
      "                                                                                                                    1.0: 1.0}}}},\n"
     ]
    },
    {
     "name": "stdout",
     "output_type": "stream",
     "text": [
      "                                                                                         1.0: {'x12': {0.0: 0.0,\n",
      "                                                                                                       1.0: 1.0}}}}}}}},\n",
      "                                                1.0: {'x15': {0.0: {'x48': {0.0: 0.0,\n",
      "                                                                            1.0: {'x11': {0.0: {'x7': {0.0: {'x19': {0.0: 0.0,\n",
      "                                                                                                                     1.0: {'x39': {0.0: 0.0,\n",
      "                                                                                                                                   1.0: {'x18': {0.0: {'x14': {0.0: 1.0,\n",
      "                                                                                                                                                               1.0: 0.0}},\n",
      "                                                                                                                                                 1.0: 0.0}}}}}},\n",
      "                                                                                                       1.0: {'x44': {0.0: 0.0,\n",
      "                                                                                                                     1.0: 1.0}}}},\n",
      "                                                                                          1.0: 0.0}}}},\n",
      "                                                              1.0: {'x20': {0.0: 0.0,\n",
      "                                                                            1.0: {'x4': {0.0: {'x54': {0.0: 0.0,\n",
      "                                                                                                       1.0: 1.0}},\n",
      "                                                                                         1.0: 1.0}}}}}}}},\n",
      "                                  1.0: {'x20': {0.0: {'x15': {0.0: {'x55': {0.0: {'x38': {0.0: {'x7': {0.0: {'x23': {0.0: {'x44': {0.0: {'x34': {0.0: {'x11': {0.0: {'x45': {0.0: {'x26': {0.0: {'x24': {0.0: {'x2': {0.0: {'x30': {0.0: 1.0,\n",
      "                                                                                                                                                                                                                                    1.0: {'x49': {0.0: 1.0,\n",
      "                                                                                                                                                                                                                                                  1.0: 0.0}}}},\n",
      "                                                                                                                                                                                                                      1.0: {'x37': {0.0: {'x5': {0.0: 1.0,\n",
      "                                                                                                                                                                                                                                                 1.0: 0.0}},\n",
      "                                                                                                                                                                                                                                    1.0: 0.0}}}},\n",
      "                                                                                                                                                                                                         1.0: 0.0}},\n",
      "                                                                                                                                                                                           1.0: 0.0}},\n",
      "                                                                                                                                                                             1.0: 0.0}},\n",
      "                                                                                                                                                               1.0: {'x18': {0.0: 0.0,\n",
      "                                                                                                                                                                             1.0: {'x47': {0.0: {'x37': {0.0: 0.0,\n",
      "                                                                                                                                                                                                         1.0: 1.0}},\n",
      "                                                                                                                                                                                           1.0: 0.0}}}}}},\n",
      "                                                                                                                                                 1.0: 0.0}},\n",
      "                                                                                                                                   1.0: {'x43': {0.0: 0.0,\n",
      "                                                                                                                                                 1.0: {'x31': {0.0: {'x2': {0.0: {'x11': {0.0: 1.0,\n",
      "                                                                                                                                                                                          1.0: 0.0}},\n",
      "                                                                                                                                                                            1.0: 0.0}},\n",
      "                                                                                                                                                               1.0: 0.0}}}}}},\n",
      "                                                                                                                     1.0: 1.0}},\n",
      "                                                                                                       1.0: 1.0}},\n",
      "                                                                                          1.0: {'x34': {0.0: 0.0,\n",
      "                                                                                                        1.0: {'x18': {0.0: 0.0,\n",
      "                                                                                                                      1.0: {'x2': {0.0: {'x23': {0.0: {'x42': {0.0: {'x0': {0.0: {'x1': {1.0: {'x3': {1.0: {'x4': {0.0: {'x5': {0.0: {'x7': {0.0: {'x8': {0.0: {'x9': {0.0: {'x10': {0.0: {'x11': {0.0: {'x12': {0.0: {'x13': {1.0: {'x14': {1.0: {'x16': {0.0: {'x17': {0.0: {'x19': {1.0: {'x21': {1.0: {'x22': {0.0: {'x24': {0.0: {'x25': {0.0: {'x26': {0.0: {'x27': {0.0: {'x28': {1.0: {'x29': {0.0: {'x30': {1.0: {'x31': {1.0: {'x32': {1.0: {'x33': {1.0: {'x35': {0.0: {'x36': {0.0: {'x37': {1.0: {'x39': {1.0: {'x40': {1.0: {'x41': {1.0: {'x43': {1.0: {'x44': {0.0: {'x45': {1.0: {'x46': {1.0: {'x47': {1.0: {'x48': {1.0: {'x49': {0.0: {'x50': {1.0: {'x53': {1.0: {'x54': {1.0: {'x56': {0.0: 0.0}}}}}}}}}}}}}}}}}}}}}}}}}}}}}}}}}}}}}}}}}}}}}}}}}}}}}}}}}}}}}}}}}}}}}}}}}}}}}}}}}}}}}}}}}},\n",
      "                                                                                                                                                               1.0: 0.0}},\n",
      "                                                                                                                                                 1.0: {'x0': {0.0: {'x1': {1.0: {'x3': {1.0: {'x4': {0.0: {'x5': {0.0: {'x7': {0.0: {'x8': {0.0: {'x9': {0.0: {'x10': {0.0: {'x11': {0.0: {'x12': {0.0: {'x13': {1.0: {'x14': {1.0: {'x16': {0.0: {'x17': {0.0: {'x19': {1.0: {'x21': {1.0: {'x22': {0.0: {'x24': {0.0: {'x25': {0.0: {'x26': {0.0: {'x27': {0.0: {'x28': {1.0: {'x29': {0.0: {'x30': {1.0: {'x31': {1.0: {'x32': {1.0: {'x33': {1.0: {'x35': {0.0: {'x36': {0.0: {'x37': {1.0: {'x39': {1.0: {'x40': {1.0: {'x41': {1.0: {'x42': {1.0: {'x43': {1.0: {'x44': {0.0: {'x45': {1.0: {'x46': {1.0: {'x47': {1.0: {'x48': {1.0: {'x49': {0.0: {'x50': {1.0: {'x53': {1.0: {'x54': {1.0: {'x56': {0.0: 0.0}}}}}}}}}}}}}}}}}}}}}}}}}}}}}}}}}}}}}}}}}}}}}}}}}}}}}}}}}}}}}}}}}}}}}}}}}}}}}}}}}}}}}}}}}}}}}},\n",
      "                                                                                                                                   1.0: 0.0}}}}}}}},\n",
      "                                                                            1.0: {'x4': {0.0: {'x44': {0.0: {'x21': {0.0: {'x18': {0.0: 0.0,\n",
      "                                                                                                                                   1.0: {'x9': {0.0: 1.0,\n",
      "                                                                                                                                                1.0: 0.0}}}},\n",
      "                                                                                                                     1.0: {'x26': {0.0: 1.0,\n",
      "                                                                                                                                   1.0: 0.0}}}},\n",
      "                                                                                                       1.0: 0.0}},\n",
      "                                                                                         1.0: 1.0}}}},\n",
      "                                                              1.0: {'x17': {0.0: {'x12': {0.0: {'x7': {0.0: 1.0,\n",
      "                                                                                                       1.0: {'x11': {0.0: 1.0,\n",
      "                                                                                                                     1.0: 0.0}}}},\n",
      "                                                                                          1.0: {'x7': {0.0: 0.0,\n",
      "                                                                                                       1.0: 1.0}}}},\n",
      "                                                                            1.0: {'x53': {0.0: {'x2': {0.0: 0.0,\n",
      "                                                                                                       1.0: 1.0}},\n",
      "                                                                                          1.0: 0.0}}}}}},\n",
      "                                                1.0: {'x16': {0.0: {'x55': {0.0: {'x45': {0.0: {'x15': {0.0: {'x8': {0.0: {'x4': {0.0: {'x22': {0.0: {'x14': {0.0: {'x3': {0.0: {'x21': {0.0: {'x0': {0.0: 0.0,\n",
      "                                                                                                                                                                                                      1.0: {'x2': {0.0: 1.0,\n",
      "                                                                                                                                                                                                                   1.0: 0.0}}}},\n",
      "                                                                                                                                                                                         1.0: 1.0}},\n",
      "                                                                                                                                                                           1.0: 0.0}},\n",
      "                                                                                                                                                              1.0: 1.0}},\n",
      "                                                                                                                                                1.0: 1.0}},\n",
      "                                                                                                                                  1.0: {'x1': {0.0: 1.0,\n",
      "                                                                                                                                               1.0: 0.0}}}},\n",
      "                                                                                                                     1.0: 1.0}},\n",
      "                                                                                                        1.0: {'x24': {0.0: {'x30': {0.0: {'x46': {0.0: {'x3': {0.0: {'x5': {0.0: 1.0,\n",
      "                                                                                                                                                                            1.0: {'x2': {0.0: 0.0,\n",
      "                                                                                                                                                                                         1.0: 1.0}}}},\n",
      "                                                                                                                                                               1.0: 0.0}},\n",
      "                                                                                                                                                  1.0: 1.0}},\n",
      "                                                                                                                                    1.0: 0.0}},\n",
      "                                                                                                                      1.0: 0.0}}}},\n",
      "                                                                                          1.0: 0.0}},\n",
      "                                                                            1.0: {'x24': {0.0: {'x26': {0.0: {'x4': {0.0: {'x17': {0.0: 1.0,\n",
      "                                                                                                                                   1.0: {'x1': {0.0: 0.0,\n",
      "                                                                                                                                                1.0: 1.0}}}},\n",
      "                                                                                                                     1.0: 1.0}},\n",
      "                                                                                                        1.0: 0.0}},\n",
      "                                                                                          1.0: 0.0}}}},\n",
      "                                                              1.0: 1.0}}}}}},\n",
      "                    1.0: {'x24': {0.0: {'x31': {0.0: {'x34': {0.0: {'x55': {0.0: {'x3': {0.0: {'x9': {0.0: {'x29': {0.0: 1.0,\n",
      "                                                                                                                    1.0: 0.0}},\n",
      "                                                                                                      1.0: {'x32': {0.0: {'x36': {0.0: {'x39': {0.0: 1.0,\n",
      "                                                                                                                                                1.0: {'x11': {0.0: 1.0,\n"
     ]
    },
    {
     "name": "stdout",
     "output_type": "stream",
     "text": [
      "                                                                                                                                                              1.0: {'x0': {0.0: {'x1': {0.0: {'x2': {1.0: {'x4': {0.0: {'x5': {1.0: {'x7': {1.0: {'x8': {1.0: {'x10': {1.0: {'x12': {0.0: {'x13': {0.0: {'x14': {0.0: {'x15': {0.0: {'x16': {1.0: {'x17': {1.0: {'x18': {0.0: {'x19': {1.0: {'x20': {1.0: {'x21': {0.0: {'x22': {0.0: {'x23': {1.0: {'x25': {0.0: {'x26': {0.0: {'x27': {0.0: {'x28': {0.0: {'x29': {0.0: {'x30': {0.0: {'x33': {0.0: {'x35': {0.0: {'x37': {0.0: {'x38': {0.0: {'x40': {0.0: {'x41': {0.0: {'x42': {0.0: {'x43': {0.0: {'x44': {0.0: {'x45': {0.0: {'x46': {0.0: {'x47': {0.0: {'x48': {0.0: {'x49': {1.0: {'x50': {0.0: {'x51': {1.0: {'x53': {0.0: {'x54': {0.0: {'x56': {1.0: 0.0}}}}}}}}}}}}}}}}}}}}}}}}}}}}}}}}}}}}}}}}}}}}}}}}}}}}}}}}}}}}}}}}}}}}}}}}}}}}}}}}}}}}}}}},\n",
      "                                                                                                                                                                           1.0: 0.0}}}}}},\n",
      "                                                                                                                                  1.0: {'x15': {0.0: 1.0,\n",
      "                                                                                                                                                1.0: 0.0}}}},\n",
      "                                                                                                                    1.0: {'x15': {0.0: 1.0,\n",
      "                                                                                                                                  1.0: 0.0}}}}}},\n",
      "                                                                                         1.0: 1.0}},\n",
      "                                                                            1.0: 1.0}},\n",
      "                                                              1.0: 0.0}},\n",
      "                                                1.0: {'x2': {0.0: 0.0,\n",
      "                                                             1.0: {'x49': {0.0: 1.0,\n",
      "                                                                           1.0: 0.0}}}}}},\n",
      "                                  1.0: 0.0}}}},\n",
      "         1: {'x24': {0.0: {'x45': {0.0: {'x30': {0.0: {'x26': {0.0: {'x22': {0.0: {'x20': {0.0: {'x35': {0.0: {'x8': {0.0: {'x41': {0.0: {'x36': {0.0: {'x42': {0.0: {'x5': {0.0: {'x16': {0.0: {'x9': {0.0: {'x11': {0.0: {'x2': {0.0: {'x6': {0.0: {'x12': {0.0: 1.0,\n",
      "                                                                                                                                                                                                                                                              1.0: {'x3': {0.0: 1.0,\n",
      "                                                                                                                                                                                                                                                                           1.0: 0.0}}}},\n",
      "                                                                                                                                                                                                                                                1.0: {'x7': {0.0: {'x48': {0.0: {'x3': {0.0: {'x4': {0.0: 1.0,\n",
      "                                                                                                                                                                                                                                                                                                     1.0: 0.0}},\n",
      "                                                                                                                                                                                                                                                                                        1.0: 1.0}},\n",
      "                                                                                                                                                                                                                                                                           1.0: 0.0}},\n",
      "                                                                                                                                                                                                                                                             1.0: 0.0}}}},\n",
      "                                                                                                                                                                                                                                   1.0: 1.0}},\n",
      "                                                                                                                                                                                                                      1.0: 0.0}},\n",
      "                                                                                                                                                                                                        1.0: 1.0}},\n",
      "                                                                                                                                                                                           1.0: 1.0}},\n",
      "                                                                                                                                                                             1.0: 1.0}},\n",
      "                                                                                                                                                                1.0: 0.0}},\n",
      "                                                                                                                                                  1.0: {'x4': {0.0: 0.0,\n",
      "                                                                                                                                                               1.0: 1.0}}}},\n",
      "                                                                                                                                    1.0: 0.0}},\n",
      "                                                                                                                      1.0: 1.0}},\n",
      "                                                                                                         1.0: 1.0}},\n",
      "                                                                                           1.0: {'x6': {0.0: {'x27': {0.0: {'x2': {0.0: {'x41': {0.0: {'x54': {0.0: {'x36': {0.0: {'x9': {0.0: {'x32': {0.0: {'x5': {0.0: {'x48': {0.0: {'x4': {0.0: 1.0,\n",
      "                                                                                                                                                                                                                                                1.0: {'x17': {0.0: 1.0,\n",
      "                                                                                                                                                                                                                                                              1.0: 0.0}}}},\n",
      "                                                                                                                                                                                                                                   1.0: 0.0}},\n",
      "                                                                                                                                                                                                                     1.0: 1.0}},\n",
      "                                                                                                                                                                                                        1.0: 0.0}},\n",
      "                                                                                                                                                                                          1.0: 1.0}},\n",
      "                                                                                                                                                                             1.0: 0.0}},\n",
      "                                                                                                                                                               1.0: 1.0}},\n",
      "                                                                                                                                                 1.0: 0.0}},\n",
      "                                                                                                                                   1.0: {'x3': {0.0: 1.0,\n",
      "                                                                                                                                                1.0: {'x10': {0.0: 1.0,\n",
      "                                                                                                                                                              1.0: 0.0}}}}}},\n",
      "                                                                                                                      1.0: 0.0}},\n",
      "                                                                                                        1.0: 1.0}}}},\n",
      "                                                                             1.0: {'x15': {0.0: 1.0,\n",
      "                                                                                           1.0: {'x3': {0.0: {'x44': {0.0: 1.0,\n",
      "                                                                                                                      1.0: {'x10': {0.0: 1.0,\n",
      "                                                                                                                                    1.0: 0.0}}}},\n",
      "                                                                                                        1.0: {'x18': {0.0: 1.0,\n",
      "                                                                                                                      1.0: 0.0}}}}}}}},\n",
      "                                                               1.0: 0.0}},\n",
      "                                                 1.0: {'x51': {0.0: {'x2': {0.0: 0.0,\n",
      "                                                                            1.0: {'x0': {0.0: 1.0,\n",
      "                                                                                         1.0: 0.0}}}},\n",
      "                                                               1.0: 1.0}}}},\n",
      "                                   1.0: {'x21': {0.0: 0.0,\n",
      "                                                 1.0: {'x44': {0.0: {'x15': {0.0: {'x35': {0.0: 0.0,\n",
      "                                                                                           1.0: 1.0}},\n",
      "                                                                             1.0: 1.0}},\n",
      "                                                               1.0: 1.0}}}}}},\n",
      "                     1.0: {'x6': {0.0: {'x13': {0.0: 0.0,\n",
      "                                                1.0: {'x10': {0.0: 0.0,\n",
      "                                                              1.0: {'x3': {0.0: 0.0,\n",
      "                                                                           1.0: {'x0': {0.0: {'x1': {0.0: {'x2': {0.0: {'x4': {0.0: {'x5': {0.0: {'x7': {1.0: {'x8': {0.0: {'x9': {0.0: {'x11': {1.0: {'x12': {0.0: {'x14': {0.0: {'x15': {0.0: {'x16': {1.0: {'x17': {0.0: {'x18': {0.0: {'x19': {0.0: {'x20': {0.0: {'x21': {0.0: {'x22': {0.0: {'x23': {0.0: {'x25': {0.0: {'x26': {0.0: {'x27': {0.0: {'x28': {0.0: {'x29': {0.0: {'x30': {0.0: {'x31': {0.0: {'x32': {1.0: {'x33': {0.0: {'x34': {0.0: {'x35': {1.0: {'x36': {0.0: {'x37': {1.0: {'x38': {0.0: {'x39': {0.0: {'x40': {0.0: {'x41': {0.0: {'x42': {0.0: {'x43': {0.0: {'x44': {0.0: {'x45': {0.0: {'x46': {1.0: {'x47': {0.0: {'x48': {1.0: {'x49': {0.0: {'x50': {0.0: {'x51': {0.0: {'x53': {0.0: {'x54': {0.0: {'x55': {0.0: {'x56': {1.0: 0.0}}}}}}}}}}}}}}}}}}}}}}}}}}}}}}}}}}}}}}}}}}}}}}}}}}}}}}}}}}}}}}}}}}}}}}}}}}}}}}}}}}}}}}}}}}}}}}}}}}}}}}}}}}}},\n",
      "                                  1.0: 1.0}}}}}}\n"
     ]
    }
   ],
   "source": [
    "# train the ID3 tree\n",
    "ID3tree = DCT(train_set,train_set,train_set.columns[:-1])  \n",
    "pprint(ID3tree)"
   ]
  },
  {
   "cell_type": "code",
   "execution_count": 88,
   "metadata": {},
   "outputs": [
    {
     "name": "stdout",
     "output_type": "stream",
     "text": [
      "The precision is: 0.86084142394822\n",
      "The recall is: 0.9094017094017094\n",
      "The F_measure is: 0.884455527847049\n",
      "The accuracy is: 0.909387222946545\n"
     ]
    }
   ],
   "source": [
    "TP,FN,FP,TN = test(test_set,ID3tree)  \n",
    "precision = TP/(TP+FP)\n",
    "recall = TP/(TP+FN)\n",
    "F_measure = 2*precision*recall/(precision+recall)\n",
    "accuracy = (TP+TN)/len(test_set)\n",
    "print(\"The precision is: \"+str(precision))\n",
    "print(\"The recall is: \"+str(recall))\n",
    "print(\"The F_measure is: \"+str(F_measure))\n",
    "print(\"The accuracy is: \"+str(accuracy))    "
   ]
  }
 ],
 "metadata": {
  "kernelspec": {
   "display_name": "Python 3",
   "language": "python",
   "name": "python3"
  },
  "language_info": {
   "codemirror_mode": {
    "name": "ipython",
    "version": 3
   },
   "file_extension": ".py",
   "mimetype": "text/x-python",
   "name": "python",
   "nbconvert_exporter": "python",
   "pygments_lexer": "ipython3",
   "version": "3.8.3"
  }
 },
 "nbformat": 4,
 "nbformat_minor": 2
}
