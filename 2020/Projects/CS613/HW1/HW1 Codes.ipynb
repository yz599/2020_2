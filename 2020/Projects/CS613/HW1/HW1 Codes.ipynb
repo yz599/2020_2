{
 "cells": [
  {
   "cell_type": "markdown",
   "metadata": {},
   "source": [
    "# CS613 HW#1\n",
    "# Xiangang Lai\n"
   ]
  },
  {
   "cell_type": "markdown",
   "metadata": {},
   "source": [
    "# Part 1\n",
    "## 1.\n",
    "### (a)"
   ]
  },
  {
   "cell_type": "code",
   "execution_count": 265,
   "metadata": {},
   "outputs": [
    {
     "name": "stdout",
     "output_type": "stream",
     "text": [
      "[ 0.95769231 -0.44230769]\n"
     ]
    }
   ],
   "source": [
    "import numpy as np\n",
    "x = [[1, -2],\n",
    "     [1, -5],\n",
    "     [1, -3],\n",
    "     [1, 0],\n",
    "     [1, -6],\n",
    "     [1, -2],\n",
    "     [1, 1],\n",
    "     [1, 5],\n",
    "     [1, -1],\n",
    "     [1, 3]]\n",
    "y=[1, -4, 1, 3,11,5,0,-1,-3,1 ]\n",
    "x= np.asarray(x)\n",
    "xT = np.transpose(x)\n",
    "y = np.asarray(y)\n",
    "theta = np.linalg.inv(xT.dot(x)).dot(xT.dot(y))\n",
    "print(theta)"
   ]
  },
  {
   "cell_type": "markdown",
   "metadata": {},
   "source": [
    "### (b)"
   ]
  },
  {
   "cell_type": "code",
   "execution_count": 266,
   "metadata": {},
   "outputs": [
    {
     "name": "stdout",
     "output_type": "stream",
     "text": [
      "0.9576923076923074\n",
      "-0.44230769230769246\n"
     ]
    }
   ],
   "source": [
    "# check with sklearn.linearmodel\n",
    "from sklearn.linear_model import LinearRegression\n",
    "reg = LinearRegression().fit(x, y)\n",
    "print(reg.intercept_)\n",
    "print(reg.coef_[1])"
   ]
  },
  {
   "cell_type": "markdown",
   "metadata": {},
   "source": [
    "The results obtained agree very well."
   ]
  },
  {
   "cell_type": "markdown",
   "metadata": {},
   "source": [
    "## 2. \n",
    "### (c)"
   ]
  },
  {
   "cell_type": "code",
   "execution_count": 267,
   "metadata": {},
   "outputs": [
    {
     "data": {
      "image/png": "[encoded data removed]",
      "text/plain": [
       "<Figure size 432x288 with 1 Axes>"
      ]
     },
     "metadata": {
      "needs_background": "light"
     },
     "output_type": "display_data"
    }
   ],
   "source": [
    "import matplotlib.pyplot as plt\n",
    "def g(x):\n",
    "    return (x-1)**4\n",
    "    \n",
    "x = np.arange(-1, 3.1, 0.1)\n",
    "\n",
    "plt.figure()\n",
    "plt.plot(x, g(x))\n",
    "plt.xlabel('x')\n",
    "plt.ylabel('g(x)')\n",
    "plt.grid(True)\n",
    "plt.savefig('images\\Q1.jpg')\n",
    "plt.show()"
   ]
  },
  {
   "cell_type": "markdown",
   "metadata": {},
   "source": [
    "# Part 2"
   ]
  },
  {
   "cell_type": "code",
   "execution_count": 4,
   "metadata": {
    "scrolled": true
   },
   "outputs": [
    {
     "name": "stdout",
     "output_type": "stream",
     "text": [
      "The coeffieinets are: [3343.27586207 1036.63016523 -295.66859639]\n",
      "The RMSE is: 653.7601025967209\n"
     ]
    }
   ],
   "source": [
    "# read the data\n",
    "import pandas as pd\n",
    "df = pd.read_csv('x06Simple.csv',index_col=0,header=0)\n",
    "data = df.values\n",
    "\n",
    "# prepare the data\n",
    "import numpy as np\n",
    "np.random.seed(0)\n",
    "np.random.shuffle(data)\n",
    "idx = int(np.round(len(data)*2/3))\n",
    "x_train = data[:idx,0:2]\n",
    "y_train = data[:idx,2]\n",
    "x_test = data[idx:,0:2]\n",
    "y_test = data[idx:,2]\n",
    "\n",
    "# standardize the train data\n",
    "mean = np.mean(x_train,axis=0)\n",
    "std = np.std(x_train,axis=0,ddof=1)\n",
    "x_train_S = (x_train-mean)/std\n",
    "x_train_S = np.insert(x_train_S,0,np.ones(len(x_train_S)),axis=1) # add bias term\n",
    "\n",
    "# compute the closed form solution\n",
    "x_train_S_T = np.transpose(x_train_S)\n",
    "theta = np.linalg.inv(x_train_S_T.dot(x_train_S)).dot(x_train_S_T.dot(y_train))\n",
    "print(\"The coeffieinets are: \"+ str(theta))\n",
    "\n",
    "# apply to the testing data\n",
    "x_test_S = (x_test-mean)/std\n",
    "x_test_S = np.insert(x_test_S,0,np.ones(len(x_test_S)),axis=1) # add bias term\n",
    "y_test_predicted = x_test_S.dot(theta)\n",
    "RMSE = np.sqrt((y_test-y_test_predicted).dot(y_test-y_test_predicted)/len(y_test))\n",
    "print(\"The RMSE is: \"+str(RMSE))\n"
   ]
  },
  {
   "cell_type": "code",
   "execution_count": 4,
   "metadata": {},
   "outputs": [
    {
     "data": {
      "text/plain": [
       "array([[125,  29],\n",
       "       [ 69,  31],\n",
       "       [ 83,  29],\n",
       "       [ 69,  25],\n",
       "       [153,  25],\n",
       "       [ 55,  29],\n",
       "       [ 97,  29],\n",
       "       [ 14,  27],\n",
       "       [ 83,  31],\n",
       "       [139,  29],\n",
       "       [111,  29],\n",
       "       [139,  27],\n",
       "       [125,  31],\n",
       "       [ 41,  25],\n",
       "       [153,  31],\n",
       "       [111,  27],\n",
       "       [ 69,  27],\n",
       "       [ 14,  29],\n",
       "       [ 83,  27],\n",
       "       [111,  31],\n",
       "       [125,  25],\n",
       "       [ 41,  27],\n",
       "       [ 83,  25],\n",
       "       [ 97,  27],\n",
       "       [153,  29],\n",
       "       [ 55,  27],\n",
       "       [ 41,  31],\n",
       "       [111,  25],\n",
       "       [ 28,  31]], dtype=int64)"
      ]
     },
     "execution_count": 4,
     "metadata": {},
     "output_type": "execute_result"
    }
   ],
   "source": [
    "x_train"
   ]
  },
  {
   "cell_type": "markdown",
   "metadata": {},
   "source": [
    "# Part 3"
   ]
  },
  {
   "cell_type": "code",
   "execution_count": 3,
   "metadata": {},
   "outputs": [
    {
     "ename": "ValueError",
     "evalue": "Cannot have number of splits n_splits=80 greater than the number of samples: n_samples=44.",
     "output_type": "error",
     "traceback": [
      "\u001b[0;31m---------------------------------------------------------------------------\u001b[0m",
      "\u001b[0;31mValueError\u001b[0m                                Traceback (most recent call last)",
      "\u001b[0;32m<ipython-input-3-ec10db86f83e>\u001b[0m in \u001b[0;36m<module>\u001b[0;34m\u001b[0m\n\u001b[1;32m     17\u001b[0m     \u001b[0mkf\u001b[0m \u001b[0;34m=\u001b[0m \u001b[0mKFold\u001b[0m\u001b[0;34m(\u001b[0m\u001b[0mn_splits\u001b[0m\u001b[0;34m=\u001b[0m\u001b[0mnum_S\u001b[0m\u001b[0;34m)\u001b[0m\u001b[0;34m\u001b[0m\u001b[0;34m\u001b[0m\u001b[0m\n\u001b[1;32m     18\u001b[0m     \u001b[0mSEs\u001b[0m \u001b[0;34m=\u001b[0m \u001b[0;34m[\u001b[0m\u001b[0;34m]\u001b[0m\u001b[0;34m\u001b[0m\u001b[0;34m\u001b[0m\u001b[0m\n\u001b[0;32m---> 19\u001b[0;31m     \u001b[0;32mfor\u001b[0m \u001b[0mtrain_idx\u001b[0m\u001b[0;34m,\u001b[0m \u001b[0mtest_idx\u001b[0m \u001b[0;32min\u001b[0m \u001b[0mkf\u001b[0m\u001b[0;34m.\u001b[0m\u001b[0msplit\u001b[0m\u001b[0;34m(\u001b[0m\u001b[0mdata\u001b[0m\u001b[0;34m)\u001b[0m\u001b[0;34m:\u001b[0m\u001b[0;34m\u001b[0m\u001b[0;34m\u001b[0m\u001b[0m\n\u001b[0m\u001b[1;32m     20\u001b[0m         \u001b[0;31m# prepare the data\u001b[0m\u001b[0;34m\u001b[0m\u001b[0;34m\u001b[0m\u001b[0;34m\u001b[0m\u001b[0m\n\u001b[1;32m     21\u001b[0m         \u001b[0mx_train\u001b[0m \u001b[0;34m=\u001b[0m \u001b[0mdata\u001b[0m\u001b[0;34m[\u001b[0m\u001b[0mtrain_idx\u001b[0m\u001b[0;34m,\u001b[0m\u001b[0;36m0\u001b[0m\u001b[0;34m:\u001b[0m\u001b[0;36m2\u001b[0m\u001b[0;34m]\u001b[0m\u001b[0;34m\u001b[0m\u001b[0;34m\u001b[0m\u001b[0m\n",
      "\u001b[0;32m~/opt/anaconda3/lib/python3.8/site-packages/sklearn/model_selection/_split.py\u001b[0m in \u001b[0;36msplit\u001b[0;34m(self, X, y, groups)\u001b[0m\n\u001b[1;32m    329\u001b[0m         \u001b[0mn_samples\u001b[0m \u001b[0;34m=\u001b[0m \u001b[0m_num_samples\u001b[0m\u001b[0;34m(\u001b[0m\u001b[0mX\u001b[0m\u001b[0;34m)\u001b[0m\u001b[0;34m\u001b[0m\u001b[0;34m\u001b[0m\u001b[0m\n\u001b[1;32m    330\u001b[0m         \u001b[0;32mif\u001b[0m \u001b[0mself\u001b[0m\u001b[0;34m.\u001b[0m\u001b[0mn_splits\u001b[0m \u001b[0;34m>\u001b[0m \u001b[0mn_samples\u001b[0m\u001b[0;34m:\u001b[0m\u001b[0;34m\u001b[0m\u001b[0;34m\u001b[0m\u001b[0m\n\u001b[0;32m--> 331\u001b[0;31m             raise ValueError(\n\u001b[0m\u001b[1;32m    332\u001b[0m                 (\"Cannot have number of splits n_splits={0} greater\"\n\u001b[1;32m    333\u001b[0m                  \" than the number of samples: n_samples={1}.\")\n",
      "\u001b[0;31mValueError\u001b[0m: Cannot have number of splits n_splits=80 greater than the number of samples: n_samples=44."
     ]
    }
   ],
   "source": [
    "# read the data\n",
    "import pandas as pd\n",
    "import numpy as np\n",
    "from sklearn.model_selection import KFold\n",
    "df = pd.read_csv('x06Simple.csv',index_col=0,header=0)\n",
    "data = df.values\n",
    "\n",
    "# set the number of testing and number of Folds\n",
    "num_test = 20\n",
    "num_S = 80\n",
    "\n",
    "RMSEs = []\n",
    "for ii in range(num_test):\n",
    "    np.random.seed(ii)  # assign different seeds for each test\n",
    "    np.random.shuffle(data)\n",
    "\n",
    "    kf = KFold(n_splits=num_S)\n",
    "    SEs = []\n",
    "    for train_idx, test_idx in kf.split(data):\n",
    "        # prepare the data\n",
    "        x_train = data[train_idx,0:2]\n",
    "        y_train = data[train_idx,2]\n",
    "        x_test = data[test_idx,0:2]\n",
    "        y_test = data[test_idx,2]\n",
    "\n",
    "        # standardize the train data\n",
    "        mean = np.mean(x_train,axis=0)\n",
    "        std = np.std(x_train,axis=0,ddof=1)\n",
    "        x_train_S = (x_train-mean)/std\n",
    "        x_train_S = np.insert(x_train_S,0,np.ones(len(x_train_S)),axis=1) # add bias term\n",
    "\n",
    "        # compute the closed form solution\n",
    "        x_train_S_T = np.transpose(x_train_S)\n",
    "        theta = np.linalg.inv(x_train_S_T.dot(x_train_S)).dot(x_train_S_T.dot(y_train))\n",
    "\n",
    "        # apply to the testing data\n",
    "        x_test_S = (x_test-mean)/std\n",
    "        x_test_S = np.insert(x_test_S,0,np.ones(len(x_test_S)),axis=1) # add bias term\n",
    "        \n",
    "        y_test_predicted = x_test_S.dot(theta)\n",
    "        SE = (y_test-y_test_predicted).dot(y_test-y_test_predicted)\n",
    "        SEs.append([SE,len(y_test)]) # save the square errors and number of testing sample\n",
    "\n",
    "    RMSE = np.sqrt(np.sum(SEs,axis=0)[0]/np.sum(SEs,axis=0)[1])\n",
    "    RMSEs.append(RMSE)\n",
    "mean = np.mean(RMSEs,axis=0)\n",
    "std = np.std(RMSEs,axis=0)\n",
    "print(\"The mean is: \"+str(mean))\n",
    "print(\"The std is: \"+str(std))"
   ]
  },
  {
   "cell_type": "markdown",
   "metadata": {},
   "source": [
    "# Part 4"
   ]
  },
  {
   "cell_type": "code",
   "execution_count": 270,
   "metadata": {
    "scrolled": true
   },
   "outputs": [
    {
     "data": {
      "text/plain": [
       "394.09370283577687"
      ]
     },
     "execution_count": 270,
     "metadata": {},
     "output_type": "execute_result"
    }
   ],
   "source": [
    "# read the data\n",
    "import pandas as pd\n",
    "import numpy as np\n",
    "from sklearn.model_selection import train_test_split\n",
    "df = pd.read_csv('x06Simple.csv',index_col=0,header=0)\n",
    "data = df.values\n",
    "\n",
    "# prepare the data\n",
    "np.random.seed(0)\n",
    "np.random.shuffle(data)\n",
    "x_train, x_test, y_train, y_test = train_test_split(\n",
    "    data[:,0:2],data[:,2],train_size = 2/3)\n",
    "\n",
    "# standardize the train data and testing data\n",
    "mean = np.mean(x_train,axis=0)\n",
    "std = np.std(x_train,axis=0,ddof=1)\n",
    "x_train_S = (x_train-mean)/std\n",
    "x_train_S = np.insert(x_train_S,0,np.ones(len(x_train_S)),axis=1) # add bias term\n",
    "x_train_S_T = np.transpose(x_train_S)\n",
    "x_test_S = (x_test-mean)/std\n",
    "x_test_S = np.insert(x_test_S,0,np.ones(len(x_test_S)),axis=1) # add bias term\n",
    "SEs = []\n",
    "for idx,test in enumerate(x_test_S):\n",
    "    beta = []\n",
    "    k=1\n",
    "    for train in x_train_S:\n",
    "        beta.append(np.exp(-sum(abs(test-train))/(k**2)))\n",
    "    W = np.diag(beta)\n",
    "    \n",
    "    # compute the Locally Weighted Regression\n",
    "    theta = np.linalg.inv(x_train_S_T.dot(W).dot(x_train_S))\\\n",
    "            .dot(x_train_S_T).dot(W).dot(y_train)\n",
    "\n",
    "    # apply to the testing data and calculate SE\n",
    "    test_predicted = test.dot(theta)\n",
    "    SEs.append((y_test[idx]-test_predicted)**2)\n",
    "\n",
    "RMSE = np.sqrt(np.sum(SEs)/len(SEs)) \n",
    "RMSE"
   ]
  },
  {
   "cell_type": "markdown",
   "metadata": {},
   "source": [
    "# Part 5"
   ]
  },
  {
   "cell_type": "code",
   "execution_count": 4,
   "metadata": {},
   "outputs": [
    {
     "name": "stdout",
     "output_type": "stream",
     "text": [
      "The final model  theta values is: [3060.4137931  1282.67183074 -252.2763165 ]\n",
      "The final RMSE value is: 576.1462877627042\n"
     ]
    },
    {
     "data": {
      "image/png": "[encoded data removed]",
      "text/plain": [
       "<Figure size 432x288 with 1 Axes>"
      ]
     },
     "metadata": {
      "needs_background": "light"
     },
     "output_type": "display_data"
    }
   ],
   "source": [
    "# read the data\n",
    "import pandas as pd\n",
    "import numpy as np\n",
    "from sklearn.model_selection import train_test_split\n",
    "import matplotlib.pyplot as plt\n",
    "\n",
    "df = pd.read_csv('x06Simple.csv',index_col=0,header=0)\n",
    "data = df.values\n",
    "\n",
    "# prepare the data\n",
    "np.random.seed(0)\n",
    "np.random.shuffle(data)\n",
    "x_train, x_test, y_train, y_test = train_test_split(\n",
    "    data[:,0:2],data[:,2],train_size = 2/3)\n",
    "\n",
    "# standardize the train data and testing data\n",
    "mean = np.mean(x_train,axis=0)\n",
    "std = np.std(x_train,axis=0,ddof=1)\n",
    "x_train_S = (x_train-mean)/std\n",
    "x_train_S = np.insert(x_train_S,0,np.ones(len(x_train_S)),axis=1) # add bias term\n",
    "x_train_S_T = np.transpose(x_train_S)\n",
    "x_test_S = (x_test-mean)/std\n",
    "x_test_S = np.insert(x_test_S,0,np.ones(len(x_test_S)),axis=1)\n",
    "\n",
    "# Gradient Descent algorithm\n",
    "iter_num = 1\n",
    "RMSE_diff = 1\n",
    "RMSEs = []\n",
    "theta = 2*(np.random.rand(np.shape(x_train_S)[1])-0.5) # initialize with a aryay in [-1 1]\n",
    "\n",
    "while iter_num <1000 and RMSE_diff>2e-23:\n",
    "    # update theta\n",
    "    theta = theta - 0.01/len(x_train_S_T)*x_train_S_T.dot(x_train_S.dot(theta)-y_train)\n",
    "    # apply to the testing data and calculate SE\n",
    "    y_test_predicted = x_test_S.dot(theta)\n",
    "    SE = (y_test-y_test_predicted).dot(y_test-y_test_predicted)\n",
    "    RMSE = np.sqrt(SE/len(y_test))\n",
    "    if iter_num==1:\n",
    "        RMSE_diff = RMSE\n",
    "    else:\n",
    "        RMSE_diff = abs((RMSE - RMSEs[-1])/RMSE)\n",
    "\n",
    "    RMSEs.append(RMSE)\n",
    "    iter_num += 1\n",
    "\n",
    "print('The final model  theta values is: '+str(theta))\n",
    "print('The final RMSE value is: '+str(RMSE))\n",
    "\n",
    "plt.figure()\n",
    "plt.plot(range(1,iter_num), RMSEs)\n",
    "plt.xlabel('# of iteration')\n",
    "plt.ylabel('RMSE')\n",
    "plt.grid(True)\n",
    "plt.savefig('images\\Q5.jpg')\n",
    "plt.show()"
   ]
  }
 ],
 "metadata": {
  "kernelspec": {
   "display_name": "Python 3",
   "language": "python",
   "name": "python3"
  },
  "language_info": {
   "codemirror_mode": {
    "name": "ipython",
    "version": 3
   },
   "file_extension": ".py",
   "mimetype": "text/x-python",
   "name": "python",
   "nbconvert_exporter": "python",
   "pygments_lexer": "ipython3",
   "version": "3.8.3"
  },
  "varInspector": {
   "cols": {
    "lenName": 16,
    "lenType": 16,
    "lenVar": 40
   },
   "kernels_config": {
    "python": {
     "delete_cmd_postfix": "",
     "delete_cmd_prefix": "del ",
     "library": "var_list.py",
     "varRefreshCmd": "print(var_dic_list())"
    },
    "r": {
     "delete_cmd_postfix": ") ",
     "delete_cmd_prefix": "rm(",
     "library": "var_list.r",
     "varRefreshCmd": "cat(var_dic_list()) "
    }
   },
   "types_to_exclude": [
    "module",
    "function",
    "builtin_function_or_method",
    "instance",
    "_Feature"
   ],
   "window_display": false
  }
 },
 "nbformat": 4,
 "nbformat_minor": 2
}
