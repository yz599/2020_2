{
 "cells": [
  {
   "cell_type": "markdown",
   "metadata": {},
   "source": [
    "# 1. Sampling\n",
    "- seed()\n",
    "- sampling from a list\n",
    "- shuffle a list\n",
    "\n",
    "---\n",
    "- random moduel  \n",
    "\n",
    "\n",
    "|   |   |   |   |   |\n",
    "|---|---|---|---|---|\n",
    "| with replacement  |  .choices(l,4) |   |   |   |\n",
    "|  without |.sample(l,4)   |   |   |   |\n",
    "| randomize in-place  | .shuffle(l)  |   |   |   |\n",
    " \n",
    "- np.random \n",
    " - np.random.choice()\n",
    " - np.random.sample()\n",
    "\n",
    "Permutation of the list\n",
    "  - The shuffle() method makes changes to the original array.\n",
    "  - The permutation() method returns a re-arranged array (and leaves the original array un-changed)."
   ]
  },
  {
   "cell_type": "code",
   "execution_count": 2,
   "metadata": {},
   "outputs": [
    {
     "name": "stdout",
     "output_type": "stream",
     "text": [
      "four\n",
      "['three', 'three', 'three']\n"
     ]
    }
   ],
   "source": [
    "import random\n",
    "items = ['one', 'two', 'three', 'four', 'five']\n",
    "print(random.choice(items))\n",
    "print(random.choices(items, k=3))"
   ]
  },
  {
   "cell_type": "code",
   "execution_count": null,
   "metadata": {},
   "outputs": [],
   "source": []
  }
 ],
 "metadata": {
  "kernelspec": {
   "display_name": "Python 3",
   "language": "python",
   "name": "python3"
  },
  "language_info": {
   "codemirror_mode": {
    "name": "ipython",
    "version": 3
   },
   "file_extension": ".py",
   "mimetype": "text/x-python",
   "name": "python",
   "nbconvert_exporter": "python",
   "pygments_lexer": "ipython3",
   "version": "3.8.3"
  },
  "varInspector": {
   "cols": {
    "lenName": 16,
    "lenType": 16,
    "lenVar": 40
   },
   "kernels_config": {
    "python": {
     "delete_cmd_postfix": "",
     "delete_cmd_prefix": "del ",
     "library": "var_list.py",
     "varRefreshCmd": "print(var_dic_list())"
    },
    "r": {
     "delete_cmd_postfix": ") ",
     "delete_cmd_prefix": "rm(",
     "library": "var_list.r",
     "varRefreshCmd": "cat(var_dic_list()) "
    }
   },
   "types_to_exclude": [
    "module",
    "function",
    "builtin_function_or_method",
    "instance",
    "_Feature"
   ],
   "window_display": false
  }
 },
 "nbformat": 4,
 "nbformat_minor": 4
}
