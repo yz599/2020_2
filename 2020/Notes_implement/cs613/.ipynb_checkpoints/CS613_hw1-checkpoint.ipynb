{
 "cells": [
  {
   "cell_type": "markdown",
   "metadata": {},
   "source": [
    "# 1. Linear regression\n",
    "- Compute the coefficients for the linear regression using least squares estimate (LSE)"
   ]
  },
  {
   "cell_type": "code",
   "execution_count": 4,
   "metadata": {},
   "outputs": [],
   "source": [
    "import numpy as np\n",
    "from scipy import linalg"
   ]
  },
  {
   "cell_type": "markdown",
   "metadata": {},
   "source": [
    "## 1.1.1 LSE "
   ]
  },
  {
   "cell_type": "code",
   "execution_count": 5,
   "metadata": {},
   "outputs": [],
   "source": [
    "x=np.array([[-2,-5,-3,0,-6,-2,1,5,-1,3]]).T\n",
    "x_norm=(x-x.mean())/x.std()\n",
    "\n",
    "y=np.array([[1,-4,1,3,11,5,0,-1,-3,1]]).T"
   ]
  },
  {
   "cell_type": "code",
   "execution_count": 6,
   "metadata": {},
   "outputs": [],
   "source": [
    "bias=np.array([[1]*10]).T"
   ]
  },
  {
   "cell_type": "code",
   "execution_count": 7,
   "metadata": {},
   "outputs": [],
   "source": [
    "X=np.hstack([bias,x_norm])"
   ]
  },
  {
   "cell_type": "code",
   "execution_count": 8,
   "metadata": {},
   "outputs": [
    {
     "data": {
      "text/plain": [
       "array([[ 1.        , -0.31008684],\n",
       "       [ 1.        , -1.24034735],\n",
       "       [ 1.        , -0.62017367],\n",
       "       [ 1.        ,  0.31008684],\n",
       "       [ 1.        , -1.55043418],\n",
       "       [ 1.        , -0.31008684],\n",
       "       [ 1.        ,  0.62017367],\n",
       "       [ 1.        ,  1.86052102],\n",
       "       [ 1.        ,  0.        ],\n",
       "       [ 1.        ,  1.24034735]])"
      ]
     },
     "execution_count": 8,
     "metadata": {},
     "output_type": "execute_result"
    }
   ],
   "source": [
    "X"
   ]
  },
  {
   "cell_type": "code",
   "execution_count": 9,
   "metadata": {},
   "outputs": [],
   "source": [
    "x_T_x_inv=linalg.inv(np.dot(X.T,X))\n",
    "ethta_close=x_T_x_inv@np.dot(X.T,y)"
   ]
  },
  {
   "cell_type": "code",
   "execution_count": 10,
   "metadata": {},
   "outputs": [
    {
     "data": {
      "text/plain": [
       "array([[ 1.4       ],\n",
       "       [-1.42639945]])"
      ]
     },
     "execution_count": 10,
     "metadata": {},
     "output_type": "execute_result"
    }
   ],
   "source": [
    "ethta_close"
   ]
  },
  {
   "cell_type": "markdown",
   "metadata": {},
   "source": [
    "## 1.1.2 sklearn"
   ]
  },
  {
   "cell_type": "code",
   "execution_count": 11,
   "metadata": {},
   "outputs": [],
   "source": [
    "from sklearn.linear_model import LinearRegression"
   ]
  },
  {
   "cell_type": "code",
   "execution_count": 12,
   "metadata": {},
   "outputs": [],
   "source": [
    "lr=LinearRegression()"
   ]
  },
  {
   "cell_type": "code",
   "execution_count": 13,
   "metadata": {},
   "outputs": [
    {
     "data": {
      "text/plain": [
       "LinearRegression()"
      ]
     },
     "execution_count": 13,
     "metadata": {},
     "output_type": "execute_result"
    }
   ],
   "source": [
    "lr.fit(X,y)"
   ]
  },
  {
   "cell_type": "code",
   "execution_count": 14,
   "metadata": {},
   "outputs": [
    {
     "data": {
      "text/plain": [
       "array([[ 0.        , -1.42639945]])"
      ]
     },
     "execution_count": 14,
     "metadata": {},
     "output_type": "execute_result"
    }
   ],
   "source": [
    "lr.coef_"
   ]
  },
  {
   "cell_type": "code",
   "execution_count": 15,
   "metadata": {},
   "outputs": [
    {
     "data": {
      "text/plain": [
       "array([1.4])"
      ]
     },
     "execution_count": 15,
     "metadata": {},
     "output_type": "execute_result"
    }
   ],
   "source": [
    "lr.intercept_"
   ]
  },
  {
   "cell_type": "markdown",
   "metadata": {},
   "source": [
    "## 1.2 Gradient"
   ]
  },
  {
   "cell_type": "code",
   "execution_count": 19,
   "metadata": {},
   "outputs": [],
   "source": [
    "import matplotlib.pyplot as plt"
   ]
  },
  {
   "cell_type": "code",
   "execution_count": 20,
   "metadata": {},
   "outputs": [],
   "source": [
    "# What is the gradient with respect to x? Show your work to support your answer.\n",
    "g=(x-1)**4\n",
    "g_grad=4*(x-1)**3\n",
    "x=1 # is the minima since x<1,g_grad<0;x>1,g_grad>0"
   ]
  },
  {
   "cell_type": "code",
   "execution_count": 21,
   "metadata": {},
   "outputs": [
    {
     "data": {
      "text/plain": [
       "[<matplotlib.lines.Line2D at 0x7feb7bd8c2e0>]"
      ]
     },
     "execution_count": 21,
     "metadata": {},
     "output_type": "execute_result"
    },
    {
     "data": {
      "image/png": "[encoded data removed]",
      "text/plain": [
       "<Figure size 432x288 with 1 Axes>"
      ]
     },
     "metadata": {
      "needs_background": "light"
     },
     "output_type": "display_data"
    }
   ],
   "source": [
    "x=np.linspace(-10,10,50)\n",
    "plt.plot(x,g)"
   ]
  },
  {
   "cell_type": "markdown",
   "metadata": {},
   "source": [
    "## 2. Closed Form linear regression"
   ]
  },
  {
   "cell_type": "code",
   "execution_count": 22,
   "metadata": {},
   "outputs": [],
   "source": [
    "import pandas as pd"
   ]
  },
  {
   "cell_type": "code",
   "execution_count": 23,
   "metadata": {},
   "outputs": [],
   "source": [
    "df=pd.read_csv('HW1/x06Simple.csv')\n",
    "df.drop('Index',axis=1,inplace=True)"
   ]
  },
  {
   "cell_type": "code",
   "execution_count": 24,
   "metadata": {},
   "outputs": [],
   "source": [
    "raw_data=df.values"
   ]
  },
  {
   "cell_type": "markdown",
   "metadata": {},
   "source": [
    "#### Q1. How to properly do permutation"
   ]
  },
  {
   "cell_type": "code",
   "execution_count": 27,
   "metadata": {},
   "outputs": [],
   "source": [
    "np.random.seed(0)\n",
    "shuffle_idx=np.random.permutation(len(raw_data))\n",
    "shuffled_data=raw_data[shuffle_idx]"
   ]
  },
  {
   "cell_type": "code",
   "execution_count": 29,
   "metadata": {},
   "outputs": [],
   "source": [
    "training=shuffled_data[:round(len(raw_data)*2/3)]\n",
    "testing=shuffled_data[round(len(raw_data)*2/3):]"
   ]
  },
  {
   "cell_type": "code",
   "execution_count": 30,
   "metadata": {},
   "outputs": [],
   "source": [
    "x_training_raw=training[:,:2]\n",
    "x_testing_raw=testing[:,:2]"
   ]
  },
  {
   "cell_type": "markdown",
   "metadata": {},
   "source": [
    "#### Q2. Mean values of columns of a matrix\n",
    "- split the data firtst\n",
    "- use training mean/std to standardize testing"
   ]
  },
  {
   "cell_type": "code",
   "execution_count": 48,
   "metadata": {},
   "outputs": [],
   "source": [
    "\n",
    "x_training_norm=(x_training_raw-x_training_raw.mean(axis=0))/x_training_raw.std(axis=0)\n",
    "bias_training=np.array([[1]*len(x_training_norm)]).T\n",
    "x_training=np.hstack([bias_training,x_training_norm])\n",
    "\n",
    "x_testing_norm=(x_testing_raw-x_training_raw.mean(axis=0))/x_training_raw.std(axis=0)\n",
    "bias_testing=np.array([[1]*len(x_testing_norm)]).T\n",
    "x_testing=np.hstack([bias_testing,x_testing_norm])"
   ]
  },
  {
   "cell_type": "code",
   "execution_count": 49,
   "metadata": {},
   "outputs": [],
   "source": [
    "y_training=training[:,-1]\n",
    "y_testing=testing[:,-1]"
   ]
  },
  {
   "cell_type": "code",
   "execution_count": 50,
   "metadata": {},
   "outputs": [],
   "source": [
    "## closed solution of the linear regression\n",
    "x_T_x_inv=linalg.inv(np.dot(x_training.T,x_training))\n",
    "ethta=x_T_x_inv@np.dot(x_training.T,y_training)"
   ]
  },
  {
   "cell_type": "code",
   "execution_count": 51,
   "metadata": {},
   "outputs": [
    {
     "data": {
      "text/plain": [
       "array([3343.27586207, 1018.60043916, -290.52614155])"
      ]
     },
     "execution_count": 51,
     "metadata": {},
     "output_type": "execute_result"
    }
   ],
   "source": [
    "ethta"
   ]
  },
  {
   "cell_type": "code",
   "execution_count": 52,
   "metadata": {},
   "outputs": [],
   "source": [
    "y_pre=np.dot(x_testing,ethta)"
   ]
  },
  {
   "cell_type": "markdown",
   "metadata": {},
   "source": [
    "#### Q3. Defination of RMSE"
   ]
  },
  {
   "cell_type": "code",
   "execution_count": 57,
   "metadata": {},
   "outputs": [],
   "source": [
    "RMSE=np.linalg.norm(y_pre-y_testing)/np.sqrt(len(y_pre))"
   ]
  },
  {
   "cell_type": "code",
   "execution_count": 58,
   "metadata": {},
   "outputs": [
    {
     "data": {
      "text/plain": [
       "653.7601025967209"
      ]
     },
     "execution_count": 58,
     "metadata": {},
     "output_type": "execute_result"
    }
   ],
   "source": [
    "RMSE"
   ]
  },
  {
   "cell_type": "markdown",
   "metadata": {},
   "source": [
    "## 3. S-Folds Cross-Validation"
   ]
  },
  {
   "cell_type": "code",
   "execution_count": 104,
   "metadata": {},
   "outputs": [],
   "source": [
    "from sklearn.model_selection import KFold"
   ]
  },
  {
   "cell_type": "code",
   "execution_count": 143,
   "metadata": {},
   "outputs": [],
   "source": [
    "def s_fold(s,data,i):\n",
    "    kf = KFold(n_splits=s,shuffle=True,random_state=i)\n",
    "    split=kf.split(data)\n",
    "    return split"
   ]
  },
  {
   "cell_type": "code",
   "execution_count": 115,
   "metadata": {},
   "outputs": [],
   "source": [
    "def preprocess(data,train_inx,test_inx):\n",
    "    x=data[:,:-1]\n",
    "    y=data[:,-1]\n",
    "    x_train,y_train=x[train_inx],y[train_inx]\n",
    "    x_test,y_test=x[test_inx],y[test_inx]\n",
    "    \n",
    "    mean=x_train.mean(axis=0)\n",
    "    std=x_train.std(axis=0)\n",
    "    \n",
    "    x_train_norm=(x_train-mean)/std\n",
    "    x_train_bias=np.c_[np.ones((len(x_train_norm),1)),x_train_norm]\n",
    "    \n",
    "    x_test_norm=(x_test-mean)/std\n",
    "    x_test_bias=np.c_[np.ones((len(x_test_norm),1)),x_test_norm]\n",
    "    \n",
    "    return x_train_bias,x_test_bias,y_train,y_test\n",
    "    \n",
    "    \n",
    "    "
   ]
  },
  {
   "cell_type": "code",
   "execution_count": 116,
   "metadata": {},
   "outputs": [],
   "source": [
    "def lr(data,train_inx,test_inx):\n",
    "    x_train_bias,x_test_bias,y_train,y_test=preprocess(data,train_inx,test_inx)\n",
    "    x_T_x_inv=linalg.inv(np.dot(x_train_bias.T,x_train_bias))\n",
    "    ethta=x_T_x_inv@np.dot(x_train_bias.T,y_train)\n",
    "    \n",
    "    y_pre=np.dot(x_test_bias,ethta)\n",
    "    RMSE=np.linalg.norm(y_pre-y_test)/np.sqrt(len(y_pre))\n",
    "    return RMSE\n",
    "    "
   ]
  },
  {
   "cell_type": "code",
   "execution_count": 144,
   "metadata": {},
   "outputs": [],
   "source": [
    "def fitting(fold_n,data):\n",
    "    RMSE=[]\n",
    "    for i in range(20):\n",
    "        folds=s_fold(fold_n,data,i)\n",
    "        for training ,testing in folds:\n",
    "            RMSE.append(lr(data,training,testing))\n",
    "    return np.array(RMSE)"
   ]
  },
  {
   "cell_type": "code",
   "execution_count": 147,
   "metadata": {},
   "outputs": [],
   "source": [
    "## Split the data\n",
    "folds=[3,5,20,len(raw_data)]\n",
    "RM={}\n",
    "for n in folds:\n",
    "    RMSE=fitting(n,raw_data,)\n",
    "    RM[str(n)+' folds mean']=RMSE.mean()\n",
    "    RM[str(n)+' folds std']=RMSE.std()"
   ]
  },
  {
   "cell_type": "code",
   "execution_count": 148,
   "metadata": {},
   "outputs": [
    {
     "data": {
      "text/plain": [
       "{'3 folds mean': 631.4717925250476,\n",
       " '3 folds std': 96.87127472316996,\n",
       " '5 folds mean': 612.8558982035155,\n",
       " '5 folds std': 134.74324240615724,\n",
       " '20 folds mean': 551.7659454590648,\n",
       " '20 folds std': 277.59366236734184,\n",
       " '44 folds mean': 493.47325987665596,\n",
       " '44 folds std': 380.94370889491137}"
      ]
     },
     "execution_count": 148,
     "metadata": {},
     "output_type": "execute_result"
    }
   ],
   "source": [
    "RM"
   ]
  },
  {
   "cell_type": "markdown",
   "metadata": {},
   "source": [
    "## 4. Locally weighted Lr"
   ]
  },
  {
   "cell_type": "code",
   "execution_count": 160,
   "metadata": {},
   "outputs": [],
   "source": [
    "from sklearn.model_selection import train_test_split"
   ]
  },
  {
   "cell_type": "code",
   "execution_count": 213,
   "metadata": {},
   "outputs": [],
   "source": [
    "def norm_bias(data,test_size):\n",
    "    x=data[:,:-1]\n",
    "    y=data[:,-1]\n",
    "    x_train,x_test,y_train,y_test=train_test_split(x,y,test_size=test_size,random_state=1)\n",
    "    \n",
    "    mean=x_train.mean(axis=0)\n",
    "    std=x_train.std(axis=0)\n",
    "    \n",
    "    \n",
    "    x_train_norm=(x_train-mean)/std\n",
    "    x_train_bias=np.c_[np.ones((len(x_train_norm),1)),x_train_norm]\n",
    "    \n",
    "    x_test_norm=(x_test-mean)/std\n",
    "    x_test_bias=np.c_[np.ones((len(x_test_norm),1)),x_test_norm]\n",
    "    \n",
    "    return x_train_bias,x_test_bias,y_train,y_test\n",
    "\n",
    "\n",
    "    "
   ]
  },
  {
   "cell_type": "code",
   "execution_count": 305,
   "metadata": {},
   "outputs": [],
   "source": [
    "\n",
    "x_train,x_test,y_train,y_test=norm_bias(raw_data,test_size=0.33)\n",
    "\n",
    "RSE=[]\n",
    "k=1\n",
    "i=0\n",
    "for query_point in x_test:\n",
    "    d=np.linalg.norm((x_train-query_point),axis=1)\n",
    "    weights=np.exp(-(d**2)/(k**2))\n",
    "    weights_matrix=np.diag(weights)\n",
    "    \n",
    "    x_T_w_x=np.dot(np.dot(x_train.T,weights_matrix),x_train)\n",
    "    \n",
    "    \n",
    "    ethta=np.linalg.inv(x_T_w_x)@x_train.T@weights_matrix@y_train\n",
    "    \n",
    "    y_pre=np.dot(ethta,query_point)\n",
    "    \n",
    "    RSE.append((y_pre-y_test[i])**2)\n",
    "    i=i+1\n",
    "\n",
    "\n",
    "\n",
    "\n",
    "\n"
   ]
  },
  {
   "cell_type": "code",
   "execution_count": 307,
   "metadata": {},
   "outputs": [],
   "source": [
    "RMSE=np.sqrt(sum(RSE)/len(RSE))"
   ]
  },
  {
   "cell_type": "code",
   "execution_count": 308,
   "metadata": {},
   "outputs": [
    {
     "data": {
      "text/plain": [
       "312.097711347849"
      ]
     },
     "execution_count": 308,
     "metadata": {},
     "output_type": "execute_result"
    }
   ],
   "source": [
    "RMSE"
   ]
  },
  {
   "cell_type": "code",
   "execution_count": 248,
   "metadata": {},
   "outputs": [
    {
     "data": {
      "text/plain": [
       "array([ 4.38974627e+03,  1.30257355e+00, -6.35586985e+02])"
      ]
     },
     "execution_count": 248,
     "metadata": {},
     "output_type": "execute_result"
    }
   ],
   "source": [
    "ethta"
   ]
  },
  {
   "cell_type": "markdown",
   "metadata": {},
   "source": [
    "## 5. Gradient descent"
   ]
  },
  {
   "cell_type": "code",
   "execution_count": 233,
   "metadata": {},
   "outputs": [],
   "source": [
    "x_train,x_test,y_train,y_test=norm_bias(raw_data,test_size=0.33)"
   ]
  },
  {
   "cell_type": "code",
   "execution_count": 301,
   "metadata": {},
   "outputs": [],
   "source": [
    "def gd(x_train,x_test,y_train,y_test,n_iter=1000):\n",
    "\n",
    "    \n",
    "    ethta_init=np.random.rand(3)\n",
    "    ethta=ethta_init*2-1\n",
    "    \n",
    "    lrate=0.01\n",
    "    RMSE_train=[]\n",
    "    RMSE_test=[]\n",
    "    while inter< n\n",
    "    for i in range(1000):\n",
    "        gradient=2*np.dot(x_train.T,(np.dot(x_train,ethta)-y_train))\n",
    "        ethta=ethta-gradient*lrate\n",
    "        y_pre=np.dot(x_train,ethta)\n",
    "        rmse_train=np.linalg.norm(y_pre-y_train)/np.sqrt(len(y_pre))\n",
    "        RMSE_train.append(rmse_train)\n",
    "        \n",
    "        if (len(RMSE_train)>1):\n",
    "            rmse_diff=abs((RMSE_train[-2]-rmse_train)/rmse_train)\n",
    "            if rmse_diff<2e-23:\n",
    "                break\n",
    "        \n",
    "        y_pre_test=np.dot(x_test,ethta)\n",
    "        rmse_test=np.linalg.norm(y_pre_test-y_test)/np.sqrt(len(y_pre_test))\n",
    "        RMSE_test.append(rmse_test)\n",
    "        \n",
    "        \n",
    "\n",
    "    return RMSE_test,ethta\n",
    "   "
   ]
  },
  {
   "cell_type": "code",
   "execution_count": 302,
   "metadata": {},
   "outputs": [],
   "source": [
    "rmse,ethta=gd(x_train,x_test,y_train,y_test)"
   ]
  },
  {
   "cell_type": "code",
   "execution_count": 303,
   "metadata": {},
   "outputs": [
    {
     "data": {
      "text/plain": [
       "[<matplotlib.lines.Line2D at 0x7feb7bb288e0>]"
      ]
     },
     "execution_count": 303,
     "metadata": {},
     "output_type": "execute_result"
    },
    {
     "data": {
      "image/png": "[encoded data removed]",
      "text/plain": [
       "<Figure size 432x288 with 1 Axes>"
      ]
     },
     "metadata": {
      "needs_background": "light"
     },
     "output_type": "display_data"
    }
   ],
   "source": [
    "plt.plot(rmse)"
   ]
  },
  {
   "cell_type": "code",
   "execution_count": 304,
   "metadata": {},
   "outputs": [
    {
     "data": {
      "text/plain": [
       "array([3203.51724016, 1041.56759154, -107.41800512])"
      ]
     },
     "execution_count": 304,
     "metadata": {},
     "output_type": "execute_result"
    }
   ],
   "source": [
    "ethta"
   ]
  },
  {
   "cell_type": "code",
   "execution_count": null,
   "metadata": {},
   "outputs": [],
   "source": []
  }
 ],
 "metadata": {
  "kernelspec": {
   "display_name": "Python 3",
   "language": "python",
   "name": "python3"
  },
  "language_info": {
   "codemirror_mode": {
    "name": "ipython",
    "version": 3
   },
   "file_extension": ".py",
   "mimetype": "text/x-python",
   "name": "python",
   "nbconvert_exporter": "python",
   "pygments_lexer": "ipython3",
   "version": "3.8.3"
  },
  "varInspector": {
   "cols": {
    "lenName": 16,
    "lenType": 16,
    "lenVar": 40
   },
   "kernels_config": {
    "python": {
     "delete_cmd_postfix": "",
     "delete_cmd_prefix": "del ",
     "library": "var_list.py",
     "varRefreshCmd": "print(var_dic_list())"
    },
    "r": {
     "delete_cmd_postfix": ") ",
     "delete_cmd_prefix": "rm(",
     "library": "var_list.r",
     "varRefreshCmd": "cat(var_dic_list()) "
    }
   },
   "types_to_exclude": [
    "module",
    "function",
    "builtin_function_or_method",
    "instance",
    "_Feature"
   ],
   "window_display": false
  }
 },
 "nbformat": 4,
 "nbformat_minor": 4
}
