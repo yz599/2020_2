{
 "cells": [
  {
   "cell_type": "markdown",
   "metadata": {
    "collapsed": true,
    "pycharm": {
     "name": "#%% md\n"
    }
   },
   "source": [
    "## Elements of algorithm\n",
    "\n",
    "Algorithms, in their simplest form, are just a sequence of actions, **a list of instructions**.\n",
    "\n",
    "Essentially, we can say that algorithms are composed of the following **four elements**:\n",
    "- Sequential operations\n",
    "- Actions based on the state of a data structure\n",
    "- Iteration, repeating an action a number of times\n",
    "- Recursion, calling itself on a subset of inputs\n"
   ]
  },
  {
   "cell_type": "markdown",
   "source": [
    "In general, we can discern three broad approaches to algorithm design. They are:\n",
    "- Divide and conquer\n",
    "- Greedy algorithms\n",
    "- Dynamic programming\n",
    "\n",
    "\n",
    "### 1. Variable in python as reference\n",
    "\n",
    "Variable names can be bound to different values and types during program execution. Each value is of a type, a string, or integer for\n",
    "example; however, the name that points to this value does not have a specific type.\n",
    "\n",
    "This is different from many languages such as C and Java where a name represents a fixed size,\n",
    "type, and location in memory. This means when we initialize variables in Python, we do not\n",
    "need to declare a type. Also, variables, or more specifically the objects they point to, can\n",
    "change type depending on the values assigned to them,\n",
    "\n",
    "\n",
    "- All data types in Python are objects. In fact, pretty much everything is an object in Python,\n",
    "including modules, classes, and functions, as well as literals such as strings and integers.\n",
    "- Each object in Python has **a type, a value, and an identity**.\n",
    "\n",
    "greet =\"hello world\"\n",
    "- an instance of a string object with the\n",
    "- value \"hello world\" and the identity of greet.\n",
    "- The identity of an object acts as a pointer to the object's location in memory.\n",
    "\n",
    "The type of an object, also known as the object's class, describes the\n",
    "object's internal representation as well as the methods and operations it supports. Once an\n",
    "instance of an object is created, its identity and type cannot be changed.\n",
    "\n",
    "#### 1.1 Compare with Variable in C\n",
    "![]"
   ],
   "metadata": {
    "collapsed": false,
    "pycharm": {
     "name": "#%% md\n"
    }
   }
  },
  {
   "cell_type": "code",
   "execution_count": null,
   "outputs": [],
   "source": [],
   "metadata": {
    "collapsed": false,
    "pycharm": {
     "name": "#%%\n"
    }
   }
  }
 ],
 "metadata": {
  "kernelspec": {
   "display_name": "Python 3",
   "language": "python",
   "name": "python3"
  },
  "language_info": {
   "codemirror_mode": {
    "name": "ipython",
    "version": 2
   },
   "file_extension": ".py",
   "mimetype": "text/x-python",
   "name": "python",
   "nbconvert_exporter": "python",
   "pygments_lexer": "ipython2",
   "version": "2.7.6"
  }
 },
 "nbformat": 4,
 "nbformat_minor": 0
}