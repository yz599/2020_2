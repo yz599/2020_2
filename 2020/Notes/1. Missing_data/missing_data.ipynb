{
 "cells": [
  {
   "cell_type": "markdown",
   "metadata": {},
   "source": [
    "[Missing data in datacamp](https://campus.datacamp.com/courses/dealing-with-missing-data-in-python/the-problem-with-missing-data?ex=1)"
   ]
  },
  {
   "cell_type": "code",
   "execution_count": 2,
   "metadata": {},
   "outputs": [],
   "source": [
    "import numpy as np"
   ]
  },
  {
   "cell_type": "markdown",
   "metadata": {},
   "source": [
    "None is of type NoneType while np.nan is of float. This allows np.nan to have both arithmetic and logical operations"
   ]
  },
  {
   "cell_type": "code",
   "execution_count": 1,
   "metadata": {},
   "outputs": [
    {
     "name": "stdout",
     "output_type": "stream",
     "text": [
      "None doesn't support arithmetic operations!\n"
     ]
    }
   ],
   "source": [
    "\n",
    "try:\n",
    "    print('add operation output of None', None+None)\n",
    "except TypeError:\n",
    "    print(\"None doesn't support arithmetic operations!\")"
   ]
  },
  {
   "cell_type": "code",
   "execution_count": 3,
   "metadata": {},
   "outputs": [
    {
     "name": "stdout",
     "output_type": "stream",
     "text": [
      "Add operation output of 'np.nan':  nan\n"
     ]
    }
   ],
   "source": [
    "try:\n",
    "  # Print the sum of two np.nan's\n",
    "  print(\"Add operation output of 'np.nan': \", np.nan+np.nan)\n",
    "\n",
    "except TypeError:\n",
    "  # Print if error\n",
    "  print(\"'np.nan' does not support Arithmetic Operations!!\")"
   ]
  },
  {
   "cell_type": "code",
   "execution_count": 4,
   "metadata": {},
   "outputs": [
    {
     "name": "stdout",
     "output_type": "stream",
     "text": [
      "OR operation output of 'None':  None\n"
     ]
    }
   ],
   "source": [
    "try:\n",
    "  # Print the output of logical OR of two None's\n",
    "  print(\"OR operation output of 'None': \", None or None)\n",
    "\n",
    "except TypeError:\n",
    "  # Print if error\n",
    "  print(\"'None' does not support Logical Operations!!\")"
   ]
  },
  {
   "cell_type": "code",
   "execution_count": 5,
   "metadata": {},
   "outputs": [
    {
     "name": "stdout",
     "output_type": "stream",
     "text": [
      "OR operation output of 'np.nan':  nan\n"
     ]
    }
   ],
   "source": [
    "try:\n",
    "  # Print the output of logical OR of two np.nan's\n",
    "  print(\"OR operation output of 'np.nan': \", np.nan or np.nan)\n",
    "\n",
    "except TypeError:\n",
    "  # Print if error\n",
    "  print(\"'np.nan' does not support Logical Operations!!\")"
   ]
  },
  {
   "cell_type": "code",
   "execution_count": null,
   "metadata": {},
   "outputs": [],
   "source": []
  }
 ],
 "metadata": {
  "kernelspec": {
   "display_name": "Python 3",
   "language": "python",
   "name": "python3"
  },
  "language_info": {
   "codemirror_mode": {
    "name": "ipython",
    "version": 3
   },
   "file_extension": ".py",
   "mimetype": "text/x-python",
   "name": "python",
   "nbconvert_exporter": "python",
   "pygments_lexer": "ipython3",
   "version": "3.8.3"
  }
 },
 "nbformat": 4,
 "nbformat_minor": 4
}
